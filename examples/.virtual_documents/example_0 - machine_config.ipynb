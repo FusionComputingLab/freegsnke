





import numpy as np
import pickle





eta_copper = 1.55e-8  # Resistivity in Ohm*m





# P1_lower and P1_upper windings radial positions
P1_r = [0.75, 0.77]

# P1_upper windings vertical positions
P1_upper_z = [1.1, 1.12]

# P1_lower and P1_upper width and height
P1_dr = 0.02
P1_dz = 0.02

# As above, but for the P2_lower and P2_upper coils
P2_r = [1.75, 1.77]
P2_upper_z = [0.6, 0.62]
P2_dr = 0.02
P2_dz = 0.02

# Finally, the Pz coil
Pz_r = [1.75, 1.75]
Pz_z = [0.0, 0.0]
Pz_dr = 0.02
Pz_dz = 0.02





active_coils_dict = {}





active_coils_dict["Pz"] = {
    "R": Pz_r,
    "Z": Pz_z,
    "dR": Pz_dr,
    "dZ": Pz_dz,
    "resistivity": eta_copper,
    "polarity": 1,
}





# The P1 coil group is instantiated as a dictionary
active_coils_dict["P1"] = {}

# Populate with the P1_upper coil information
active_coils_dict["P1"]["upper"] = {
    "R": P1_r,
    "Z": P1_upper_z,
    "dR": P1_dr,
    "dZ": P1_dz,
    "resistivity": eta_copper,
    "polarity": 1,
}

# Populate with the P1_lower coil information
active_coils_dict["P1"]["lower"] = {
    "R": P1_r,
    "Z": [-1*z for z in P1_upper_z],
    "dR": P1_dr,
    "dZ": P1_dz,
    "resistivity": eta_copper,
    "polarity": 1,
}





active_coils_dict["P2"] = {}
active_coils_dict["P2"]["upper"] = {
    "R": P2_r,
    "Z": P2_upper_z,
    "dR": P2_dr,
    "dZ": P2_dz,
    "resistivity": eta_copper,
    "polarity": 1,
    "multiplier": 1
}
active_coils_dict["P2"]["lower"] = {
    "R": P2_r,
    "Z": [-1*z for z in P2_upper_z],
    "dR": P2_dr,
    "dZ": P2_dz,
    "resistivity": eta_copper,
    "polarity": 1,
    "multiplier": 1
}





active_coils_dict["Solenoid"] = {
    "R": [0.2]*150,
    "Z": list(np.linspace(-0.8, 0.8, 150)),
    "dR": 0.012,
    "dZ": 0.018,
    "polarity": 1,
    "resistivity": eta_copper,
    "multiplier": 1
}





#with open("active_coils.pickle", "wb") as f:
#    pickle.dump(test_active_coils, f)





resistivity_wall = 5.5e-7

passive_coils = []

# some individual filaments
passive_coils.append({
    "R": 1.5,
    "Z": -.7,
    "dR": 0.05,
    "dZ": 0.05,
    "resistivity": resistivity_wall
})

passive_coils.append({
    "R": 1.5,
    "Z": .7,
    "dR": 0.05,
    "dZ": 0.05,
    "resistivity": resistivity_wall
})

# some polygons to be refined
passive_coils.append({
    "R": [.3,2.1,2.1,.3],
    "Z": [-1,-1,-1.05,-1.05],
    "n_refine": 100,
    "name": 'lower_wall',
    "resistivity": resistivity_wall
})

passive_coils.append({
    "R": [.3,2.1,2.1,.3],
    "Z": [1,1,1.05,1.05],
    "name": 'upper_wall',
    "resistivity": resistivity_wall
})

passive_coils.append({
    "R": [.3,.325,.325,.3],
    "Z": [-1.05,-1.05,1,1],
    "name": 'left_wall',
    "resistivity": resistivity_wall
})

passive_coils.append({
    "R": [2,2.1,2.1,2],
    "Z": [-1.05,-1.05,1,1],
    "name": 'right_wall',
    "resistivity": resistivity_wall
})





#with open("passive_coils.pickle", "wb") as f:
#    pickle.dump(test_passive_coils, f)





r_limiter = [0.325,  0.325, 1.625, 1.625 ]
z_limiter = [-0.975, 0.975, 0.975, -0.975]

limiter = []
for r, z in zip(r_limiter, z_limiter):
    limiter.append({"R": r, "Z": z})





#with open ("limiter.pickle", "wb") as f:
#    pickle.dump(test_limiter, f)





wall = limiter
#with open("wall.pickle", "wb") as f:
#    pickle.dump(test_wall, f)





# create list of flux loop dictionaries
flux_loops = []
flux_loops.append({'name': 'fl_nu_01', 'position': np.array([0.901 , 1.3582])})
flux_loops.append({'name': 'fl_nu_02', 'position':np.array([0.9544   , 1.3041999])})

# create list of pickup coil dictionaries
pickup_coils = []
pickup_coils.append({'name': 'b_c1_p01', 'position': np.array([2.76900e-01, 3.00000e+02, 1.26203e+00]), 'orientation': 'PARALLEL', 'orientation_vector': np.array([0., 0., 1.])}
)
pickup_coils.append({'name': 'b_c1_t02', 'position': np.array([2.7689108e-01, 2.9999680e+02, 1.2245095e+00]), 'orientation': 'TOROIDAL', 'orientation_vector': np.array([0., 1., 0.])}
)

# create magnetic probes dictionary
magnetic_probes = {'flux_loops': flux_loops, 'pickups': pickup_coils}

# save as pickle file
#with open("magnetic_probes.pickle", "wb") as f:
#    pickle.dump(test_magnetic_probes, f)





import matplotlib.pyplot as plt
from matplotlib.patches import Polygon,Rectangle


fig, ax = plt.subplots(figsize=(4, 8), dpi=80)

# Active coils
def plot_active_coil(ax, coil, label=None):
    ax.plot(coil["R"], coil["Z"], c="blue", marker="s", ls="", label=label)


for coil in ["P1", "P2"]:
    plot_active_coil(ax, active_coils_dict[coil]["upper"])
    plot_active_coil(ax, active_coils_dict[coil]["lower"])
plot_active_coil(ax, active_coils_dict["Pz"])
plot_active_coil(ax, active_coils_dict["Solenoid"], label='Active coils')


# Passive structure
for i, p in enumerate(passive_coils):
    if np.size(p['R'])>1:
        rect = Polygon(np.concatenate((np.array(p['R'])[:,np.newaxis], 
                                       np.array(p['Z'])[:,np.newaxis]), axis=1), color='grey',
        label='Passive structures' if i==0 else None
        )
    else:
        rect = Rectangle(
            (p["R"]-0.5*p["dR"], p["Z"]-0.5*p["dZ"]),
            p["dR"],
            p["dZ"], color='grey',
            label='Passive structures' if i==0 else None
        )
    ax.add_patch(rect)

# Limiter
ax.plot(
    [l["R"] for l in limiter] + [limiter[0]["R"]],
    [l["Z"] for l in limiter] + [limiter[0]["Z"]],
    c='k',
    ls='--',
    label='Wall and limiter'
)

ax.set_xlabel(r'Major radius [$m$]')
ax.set_ylabel(r'Height [$m$]')
ax.legend(loc='upper right')
plt.tight_layout()  # adjust subplots to fit into the figure area without overlapping
plt.show()









