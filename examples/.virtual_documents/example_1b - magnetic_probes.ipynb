





import numpy as np
import os
import matplotlib.pyplot as plt


# set paths
os.environ["ACTIVE_COILS_PATH"] = f"../machine_configs/MAST-U/MAST-U_like_active_coils.pickle"
os.environ["PASSIVE_COILS_PATH"] = f"../machine_configs/MAST-U/MAST-U_like_passive_coils.pickle"
os.environ["WALL_PATH"] = f"../machine_configs/MAST-U/MAST-U_like_wall.pickle"
os.environ["LIMITER_PATH"] = f"../machine_configs/MAST-U/MAST-U_like_limiter.pickle"
os.environ["PROBE_PATH"] = f"../machine_configs/MAST-U/MAST-U_like_magnetic_probes.pickle"   # new probe path

# build the machine
from freegsnke import build_machine
tokamak = build_machine.tokamak()

# initialise the equilibrium
from freegsnke import equilibrium_update
eq = equilibrium_update.Equilibrium(
    tokamak=tokamak,
    Rmin=0.1, Rmax=2.0,   # Radial range
    Zmin=-2.2, Zmax=2.2,  # Vertical range
    nx=65,                # Number of grid points in the radial direction (needs to be of the form (2**n + 1) with n being an integer)
    ny=129,               # Number of grid points in the vertical direction (needs to be of the form (2**n + 1) with n being an integer)
    # psi=plasma_psi
)  

# initialise the profiles
from freegsnke.jtor_update import ConstrainPaxisIp
profiles = ConstrainPaxisIp(
    eq=eq,        # equilibrium object
    paxis=8e3,    # profile object
    Ip=6e5,       # plasma current
    fvac=0.5,     # fvac = rB_{tor}
    alpha_m=1.8,  # profile function parameter
    alpha_n=1.2   # profile function parameter
)

# load the nonlinear solver
from freegsnke import GSstaticsolver
GSStaticSolver = GSstaticsolver.NKGSsolver(eq)    

# set the coil currents
import pickle
with open('simple_diverted_currents_PaxisIp.pk', 'rb') as f:
    current_values = pickle.load(f)
for key in current_values.keys():
    eq.tokamak[key].current = current_values[key]

# carry out the foward solve to find the equilibrium
GSStaticSolver.solve(eq=eq, 
                     profiles=profiles, 
                     constrain=None, 
                     target_relative_tolerance=1e-9)

# updates the plasma_psi (for later on)
eq._updatePlasmaPsi(eq.plasma_psi)

# plot the resulting equilbria 
fig1, ax1 = plt.subplots(1, 1, figsize=(4, 8), dpi=80)
ax1.grid(True, which='both')
eq.plot(axis=ax1, show=False)
eq.tokamak.plot(axis=ax1, show=False)
ax1.set_xlim(0.1, 2.15)
ax1.set_ylim(-2.25, 2.25)
plt.tight_layout()





tokamak.probes.initialise_setup(eq)





# display the first five flux loop info
tokamak.probes.floops[0:5]
#print(tokamak.probes.floop_order[:5])
#print(tokamak.probes.floop_pos[:5])


# display the first five pickup coils info
tokamak.probes.pickups[0:5]
#print(tokamak.probes.floop_order[:5])
#print(tokamak.probes.floop_pos[:5])





# compute probe values from equilibrium 
floops_vals = tokamak.probes.calculate_fluxloop_value(eq)
pickups_vals = tokamak.probes.calculate_pickup_value(eq)


# create dictionary to access specific values (show here for the flux loops)
dict = {}
for i, el in enumerate(tokamak.probes.floop_order):
    dict[el] = floops_vals[i]
dict





# initialise the equilibrium
eq_new = equilibrium_update.Equilibrium(
    tokamak=tokamak,
    Rmin=0.1, Rmax=2.0,   # Radial range
    Zmin=-2.0, Zmax=2.0,  # Vertical range
    nx=65,                # Number of grid points in the radial direction (needs to be of the form (2**n + 1) with n being an integer)
    ny=129,               # Number of grid points in the vertical direction (needs to be of the form (2**n + 1) with n being an integer)
    # psi=plasma_psi
)  


from freegsnke.jtor_update import ConstrainPaxisIp
profiles = ConstrainPaxisIp(
    eq=eq_new,
    limiter=tokamak.limiter,
    paxis=8e3,
    Ip=6e5,
    fvac=0.5,
    alpha_m=1.8,
    alpha_n=1.2
)

from freegsnke import GSstaticsolver
GSStaticSolver = GSstaticsolver.NKGSsolver(eq_new)    

import pickle
with open('simple_diverted_currents_PaxisIp.pk', 'rb') as f:
    current_values = pickle.load(f)
for key in current_values.keys():
    eq_new.tokamak[key].current = current_values[key]

GSStaticSolver.solve(eq=eq_new, 
                     profiles=profiles, 
                     constrain=None, 
                     target_relative_tolerance=1e-9)


floops_vals_new = tokamak.probes.calculate_fluxloop_value(eq_new)
pickups_vals_new = tokamak.probes.calculate_pickup_value(eq_new)


# compare values
print(floops_vals[:5])
print(floops_vals_new[:5])


# compare values
print(pickups_vals[:5])
print(pickups_vals_new[:5])





pickup_vals_new2 = tokamak.probes.calculate_pickup_value(eq_new)

# show greens function keys
tokamak.probes.greens_B_plasma_oriented.keys()






















