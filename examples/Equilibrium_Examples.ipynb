{
 "cells": [
  {
   "cell_type": "markdown",
   "metadata": {},
   "source": [
    "# FreeGSNKE Static Exmaples\n",
    "## Inverse Solve and Forward Solve for Grad-Shafranov Equilibria"
   ]
  },
  {
   "cell_type": "code",
   "execution_count": null,
   "metadata": {},
   "outputs": [],
   "source": [
    "import numpy as np\n",
    "import matplotlib.pyplot as plt\n",
    "from matplotlib.widgets import Slider\n",
    "import sys\n",
    "import matplotlib.pyplot as plt\n",
    "from copy import deepcopy\n",
    "from IPython.display import display, clear_output\n",
    "import time\n",
    "import os"
   ]
  },
  {
   "cell_type": "code",
   "execution_count": null,
   "metadata": {},
   "outputs": [],
   "source": [
    "import freegs\n",
    "from freegs.plotting import plotConstraints\n",
    "from freegs.critical import find_critical\n",
    "from freegsnke import machine_config\n",
    "from freegsnke import build_machine\n",
    "from freegsnke import faster_shape\n",
    "from freegsnke.jtor_update import ConstrainPaxisIp\n",
    "from freegsnke import GSstaticsolver\n",
    "\n",
    "%load_ext autoreload\n",
    "%autoreload 2"
   ]
  },
  {
   "cell_type": "code",
   "execution_count": null,
   "metadata": {},
   "outputs": [],
   "source": [
    "# Create the machine, which specifies coil locations\n",
    "# and equilibrium, specifying the domain to solve over\n",
    "# this has to be either\n",
    "# freegs.machine.MASTU(), in which case:\n",
    "#tokamak = freegs.machine.MASTU()\n",
    "# or\n",
    "# MASTU_coils.MASTU_wpass()\n",
    "# import os\n",
    "os.environ[\"ACTIVE_COILS_PATH\"] = \"../machine_configs/MAST-U/active_coils.pickle\"\n",
    "os.environ[\"PASSIVE_COILS_PATH\"] = \"../machine_configs/MAST-U/passive_coils.pickle\"\n",
    "os.environ[\"WALL_PATH\"] = \"../machine_configs/MAST-U/wall.pickle\"\n",
    "os.environ[\"LIMITER_PATH\"] = \"../machine_configs/MAST-U/limiter.pickle\"\n",
    "\n",
    "tokamak = build_machine.tokamak()\n",
    "\n",
    "\n",
    "# Creates equilibrium object \n",
    "eq = freegs.Equilibrium(tokamak=tokamak,\n",
    "                        #domains can be changed \n",
    "                        Rmin=0.1, Rmax=2.0,    # Radial domain\n",
    "                        Zmin=-2.2, Zmax=2.2,   # Height range\n",
    "                        #grid resolution can be changed\n",
    "                        nx=65, ny=129, # Number of grid points\n",
    "                        # psi=plasma_psi[::2,:])   \n",
    "                        )  \n",
    "\n",
    "\n",
    "\n",
    "# Sets desired plasma properties for the starting equilibrium\n",
    "# Use one between ConstrainPaxisIp or ConstrainBetapIp\n",
    "# values can be changed\n",
    "\n",
    "profiles = ConstrainPaxisIp(eq, tokamak.limiter,\n",
    "                            8.1e3, # Plasma pressure on axis [Pascals]\n",
    "                            6.2e5, # Plasma current [Amps]\n",
    "                            0.5, # vacuum f = R*Bt\n",
    "                            alpha_m = 1.8,\n",
    "                            alpha_n = 1.2)\n",
    "# from freegsnke.jtor_update import ConstrainBetapIp\n",
    "# profiles = ConstrainBetapIp(eq, tokamak.limiter,\n",
    "#                             0.2, # Plasma pressure on axis [Pascals]\n",
    "#                             6.2e5, # Plasma current [Amps]\n",
    "#                             0.5, # vacuum f = R*Bt\n",
    "#                             alpha_m = 1.8,\n",
    "#                             alpha_n = 1.2)\n",
    "\n"
   ]
  },
  {
   "cell_type": "code",
   "execution_count": null,
   "metadata": {},
   "outputs": [],
   "source": []
  },
  {
   "cell_type": "markdown",
   "metadata": {},
   "source": [
    "## Limited Equilibrium\n",
    "### In this case, the plasma \"touches\" the limiter of the tokamak and is confined by the solid structures of the vessel"
   ]
  },
  {
   "cell_type": "code",
   "execution_count": null,
   "metadata": {},
   "outputs": [],
   "source": [
    "eq.tokamak['P6'].current = 0.1\n",
    "eq.tokamak['P6'].control = False\n",
    "eq.tokamak['Solenoid'].control = False\n",
    "eq.tokamak['Solenoid'].current = 15000\n",
    "# Nonlinear solve\n",
    "freegs.solve(eq,          # The equilibrium to adjust\n",
    "             profiles,    # The plasma profiles\n",
    "             constrain,   # Plasma control constraints\n",
    "             show=False,\n",
    "             rtol=3e-3)\n",
    "\n",
    "eq.tokamak['Solenoid'].current = 40000\n",
    "freegs.solve(eq,          # The equilibrium to adjust\n",
    "             profiles,    # The plasma profiles\n",
    "             constrain,   # Plasma control constraints\n",
    "             show=False,\n",
    "             rtol=3e-3) \n",
    "\n",
    "NK.solve(eq, profiles, target_relative_tolerance=1e-8)\n",
    "fig = plt.figure(figsize=(5, 10), dpi=80);\n",
    "ax = fig.add_subplot(111);\n",
    "ax.grid(True,which='both');\n",
    "eq.plot(axis=ax,show=False);\n",
    "eq.tokamak.plot(axis=ax,show=False);\n",
    "constrain.plot(axis=ax,show=False)\n",
    "\n",
    "qprof = eq.q()\n",
    "plt.figure()\n",
    "plt.plot(qprof[0], qprof[1], '+')\n",
    "plt.title('q profile')"
   ]
  },
  {
   "cell_type": "code",
   "execution_count": null,
   "metadata": {},
   "outputs": [],
   "source": [
    "\n",
    "# Sets some shape constraints (here very close to those used for initialization)\n",
    "Rx = 0.45\n",
    "Zx = 1.18\n",
    "\n",
    "Rmid = 1.4   # Outboard midplane\n",
    "Rin = 0.28  # Inboard midplane\n",
    "\n",
    "xpoints = [(Rx, -Zx-.01),   # (R,Z) locations of X-points\n",
    "           (Rx,  Zx)]\n",
    "isoflux = [\n",
    "           (Rx,Zx, Rx,-Zx),\n",
    "           (Rmid, 0, Rin, 0.0),\n",
    "           (Rmid,0, Rx,Zx),\n",
    "           (Rmid,0, 1.2,.7),\n",
    "           (Rmid,0, 1.2,-.7),\n",
    "    \n",
    "           # Link inner and outer midplane locations\n",
    "           (Rx, Zx, .85, 1.7),\n",
    "           (Rx, Zx, .75, 1.6),\n",
    "           (Rx, Zx, Rin, 0.2),\n",
    "           (Rx, Zx, Rin, 0.1),\n",
    "           (Rx,-Zx, Rin, -0.1),\n",
    "           (Rx,-Zx, Rin, -0.2),\n",
    "           (Rx,-Zx, .85, -1.7),\n",
    "           (Rx,-Zx, .75, -1.6),\n",
    "\n",
    "           (Rx,-Zx, 0.45, -1.8),\n",
    "           (Rx, Zx, 0.45,  1.8),\n",
    "           ]\n",
    "\n",
    "eq.tokamak['P6'].current = 0\n",
    "eq.tokamak['P6'].control = False\n",
    "eq.tokamak['Solenoid'].control = False\n",
    "\n",
    "constrain = freegs.control.constrain(xpoints=xpoints, \n",
    "                                     gamma=5e-6, \n",
    "                                     isoflux=isoflux\n",
    "                                    )\n",
    "constrain(eq)\n",
    "                                    \n",
    "# from freegsnke import GSstaticsolver\n",
    "NK = GSstaticsolver.NKGSsolver(eq)     "
   ]
  },
  {
   "cell_type": "code",
   "execution_count": null,
   "metadata": {},
   "outputs": [],
   "source": [
    "\n"
   ]
  },
  {
   "cell_type": "code",
   "execution_count": null,
   "metadata": {},
   "outputs": [],
   "source": []
  }
 ],
 "metadata": {
  "language_info": {
   "name": "python"
  }
 },
 "nbformat": 4,
 "nbformat_minor": 2
}
