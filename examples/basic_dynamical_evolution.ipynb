{
 "cells": [
  {
   "cell_type": "markdown",
   "metadata": {},
   "source": [
    "# Basic dynamical evolution\n",
    "\n",
    "This notebook demonstrates the following steps, which are the core use case of FreeGSNKE:\n",
    "- Loading a machine model\n",
    "- Instantiating a Grad-Shafranov equilibrium and plasma profiles\n",
    "- Evolving the active coil currents and solving for the evolution of the equilibrium\n",
    "\n",
    "We start with some core imports."
   ]
  },
  {
   "cell_type": "code",
   "execution_count": null,
   "metadata": {},
   "outputs": [],
   "source": [
    "import numpy as np\n",
    "import freegs\n",
    "import matplotlib.pyplot as plt\n",
    "from copy import deepcopy\n",
    "from IPython.display import display, clear_output\n",
    "import time\n",
    "\n",
    "%load_ext autoreload\n",
    "%autoreload 2"
   ]
  },
  {
   "cell_type": "markdown",
   "metadata": {},
   "source": [
    "## Setting up\n",
    "\n",
    "A few steps need to be performed before a plasma equilibrium can be evolved in time, namely:\n",
    "- Loading the machine model data and storing in a tokamak object.\n",
    "- Instantiating an equilibrium and plasma profiles.\n",
    "\n",
    "### Creating the machine\n",
    "\n",
    "First, identify the files containing the machine description.\n",
    "\n",
    "FreeGSNKE requires the user to define the following environment variables:\n",
    "- `ACTIVE_COILS_PATH`\n",
    "- `PASSIVE_COILS_PATH`\n",
    "- `WALL_PATH`\n",
    "- `LIMITER_PATH`\n",
    "  \n",
    "These define the machine geometry and properties. For information on how to create these files, see the `machine_config.ipynb` example notebook."
   ]
  },
  {
   "cell_type": "code",
   "execution_count": null,
   "metadata": {},
   "outputs": [],
   "source": [
    "import os\n",
    "\n",
    "os.environ[\"ACTIVE_COILS_PATH\"] = \"../machine_configs/MAST-U/active_coils_from_UDA.pickle\"\n",
    "os.environ[\"PASSIVE_COILS_PATH\"] = \"../machine_configs/MAST-U/passive_coils_from_fiesta_filaments.pickle\"\n",
    "os.environ[\"WALL_PATH\"] = \"../machine_configs/MAST-U/wall.pickle\"\n",
    "os.environ[\"LIMITER_PATH\"] = \"../machine_configs/MAST-U/limiter.pickle\""
   ]
  },
  {
   "cell_type": "markdown",
   "metadata": {},
   "source": [
    "Calling the `build_machine.tokamak()` function reads the data from these environment variables and returns a tokamak object."
   ]
  },
  {
   "cell_type": "code",
   "execution_count": null,
   "metadata": {},
   "outputs": [],
   "source": [
    "from freegsnke import build_machine\n",
    "\n",
    "tokamak = build_machine.tokamak()"
   ]
  },
  {
   "cell_type": "markdown",
   "metadata": {},
   "source": [
    "### Instantiating an equilibrium\n",
    "\n",
    "We are now ready to build a plasma equilibrium in the tokamak object. This is done using the `freegs.Equilibrium` class, which implicitly defines the rectangular domain of the solver as well as the grid resolution.\n",
    "\n",
    "`Equilibrium` has sensible defaults, but it is usually recommendable to define the radial and vertical domain of the grid using the `Rmin`, `Rmax`, `Zmin` and `Zmax` parameters, as well as the grid resolution in the radial and vertical directions with the `nx` and `ny` parameters.\n",
    "\n",
    "At the minimum, a tokamak object should be supplied to the `tokamak` parameter to assign the desired machine to the equilibrium.\n",
    "\n",
    "If available, an initial plasma flux function can be provided to the `psi` parameter (commented out in the following code)."
   ]
  },
  {
   "cell_type": "code",
   "execution_count": null,
   "metadata": {},
   "outputs": [],
   "source": [
    "eq = freegs.Equilibrium(\n",
    "    tokamak=tokamak,\n",
    "    Rmin=0.1, Rmax=2.0,   # Radial range\n",
    "    Zmin=-2.2, Zmax=2.2,  # Vertical range\n",
    "    nx=65,   # Number of grid points in the radial direction\n",
    "    ny=129,  # Number of grid points in the vertical direction\n",
    "    # psi=plasma_psi\n",
    ")  "
   ]
  },
  {
   "cell_type": "markdown",
   "metadata": {},
   "source": [
    "A profile object can now be instantiated, which sets the parameterisation and properties of the profile function.\n",
    "\n",
    "FreeGSNKE accepts the same profile classes available in FreeGS: `ConstrainPaxisIp` or `ConstrainBetapIp`.\n",
    "\n",
    "The profile object also sets the value of the total plasma current.\n",
    "\n",
    "The following uses the `ConstrainPaxisIp` function, and an example demonstrating use of the `ConstrainBetapIp` function is in the following text cell.\n",
    "\n",
    "Equilibrium (`eq`) and limiter (`tokamak.limiter`) objects are passed to the profile to inform calculations relating to the limiter.\n",
    "\n",
    "The following parameters set the value for the profile properties.\n",
    "- `paxis`: plasma pressure on axis [Pascals].\n",
    "- `Ip`: total plasma current [Amps].\n",
    "- `fvac`: vacuum f = R * Bt.\n",
    "\n",
    "The `alpha_m` and `alpha_n` coefficients define the 'peakedness' of the plasma current density distribution. See [this paper](https://arxiv.org/abs/1503.03135) for example."
   ]
  },
  {
   "cell_type": "code",
   "execution_count": null,
   "metadata": {},
   "outputs": [],
   "source": [
    "from freegsnke.jtor_update import ConstrainPaxisIp\n",
    "\n",
    "profiles = ConstrainPaxisIp(\n",
    "    eq=eq,\n",
    "    limiter=tokamak.limiter,\n",
    "    paxis=8.1e3,\n",
    "    Ip=6.2e5,\n",
    "    fvac=0.5,\n",
    "    alpha_m=1.8,\n",
    "    alpha_n=1.2\n",
    ")"
   ]
  },
  {
   "cell_type": "markdown",
   "metadata": {},
   "source": [
    "As promised, here is an example of using `ConstrainBetapIp` instead. The call signature is nearly identical, except the poloidal beta (`betap`) is used instead.\n",
    "\n",
    "```python\n",
    "from freegsnke.jtor_update import ConstrainBetapIp\n",
    "profiles = ConstrainBetapIp(\n",
    "    eq=eq,\n",
    "    limiter=tokamak.limiter,\n",
    "    betap=0.2,\n",
    "    Ip=6.2e5,\n",
    "    fvac=0.5,\n",
    "    alpha_m=1.8,\n",
    "    alpha_n=1.2\n",
    ")\n",
    "```"
   ]
  },
  {
   "cell_type": "markdown",
   "metadata": {},
   "source": [
    "Now all that's left for the problem initialisation is to set the starting equilibrium. We do this by first assigning current values to the active poloidal field coils. \n",
    "\n",
    "The data files used here correspond to a diverted plasma.\n",
    "\n",
    "The passive structure currents are also set in the following. In this case, they are all set to zero."
   ]
  },
  {
   "cell_type": "code",
   "execution_count": null,
   "metadata": {},
   "outputs": [],
   "source": [
    "import pickle\n",
    "\n",
    "with open('simple_diverted_currents.pk', 'rb') as f:\n",
    "    current_values = pickle.load(f)\n",
    "\n",
    "for key in current_values.keys():\n",
    "    eq.tokamak[key].current = current_values[key]"
   ]
  },
  {
   "cell_type": "markdown",
   "metadata": {},
   "source": [
    "We now instantiate the static Newton-Krylov solver implemented in FreeGSNKE to solve the Grad-Shafranov equation. This requires the equilibrium as an argument to inform the solver of the domain and grid properties."
   ]
  },
  {
   "cell_type": "code",
   "execution_count": null,
   "metadata": {},
   "outputs": [],
   "source": [
    "from freegsnke import GSstaticsolver\n",
    "\n",
    "NK = GSstaticsolver.NKGSsolver(eq)"
   ]
  },
  {
   "cell_type": "markdown",
   "metadata": {},
   "source": [
    "Finally, we call the solver's `solve` method to solve the forward Grad-Shafranov problem corresponding to the tokamak metal currents set above and the requested profile properties.\n",
    "\n",
    "This again requires the equilibrium object along with the profiles and a relative tolerance that determines the convergence criterion."
   ]
  },
  {
   "cell_type": "code",
   "execution_count": null,
   "metadata": {},
   "outputs": [],
   "source": [
    "NK.solve(\n",
    "    eq,\n",
    "    profiles,\n",
    "    target_relative_tolerance=1e-8,\n",
    "    verbose=1\n",
    ")"
   ]
  },
  {
   "cell_type": "markdown",
   "metadata": {},
   "source": [
    "Now we can plot the equilibrium.\n",
    "\n",
    "As in FreeGS, the full black line represents the `tokamak.wall`. In addition, the thin black dotted line shows the `tokamak.limiter`, which is the border of the region where the plasma is allowed to be.\n",
    "\n",
    "The limiter object is passed to the equilibrium object by the profile object during the call to `NK.solve`."
   ]
  },
  {
   "cell_type": "code",
   "execution_count": null,
   "metadata": {},
   "outputs": [],
   "source": [
    "fig, ax = plt.subplots(figsize=(5, 10), dpi=80)\n",
    "ax.grid(True,which='both')\n",
    "eq.plot(axis=ax,show=False)\n",
    "eq.tokamak.plot(axis=ax,show=False)"
   ]
  },
  {
   "cell_type": "markdown",
   "metadata": {},
   "source": [
    "## Time evolution\n",
    "\n",
    "We are now ready to solve the forward time-evolutive problem.\n",
    "\n",
    "To start, we need to initialise the evolutive solver object, `freegsnke.nonlinear_solve.nl_solver`. This uses an equilibrium to inform the solver of the machine and domain properties.\n",
    "\n",
    "The time-evolutive solver also requires the following:\n",
    "- The `profiles` defined above\n",
    "- `full_timestep`: the time step by which time is advanced at every call of the stepper\n",
    "- `plasma_resistivity`: resistivity of the plasma, which is assumed to be constant during the time evolution.\n",
    "\n",
    "The solver can be used on different equilibria and/or profiles, but these need to have the same machine, domain and limiter as the one used at the time of the solver instantiation. For different machines, a new time-evolutive solver should be created.\n",
    "\n",
    "The input equilibrium and profile functions are also used as the expansion point around which the dynamics are linearised."
   ]
  },
  {
   "cell_type": "code",
   "execution_count": null,
   "metadata": {},
   "outputs": [],
   "source": [
    "from freegsnke import nonlinear_solve\n",
    "\n",
    "stepping = nonlinear_solve.nl_solver(\n",
    "    eq=eq, profiles=profiles, \n",
    "    full_timestep=3e-4, \n",
    "    plasma_resistivity=2e-6,\n",
    ")"
   ]
  },
  {
   "cell_type": "markdown",
   "metadata": {},
   "source": [
    "In this example, we will evolve a plasma in absence of any control policy or current drive.\n",
    "\n",
    "The following calculates active voltages to apply to the poloidal field coils using $V = RI$, in order to maintain the current values that defined the initial equilibrium.\n",
    "\n",
    "In most FreeGSNKE use cases, these active voltages will be determined by a control policy."
   ]
  },
  {
   "cell_type": "code",
   "execution_count": null,
   "metadata": {},
   "outputs": [],
   "source": [
    "U_active = (stepping.vessel_currents_vec*stepping.evol_metal_curr.R)[:stepping.evol_metal_curr.n_active_coils] "
   ]
  },
  {
   "cell_type": "markdown",
   "metadata": {},
   "source": [
    "The following demonstrates a solely linear evolution of the plasma by setting `linear_only=True`.\n",
    "\n",
    "To start, the solver is prepared by setting the initial conditions."
   ]
  },
  {
   "cell_type": "code",
   "execution_count": null,
   "metadata": {},
   "outputs": [],
   "source": [
    "stepping.initialize_from_ICs(eq, profiles)"
   ]
  },
  {
   "cell_type": "markdown",
   "metadata": {},
   "source": [
    "Now we set the total number of time steps we want to simulate and initialise some variables for logging the evolution."
   ]
  },
  {
   "cell_type": "code",
   "execution_count": null,
   "metadata": {},
   "outputs": [],
   "source": [
    "# Functionality for calculation of plasma width, elongation, etc.\n",
    "from freegsnke import faster_shape\n",
    "\n",
    "# Number of time steps to simulate\n",
    "max_count = 50\n",
    "\n",
    "# Initialising some variables for iteration and logging\n",
    "counter = 0\n",
    "t = 0\n",
    "\n",
    "history_times = [t]\n",
    "history_currents = [stepping.currents_vec]\n",
    "history_equilibria = [deepcopy(stepping.eq1)]\n",
    "shapes = faster_shape.shapes_f(stepping.eq1, stepping.profiles1)\n",
    "history_width = [shapes[0]]\n",
    "history_o_points = shapes[1]\n",
    "history_elongation = [shapes[2]]"
   ]
  },
  {
   "cell_type": "markdown",
   "metadata": {},
   "source": [
    "Finally, we iteratively call the time-evolutive solver with `stepping.nlstepper()` until we reach the pre-set end time."
   ]
  },
  {
   "cell_type": "code",
   "execution_count": null,
   "metadata": {},
   "outputs": [],
   "source": [
    "while counter<max_count:\n",
    "    clear_output(wait=True)\n",
    "    display(f'Step: {counter}/{max_count-1}')\n",
    "    display(f'current time t = {t:.2e}')\n",
    "    \n",
    "    t_start = time.time()\n",
    "\n",
    "    stepping.nlstepper(\n",
    "        active_voltage_vec=U_active, \n",
    "        linear_only=True\n",
    "    )\n",
    "\n",
    "    # Log information on the time-advanced plasma and currents\n",
    "    t += stepping.dt_step\n",
    "    history_times.append(t)\n",
    "    counter += 1\n",
    "\n",
    "    # Time-advanced currents are recorded in stepping.currents_vec\n",
    "    history_currents.append(stepping.currents_vec)\n",
    "\n",
    "    # The time-advanced equilibrium and profile are recorded respectively in\n",
    "    # stepping.eq1 and stepping.profiles1\n",
    "    history_equilibria.append(deepcopy(stepping.eq1))\n",
    "    shapes = faster_shape.shapes_f(stepping.eq1, stepping.profiles1)\n",
    "    history_width.append(shapes[0])\n",
    "    history_o_points = np.append(history_o_points,shapes[1], axis=0)\n",
    "    history_elongation.append(shapes[2])\n",
    "\n",
    "# Collect logs\n",
    "history_currents = np.array(history_currents)\n",
    "history_times = np.array(history_times)\n",
    "history_o_points = np.array(history_o_points)\n"
   ]
  },
  {
   "cell_type": "markdown",
   "metadata": {},
   "source": [
    "Now we evolve the same plasma according to the full nonlinear dynamics for the same time interval. This is done by using `linear_only=False` in the call to the stepper.\n",
    "\n",
    "We need to re-initialise from the initial conditions and reset the counter, but otherwise the method is identical to the one above."
   ]
  },
  {
   "cell_type": "code",
   "execution_count": null,
   "metadata": {},
   "outputs": [],
   "source": [
    "# Reset the solver object by resetting the initial conditions\n",
    "stepping.initialize_from_ICs(eq, profiles)\n",
    "\n",
    "# Initialising some variables for iteration and logging\n",
    "counter = 0\n",
    "t = 0\n",
    "\n",
    "history_times_nl = [t]\n",
    "history_currents_nl = [stepping.currents_vec]\n",
    "history_equilibria_nl = [deepcopy(stepping.eq1)]\n",
    "shapes = faster_shape.shapes_f(stepping.eq1, stepping.profiles1)\n",
    "history_width_nl = [shapes[0]]\n",
    "history_o_points_nl = shapes[1]\n",
    "history_elongation_nl = [shapes[2]]\n",
    "\n",
    "# Simulate the forward evolution\n",
    "while counter<max_count:\n",
    "    clear_output(wait=True)\n",
    "    display(f'Step: {counter}/{max_count-1}')\n",
    "    display(f'current time t = {t:.2e}')\n",
    "    \n",
    "    t_start = time.time()\n",
    "\n",
    "    stepping.nlstepper(\n",
    "        active_voltage_vec=U_active, \n",
    "        linear_only=False\n",
    "    )\n",
    "\n",
    "    # Log information on the time-advanced plasma and currents:\n",
    "    t += stepping.dt_step\n",
    "    history_times_nl.append(t)\n",
    "    counter += 1\n",
    "    \n",
    "    # Time-advanced currents are recorded in stepping.currents_vec\n",
    "    history_currents_nl.append(stepping.currents_vec)\n",
    "\n",
    "    # The time-advanced equilibrium and profile are recorded respectively in\n",
    "    # stepping.eq1 and stepping.profiles1\n",
    "    history_equilibria_nl.append(deepcopy(stepping.eq1))\n",
    "    shapes = faster_shape.shapes_f(stepping.eq1, stepping.profiles1)\n",
    "    history_width_nl.append(shapes[0])\n",
    "    history_o_points_nl = np.append(history_o_points_nl, shapes[1], axis=0)\n",
    "    history_elongation_nl.append(shapes[2])\n",
    "\n",
    "# Collect logs\n",
    "history_currents_nl = np.array(history_currents_nl)\n",
    "history_times_nl = np.array(history_times_nl)\n",
    "history_o_points_nl = np.array(history_o_points_nl)"
   ]
  },
  {
   "cell_type": "markdown",
   "metadata": {},
   "source": [
    "The following plots the evolution of the tracked values and compares the linear and nonlinear evolution."
   ]
  },
  {
   "cell_type": "code",
   "execution_count": null,
   "metadata": {},
   "outputs": [],
   "source": [
    "# Plot evolution of tracked values and compare between linear and non-linear evolution\n",
    "fig, axs = plt.subplots(2, 3, figsize=(10, 5), dpi=80, constrained_layout=True)\n",
    "axs_flat = axs.flat\n",
    "\n",
    "axs_flat[0].plot(history_times, history_o_points[:, 0],'k+', label='linear')\n",
    "axs_flat[0].plot(history_times_nl, history_o_points_nl[:, 0],'rx', label='nonlinear')\n",
    "axs_flat[0].set_xlabel('Time')\n",
    "axs_flat[0].set_ylabel('O-point $R$')\n",
    "axs_flat[0].legend()\n",
    "\n",
    "axs_flat[1].plot(history_times, abs(history_o_points[:, 1]),'k+')\n",
    "axs_flat[1].plot(history_times_nl, abs(history_o_points_nl[:, 1]),'rx')\n",
    "axs_flat[1].set_yscale('log')\n",
    "axs_flat[1].set_xlabel('Time')\n",
    "axs_flat[1].set_ylabel('abs( O-point $Z$ )')\n",
    "\n",
    "axs_flat[2].plot(history_times, history_o_points[:, 2],'k+')\n",
    "axs_flat[2].plot(history_times_nl, history_o_points_nl[:, 2],'rx')\n",
    "axs_flat[2].set_xlabel('Time')\n",
    "axs_flat[2].set_ylabel('O-point $\\Psi$')\n",
    "\n",
    "axs_flat[3].plot(history_times, history_currents[:,-1]*stepping.plasma_norm_factor,'k+')\n",
    "axs_flat[3].plot(history_times_nl, history_currents_nl[:,-1]*stepping.plasma_norm_factor,'rx')\n",
    "axs_flat[3].set_xlabel('Time')\n",
    "axs_flat[3].set_ylabel('Plasma current')\n",
    "\n",
    "axs_flat[4].plot(history_times, history_width,'k+')\n",
    "axs_flat[4].plot(history_times_nl, history_width_nl,'rx')\n",
    "axs_flat[4].set_xlabel('Time')\n",
    "axs_flat[4].set_ylabel('Plasma width')\n",
    "\n",
    "axs_flat[5].plot(history_times, history_elongation,'k+')\n",
    "axs_flat[5].plot(history_times_nl, history_elongation_nl,'rx')\n",
    "axs_flat[5].set_xlabel('Time')\n",
    "axs_flat[5].set_ylabel('Plasma elongation')\n",
    "\n",
    "# Plot equilibria at last simulated time\n",
    "fig = plt.figure(figsize=(10, 10), dpi=80)\n",
    "ax = fig.add_subplot(121)\n",
    "ax.grid(True,which='both')\n",
    "history_equilibria[-1].plot(axis=ax,show=False)\n",
    "eq.tokamak.plot(axis=ax,show=False)\n",
    "ax.set_title('Linear')\n",
    "ax = fig.add_subplot(122)\n",
    "ax.grid(True,which='both')\n",
    "history_equilibria_nl[-1].plot(axis=ax,show=False)\n",
    "eq.tokamak.plot(axis=ax,show=False)\n",
    "ax.set_title('Nonlinear')"
   ]
  },
  {
   "cell_type": "markdown",
   "metadata": {},
   "source": [
    "## Limited plasma\n",
    "\n",
    "The following performs the same steps as above but for a plasma limited by the tokamak wall. There is no difference to most of the procedure, however we start with a constrained solve to demonstrate how an equilibrium can be initialised based on some shape constraints.\n",
    "\n",
    "We start by creating the equilibrium and profiles objects as usual."
   ]
  },
  {
   "cell_type": "code",
   "execution_count": null,
   "metadata": {},
   "outputs": [],
   "source": [
    "os.environ[\"ACTIVE_COILS_PATH\"] = \"../machine_configs/MAST-U/active_coils.pickle\"\n",
    "os.environ[\"PASSIVE_COILS_PATH\"] = \"../machine_configs/MAST-U/passive_coils.pickle\"\n",
    "os.environ[\"WALL_PATH\"] = \"../machine_configs/MAST-U/wall.pickle\"\n",
    "os.environ[\"LIMITER_PATH\"] = \"../machine_configs/MAST-U/limiter.pickle\"\n",
    "\n",
    "tokamak = build_machine.tokamak()\n",
    "\n",
    "eq = freegs.Equilibrium(\n",
    "    tokamak=tokamak,\n",
    "    Rmin=0.1, Rmax=2.0,\n",
    "    Zmin=-2.2, Zmax=2.2,\n",
    "    nx=65, ny=129,\n",
    ")\n",
    "\n",
    "profiles = ConstrainPaxisIp(\n",
    "    eq,\n",
    "    tokamak.limiter,\n",
    "    8.1e3, # Plasma pressure on axis [Pascals]\n",
    "    6.2e5, # Plasma current [Amps]\n",
    "    0.5, # vacuum f = R*Bt\n",
    "    alpha_m=1.8,\n",
    "    alpha_n=1.2\n",
    ")"
   ]
  },
  {
   "cell_type": "markdown",
   "metadata": {},
   "source": [
    "Now we set some shape constraints. This process is described in detail in the FreeGS documentation."
   ]
  },
  {
   "cell_type": "code",
   "execution_count": null,
   "metadata": {},
   "outputs": [],
   "source": [
    "Rx = 0.45\n",
    "Zx = 1.18\n",
    "\n",
    "Rmid = 1.4  # Outboard midplane\n",
    "Rin = 0.28  # Inboard midplane\n",
    "\n",
    "# (R,Z) locations of X-points\n",
    "xpoints = [\n",
    "    (Rx, -Zx-.01),\n",
    "    (Rx,  Zx)\n",
    "]\n",
    "\n",
    "isoflux = [\n",
    "    (Rx,Zx, Rx,-Zx),\n",
    "    (Rmid, 0, Rin, 0.0),\n",
    "    (Rmid,0, Rx,Zx),\n",
    "    (Rmid,0, 1.2,.7),\n",
    "    (Rmid,0, 1.2,-.7),\n",
    "    # Link inner and outer midplane locations\n",
    "    (Rx, Zx, .85, 1.7),\n",
    "    (Rx, Zx, .75, 1.6),\n",
    "    (Rx, Zx, Rin, 0.2),\n",
    "    (Rx, Zx, Rin, 0.1),\n",
    "    (Rx,-Zx, Rin, -0.1),\n",
    "    (Rx,-Zx, Rin, -0.2),\n",
    "    (Rx,-Zx, .85, -1.7),\n",
    "    (Rx,-Zx, .75, -1.6),\n",
    "    (Rx,-Zx, 0.45, -1.8),\n",
    "    (Rx, Zx, 0.45,  1.8),\n",
    "]"
   ]
  },
  {
   "cell_type": "markdown",
   "metadata": {},
   "source": [
    "Set the necessary attributes and perform the constrained solve."
   ]
  },
  {
   "cell_type": "code",
   "execution_count": null,
   "metadata": {},
   "outputs": [],
   "source": [
    "eq.tokamak['P6'].current = 0\n",
    "eq.tokamak['P6'].control = False\n",
    "eq.tokamak['Solenoid'].control = False\n",
    "\n",
    "constrain = freegs.control.constrain(\n",
    "    xpoints=xpoints, \n",
    "    gamma=5e-6,\n",
    "    isoflux=isoflux\n",
    ")\n",
    "\n",
    "constrain(eq)"
   ]
  },
  {
   "cell_type": "markdown",
   "metadata": {},
   "source": [
    "Initialise the static solver with this new equilibrium."
   ]
  },
  {
   "cell_type": "code",
   "execution_count": null,
   "metadata": {},
   "outputs": [],
   "source": [
    "NK = GSstaticsolver.NKGSsolver(eq)"
   ]
  },
  {
   "cell_type": "markdown",
   "metadata": {},
   "source": [
    "Set some current values that will give us a limited plasma and do the nonlinear solve."
   ]
  },
  {
   "cell_type": "code",
   "execution_count": null,
   "metadata": {},
   "outputs": [],
   "source": [
    "eq.tokamak['P6'].current = 0.1\n",
    "eq.tokamak['P6'].control = False\n",
    "eq.tokamak['Solenoid'].control = False\n",
    "eq.tokamak['Solenoid'].current = 15000\n",
    "\n",
    "freegs.solve(eq,\n",
    "             profiles,\n",
    "             constrain,\n",
    "             show=False,\n",
    "             rtol=3e-3\n",
    ")\n",
    "\n",
    "# eq.tokamak['Solenoid'].current = 40000\n",
    "\n",
    "# freegs.solve(eq,\n",
    "#              profiles,\n",
    "#              constrain,\n",
    "#              show=False,\n",
    "#              rtol=3e-3\n",
    "# )  \n",
    "\n",
    "NK.solve(eq, profiles, target_relative_tolerance=1e-8)"
   ]
  },
  {
   "cell_type": "code",
   "execution_count": null,
   "metadata": {},
   "outputs": [],
   "source": [
    "# freegs.solve(eq,\n",
    "#              profiles,\n",
    "#              constrain,\n",
    "#              show=False,\n",
    "#              rtol=3e-3\n",
    "# )\n",
    "\n",
    "eq.tokamak['Solenoid'].current = 15000\n",
    "\n",
    "NK.solve(eq, profiles, target_relative_tolerance=1e-8)"
   ]
  },
  {
   "cell_type": "code",
   "execution_count": null,
   "metadata": {},
   "outputs": [],
   "source": [
    "fig = plt.figure(figsize=(5, 10), dpi=80);\n",
    "ax = fig.add_subplot(111);\n",
    "ax.grid(True,which='both');\n",
    "eq.plot(axis=ax,show=False);\n",
    "eq.tokamak.plot(axis=ax,show=False);\n",
    "constrain.plot(axis=ax,show=False)\n",
    "\n",
    "qprof = eq.q()\n",
    "plt.figure()\n",
    "plt.plot(qprof[0], qprof[1], '+')\n",
    "plt.title('q profile')"
   ]
  }
 ],
 "metadata": {
  "kernelspec": {
   "display_name": "Python 3.9.16 ('freegsnke_fastfreegs')",
   "language": "python",
   "name": "python3"
  },
  "language_info": {
   "codemirror_mode": {
    "name": "ipython",
    "version": 3
   },
   "file_extension": ".py",
   "mimetype": "text/x-python",
   "name": "python",
   "nbconvert_exporter": "python",
   "pygments_lexer": "ipython3",
   "version": "3.9.18"
  },
  "vscode": {
   "interpreter": {
    "hash": "ab530f9c98f0ba3d9c65899d3241d9fccc1a047cc29bb2292d5ed7ccb9f22bda"
   }
  }
 },
 "nbformat": 4,
 "nbformat_minor": 4
}
