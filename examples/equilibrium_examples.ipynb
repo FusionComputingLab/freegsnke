{
 "cells": [
  {
   "cell_type": "markdown",
   "metadata": {},
   "source": [
    "# Equilibrium examples\n",
    "## Inverse Solve and Forward Solve for Grad-Shafranov Equilibria\n",
    "This example notebook shows how to solve for different flavours of Grad-Shafranov equilibria: inverse and forward solve for diverted configurations; and inverse and forward solve for limited plasmas. The profiles chosen for this notebook follow the notation of Jeon (2015) for the toroidal plasma current:\n",
    "$$j_{pl}=\\left( 1-\\psi_{n}^{\\alpha_m} \\right)^{\\alpha_n}\\left( \\lambda\\beta_{0}R/R_{0}+(1-\\beta_{0})\\lambda R_{0}/R \\right) $$ \n",
    "\n",
    "The first contribution is the pressure support $p^{\\prime}(\\psi_{n})$, the second one is the toroidal-field support $f'f.$\n",
    "The examples are given for a parameterisation of the plasma pressure in terms of $p_a,$ the pressure on axis, and then again for a \"BetapIp\" profile object, with a proxy to the poloidal beta of the plasma. The \"Lao profiles\" would correspond to $\\alpha_m=2$ and $\\alpha_n=1.$\n",
    "\n",
    "__NB__ In this notebook, the necessary imports are made as soon as they are needed, to illustrate what they are responsible for, so you will find some \"import\" statements in cells further down."
   ]
  },
  {
   "cell_type": "code",
   "execution_count": null,
   "metadata": {},
   "outputs": [],
   "source": [
    "import numpy as np\n",
    "import matplotlib.pyplot as plt\n",
    "from matplotlib.widgets import Slider\n",
    "import sys\n",
    "import matplotlib.pyplot as plt\n",
    "from copy import deepcopy\n",
    "from IPython.display import display, clear_output\n",
    "import time\n",
    "import os"
   ]
  },
  {
   "cell_type": "code",
   "execution_count": null,
   "metadata": {},
   "outputs": [],
   "source": [
    "import os\n",
    "os.environ[\"ACTIVE_COILS_PATH\"] = \"../machine_configs/MAST-U/active_coils.pickle\"\n",
    "os.environ[\"PASSIVE_COILS_PATH\"] = \"../machine_configs/MAST-U/passive_coils.pickle\"\n",
    "os.environ[\"WALL_PATH\"] = \"../machine_configs/MAST-U/wall.pickle\"\n",
    "os.environ[\"LIMITER_PATH\"] = \"../machine_configs/MAST-U/limiter.pickle\"\n"
   ]
  },
  {
   "cell_type": "code",
   "execution_count": null,
   "metadata": {},
   "outputs": [],
   "source": [
    "import freegs\n",
    "from freegs.plotting import plotConstraints\n",
    "from freegs.critical import find_critical\n",
    "from freegsnke import machine_config\n",
    "from freegsnke import build_machine\n",
    "from freegsnke import faster_shape\n",
    "from freegsnke.jtor_update import ConstrainPaxisIp\n",
    "from freegsnke import GSstaticsolver\n",
    "\n",
    "%load_ext autoreload\n",
    "%autoreload 2"
   ]
  },
  {
   "cell_type": "markdown",
   "metadata": {},
   "source": [
    "## 1. Create the machine object.\n",
    "\n",
    "First, identify files containing the machine description. FreeGSNKE requires the user to define the following environment variables:\n",
    "\n",
    "ACTIVE_COILS_PATH , PASSIVE_COILS_PATH , WALL_PATH , LIMITER_PATH . These define the machine geometry and properties. \n",
    "\n",
    "Right now, they are saved as pickle dictionaries, mostly for convenience because the active-coil dictionary contains a lot of info about the coil windings.\n",
    "\n",
    "FreeGSNKE uses some of the base functionality provided by FreeGS to build \"tokamak' machine objects, and the FreeGS public repository shows some examples. The approach chosen in FreeGSNKE allows hte user to upload config files with the machine description without having to write them in FreeGS syntax. You can have a look at the function \"build_machine\" to see what dictionary structure it expects and how it transforms it into a machine description."
   ]
  },
  {
   "cell_type": "code",
   "execution_count": null,
   "metadata": {},
   "outputs": [],
   "source": [
    "# Create the machine.\n",
    "\n",
    "# First, identify files containing the machine description.\n",
    "# freeGSNKE requires the user to define the following environment variables \n",
    "# ACTIVE_COILS_PATH\n",
    "# PASSIVE_COILS_PATH\n",
    "# WALL_PATH\n",
    "# LIMITER_PATH\n",
    "# These define the machine geometry and properties.\n",
    "# import os\n",
    "# os.environ[\"ACTIVE_COILS_PATH\"] = \"../machine_configs/MAST-U/active_coils.pickle\"\n",
    "# os.environ[\"PASSIVE_COILS_PATH\"] = \"../machine_configs/MAST-U/passive_coils.pickle\"\n",
    "# os.environ[\"WALL_PATH\"] = \"../machine_configs/MAST-U/wall.pickle\"\n",
    "# os.environ[\"LIMITER_PATH\"] = \"../machine_configs/MAST-U/limiter.pickle\"\n",
    "\n",
    "# Now the machine can actually be built:\n",
    "from freegsnke import build_machine\n",
    "tokamak = build_machine.tokamak()\n",
    "\n"
   ]
  },
  {
   "cell_type": "markdown",
   "metadata": {},
   "source": [
    "## 2. Inverse solve and forward solve for a diverted equilibrium\n",
    "\n",
    "We start with an equilibrium where the plasma is entirely contained by its last-closed-flux-surface (LCFS), which goes through at least one of the X-points (saddle-points in $\\psi$) and does not intersect the tokamak's limiter. We start with an _inverse_ solve, where we specify a few points that must lie on the same LCFS, and the coil currents are then determined together with $\\psi(R,Z)$. We then show how to do a _forward_ solve, for which we need to specify the currents instead, and the profile $\\psi(R,Z)$ is to be determined. The invere solve alternates a Picard iteration ($\\psi(R,Z) \\mapsto (\\Delta^*)^{-1}\\psi(R,Z)$) with one adjustment in the coil currents such that the resulting LCFS is as close as possible to the prescribed constraints, iterating until convergence. The forward solver uses the Newton-Krylov implementation described by Amorisco et al (2024) in _Physics of Plasmas_."
   ]
  },
  {
   "cell_type": "markdown",
   "metadata": {},
   "source": [
    "### Inverse-solve of an equilibrium , with \"PaxisIp\" profile object\n",
    "We start by specifying some parameters of the plasma and of the domain of integration. In the cell below, the first line specifies the domain boundaries and meshes in R and Z, the second line specifes the plasma pressure on-axis (in Pascal), total plasma current (in Amperes), and vacuum toroidal field strength $f_{vac}=B_{\\phi}R.$ The third line fixes the exponents of p' and f'f. Note that, while the \"equilibrium\" object is instantiated directly through FreeGS, the internal \"PaxisIp\" object is instantiated through FreeGSNKE. This is because, depending on the version of FreeGS that you use, there may be a more efficient way of computing and sufacing some variables in that profile class. FreeGSNKE has an internal check that can cope with that. Alternatively, you can also use the object as provided by FreeGS instead."
   ]
  },
  {
   "cell_type": "code",
   "execution_count": null,
   "metadata": {},
   "outputs": [],
   "source": [
    "Rmin0=0.1 ; Rmax0=2.0 ; Zmin0=-2.2 ; Zmax0=2.2 ; NX=65 ; NY=129 ; \n",
    "p_a = 8.1e3 ; I_p=6.2e5 ; f_vac = 0.5 ; \n",
    "am0=1.8 ; an0=1.2;"
   ]
  },
  {
   "cell_type": "code",
   "execution_count": null,
   "metadata": {},
   "outputs": [],
   "source": [
    "\n",
    "# Creates equilibrium object and initializes it with \n",
    "# a \"good\" solution\n",
    "# plasma_psi = np.loadtxt('plasma_psi_example.txt')\n",
    "eq = freegs.Equilibrium(tokamak=tokamak,\n",
    "                        #domains can be changed \n",
    "                        Rmin=Rmin0, Rmax=Rmax0,    # Radial domain\n",
    "                        Zmin=Zmin0, Zmax=Zmax0,   # Height range\n",
    "                        #grid resolution can be changed\n",
    "                        nx=NX, ny=NY, # Number of grid points\n",
    "                        # psi=plasma_psi[::2,:])   \n",
    "                        )\n",
    "\n",
    "# Sets desired plasma properties for the 'starting equilibrium'\n",
    "# Use one between ConstrainPaxisIp or ConstrainBetapIp\n",
    "# values can be changed\n",
    "from freegsnke.jtor_update import ConstrainPaxisIp\n",
    "profiles = ConstrainPaxisIp(eq, tokamak.limiter,\n",
    "                            p_a, # Plasma pressure on axis [Pascals]\n",
    "                            I_p, # Plasma current [Amps]\n",
    "                            f_vac, # vacuum f = R*Bt\n",
    "                            alpha_m = am0,\n",
    "                            alpha_n = an0)\n",
    "# from freegsnke.jtor_update import ConstrainBetapIp\n",
    "# profiles = ConstrainBetapIp(eq, tokamak.limiter,\n",
    "#                             0.2, # betap proxy\n",
    "#                             6.2e5, # Plasma current [Amps]\n",
    "#                             0.5, # vacuum f = R*Bt\n",
    "#                             alpha_m = 1.8,\n",
    "#                             alpha_n = 1.2)       "
   ]
  },
  {
   "cell_type": "markdown",
   "metadata": {},
   "source": [
    "Now we specify a few constraints on the X-point position(s) and on some _isoflux_ points where $\\psi(R,Z)$ should be the same.\n",
    "\n",
    "This is identical to the FreeGS syntax, and we pass the instantiated equilibrium above the FreeGS \"constrain\" object."
   ]
  },
  {
   "cell_type": "code",
   "execution_count": null,
   "metadata": {},
   "outputs": [],
   "source": [
    "\n",
    "# Sets some shape constraints (here very close to those used for initialization)\n",
    "Rx = 0.6\n",
    "Zx = 1.1\n",
    "\n",
    "Rmid = 1.41   # Outboard midplane\n",
    "Rin = 0.36  # Inboard midplane\n",
    "\n",
    "xpoints = [(Rx, -Zx-.01),   # (R,Z) locations of X-points\n",
    "           (Rx,  Zx)]\n",
    "isoflux = [\n",
    "           (Rx,Zx, Rx,-Zx),\n",
    "           (Rmid, 0, Rin, 0.0),\n",
    "           (Rmid,0, Rx,Zx),\n",
    "           (Rmid,0, 1.2,.7),\n",
    "           (Rmid,0, 1.2,-.7),\n",
    "    \n",
    "           # Link inner and outer midplane locations\n",
    "           (Rx, Zx, .85, 1.7),\n",
    "           (Rx, Zx, .75, 1.6),\n",
    "           (Rx, Zx, Rin, 0.2),\n",
    "           (Rx, Zx, Rin, 0.1),\n",
    "           (Rx,-Zx, Rin, -0.1),\n",
    "           (Rx,-Zx, Rin, -0.2),\n",
    "           (Rx,-Zx, .85, -1.7),\n",
    "           (Rx,-Zx, .75, -1.6),\n",
    "\n",
    "           (Rx,-Zx, 0.45, -1.8),\n",
    "           (Rx, Zx, 0.45,  1.8),\n",
    "           ]\n"
   ]
  },
  {
   "cell_type": "markdown",
   "metadata": {},
   "source": [
    "Now we need to link the constraints above to the equilibrium for which we want to solve. Since the problem is often underconstrained, we also specify the quadratic penalty (\"gamma\" below) that we want to set on the coil currents. In our case, this penalty also guides the solution towards one where only the active coils have non-zero currents. You can play around with different values of \"gamma\" to see whether (and how) the converged solution departs from the desired constraints.\n",
    "\n",
    "In FreeGS, whenever an equilibrium file is imported, an automatic pass of inverse-solve is made using the $\\psi(R,Z)$ map as an array of $NX\\times NY$ constraints. In that case, the problem has $\\mathcal{O}(10^4)$ constraints and $\\mathcal{O}(10^3)$ unknowns, so the passive filaments may be assigned non-zero currents."
   ]
  },
  {
   "cell_type": "code",
   "execution_count": null,
   "metadata": {},
   "outputs": [],
   "source": [
    "\n",
    "eq.tokamak['P6'].current = 0\n",
    "eq.tokamak['P6'].control = False\n",
    "eq.tokamak['Solenoid'].control = False\n",
    "\n",
    "constrain = freegs.control.constrain(xpoints=xpoints, \n",
    "                                     gamma=5e-7, \n",
    "                                     isoflux=isoflux\n",
    "                                    )\n",
    "constrain(eq)       "
   ]
  },
  {
   "cell_type": "markdown",
   "metadata": {},
   "source": [
    "Now we set the solenoid current to a high value, say 15000 Amperes, do one inverse-solve, and then refine it with one NEwton-Krylov solve once the inverse-solve has converged on the required coil currents. \n",
    "The next cell will take a bit to run, because the \"NKGSsolver\" object must compute a few things from the domain properties of the equilibrium.\n",
    "\n",
    "__NB__ If you only change the properties of the equilibrium, but not the integration domain or the mesh, you don't need to instantiate a new NKGSsolver: once it is instantiated, if you want to play with different equilibria over the same domain and mesh, you just need to call the \"solve()\" method from the NK instance below on the new equilibria that you want it to solve for."
   ]
  },
  {
   "cell_type": "code",
   "execution_count": null,
   "metadata": {},
   "outputs": [],
   "source": [
    "from freegsnke import GSstaticsolver\n",
    "NK = GSstaticsolver.NKGSsolver(eq)    "
   ]
  },
  {
   "cell_type": "code",
   "execution_count": null,
   "metadata": {},
   "outputs": [],
   "source": [
    "eq.tokamak['P6'].current = 0\n",
    "eq.tokamak['P6'].control = False\n",
    "eq.tokamak['Solenoid'].control = False\n",
    "eq.tokamak['Solenoid'].current = 15000\n",
    "# Nonlinear solve\n",
    "freegs.solve(eq,          # The equilibrium to adjust\n",
    "             profiles,    # The plasma profiles\n",
    "             constrain,   # Plasma control constraints\n",
    "             show=False,\n",
    "             rtol=3e-3)               \n",
    "# eq.tokamak['Solenoid'].current = 40000\n",
    "# freegs.solve(eq,          # The equilibrium to adjust\n",
    "#              profiles,    # The plasma profiles\n",
    "#              constrain,   # Plasma control constraints\n",
    "#              show=False,\n",
    "#              rtol=3e-3)             "
   ]
  },
  {
   "cell_type": "code",
   "execution_count": null,
   "metadata": {},
   "outputs": [],
   "source": [
    "fig = plt.figure(figsize=(5, 10), dpi=80);\n",
    "ax = fig.add_subplot(111);\n",
    "ax.grid(True,which='both');\n",
    "eq.plot(axis=ax,show=False);\n",
    "eq.tokamak.plot(axis=ax,show=False);\n",
    "constrain.plot(axis=ax,show=False)\n",
    "\n",
    "qprof = eq.q()\n",
    "plt.figure()\n",
    "plt.plot(qprof[0], qprof[1], '+')\n",
    "plt.title('q profile')"
   ]
  },
  {
   "cell_type": "code",
   "execution_count": null,
   "metadata": {},
   "outputs": [],
   "source": [
    "NK.solve(eq, profiles, target_relative_tolerance=1e-8)\n",
    "fig = plt.figure(figsize=(5, 10), dpi=80);\n",
    "ax = fig.add_subplot(111);\n",
    "ax.grid(True,which='both');\n",
    "eq.plot(axis=ax,show=False);\n",
    "eq.tokamak.plot(axis=ax,show=False);\n",
    "constrain.plot(axis=ax,show=False)\n",
    "\n",
    "qprof = eq.q()\n",
    "plt.figure()\n",
    "plt.plot(qprof[0], qprof[1], '+')\n",
    "plt.title('q profile')"
   ]
  },
  {
   "cell_type": "code",
   "execution_count": null,
   "metadata": {},
   "outputs": [],
   "source": [
    "tcurrent_values={}\n",
    "for coil in eq.tokamak.coils:\n",
    "    tcurrent_values[coil[0]] = eq.tokamak[coil[0]].current"
   ]
  },
  {
   "cell_type": "code",
   "execution_count": null,
   "metadata": {},
   "outputs": [],
   "source": [
    "import pickle\n",
    "with open('simple_diverted_currents_PaxisIp.pk', 'wb') as f:\n",
    "    pickle.dump(obj=tcurrent_values,file=f)"
   ]
  },
  {
   "cell_type": "markdown",
   "metadata": {},
   "source": [
    "### Forward-solve from scratch\n",
    "In the cell above, we have started with some X-pont and isoflux constraints, done an inverse-solve, and then refined with a forward-solve once the inverse-solve has converged on a set of currents for the active coils. But what if we are given a dictionary of coil currents, and we need to find the corresponding Grad-Shafranov equilibrium, without any X-point and isoflux constraints provided? The cell below shoes how it can be done using the NK GS static solver, on some coil currents loaded by a pickle dictionary.\n",
    "\n",
    "Note that we are re-instanting the NKGSsolve object, but you don't need to do it if you are running this notebook from above. If you already have it from the previous cells, you can comment it out."
   ]
  },
  {
   "cell_type": "code",
   "execution_count": null,
   "metadata": {},
   "outputs": [],
   "source": [
    "# Forward-solve of an equilibrium\n",
    "\n",
    "# Assign current values to the active poloidal field coils \n",
    "# corresponding to a diverted plasma. \n",
    "# This assigns the passive structure currents too, in this specific case these are all set to zero.\n",
    "# Set initial equilibrium\n",
    "\n",
    "# Assign current values to the active poloidal field coils \n",
    "# corresponding to a diverted plasma. \n",
    "# This assigns the passive structure currents too, in this specific case these are all set to zero.\n",
    "import pickle\n",
    "with open('simple_diverted_currents_PaxisIp.pk', 'rb') as f:\n",
    "    current_values = pickle.load(f)\n",
    "for key in current_values.keys():\n",
    "    eq.tokamak[key].current = current_values[key]\n",
    "\n",
    "# Instantiate freeGSNKE static GS solver\n",
    "from freegsnke import GSstaticsolver\n",
    "# This requires use of the equilibrium itself to inform the solver of the domain and grid properties:\n",
    "NK = GSstaticsolver.NKGSsolver(eq)\n",
    "# Solve the forward GS problem corresponding to the tokamak metal currents set above and the requested profile properties\n",
    "NK.solve(# The Equilibrium object sets the currents \n",
    "         eq, \n",
    "         # The profile sets the desired plasma properties\n",
    "         profiles,\n",
    "         # The relative tolerance set for convergence\n",
    "         target_relative_tolerance=1e-8,\n",
    "         verbose=1)\n",
    "\n",
    "# Plot the equilibrium\n",
    "# As in freeGS, the full black line is the tokamak.wall.\n",
    "# In addition, the thin black dotted line shows the tokamak.limiter,\n",
    "# i.e. the border of the region where the plasma is allowed to be.\n",
    "# The limiter is passed to the equilibrium object by the profile object during the NK.solve call. \n",
    "fig = plt.figure(figsize=(5, 10), dpi=80)\n",
    "ax = fig.add_subplot(111)\n",
    "ax.grid(True,which='both')\n",
    "eq.plot(axis=ax,show=False)\n",
    "eq.tokamak.plot(axis=ax,show=False)\n",
    "\n"
   ]
  },
  {
   "cell_type": "markdown",
   "metadata": {},
   "source": [
    "## 3. Limited Equilibrium\n",
    "In this case, the plasma \"touches\" the limiter of the tokamak and is confined by the solid structures of the vessel. The LCFS is the farthest closed contour from the magnetic axis that just barely touches the wall."
   ]
  },
  {
   "cell_type": "code",
   "execution_count": null,
   "metadata": {},
   "outputs": [],
   "source": [
    "Rmin0=0.1 ; Rmax0=2.0 ; Zmin0=-2.2 ; Zmax0=2.2 ; NX=65 ; NY=129 ; \n",
    "p_a = 8.1e3 ; I_p=6.2e5 ; f_vac = 0.5 ; \n",
    "am0=1.8 ; an0=1.2;"
   ]
  },
  {
   "cell_type": "code",
   "execution_count": null,
   "metadata": {},
   "outputs": [],
   "source": [
    "\n",
    "# Creates equilibrium object and initializes it with \n",
    "# a \"good\" solution\n",
    "# plasma_psi = np.loadtxt('plasma_psi_example.txt')\n",
    "eq = freegs.Equilibrium(tokamak=tokamak,\n",
    "                        #domains can be changed \n",
    "                        Rmin=Rmin0, Rmax=Rmax0,    # Radial domain\n",
    "                        Zmin=Zmin0, Zmax=Zmax0,   # Height range\n",
    "                        #grid resolution can be changed\n",
    "                        nx=NX, ny=NY, # Number of grid points\n",
    "                        # psi=plasma_psi[::2,:])   \n",
    "                        )\n",
    "\n",
    "\n",
    "\n",
    "# Sets desired plasma properties for the 'starting equilibrium'\n",
    "# Use one between ConstrainPaxisIp or ConstrainBetapIp\n",
    "# values can be changed\n",
    "# from freegsnke.jtor_update import ConstrainPaxisIp\n",
    "profiles = ConstrainPaxisIp(eq, tokamak.limiter,\n",
    "                            p_a, # Plasma pressure on axis [Pascals]\n",
    "                            I_p, # Plasma current [Amps]\n",
    "                            f_vac, # vacuum f = R*Bt\n",
    "                            alpha_m = am0,\n",
    "                            alpha_n = an0)\n",
    "# from freegsnke.jtor_update import ConstrainBetapIp\n",
    "# profiles = ConstrainBetapIp(eq, tokamak.limiter,\n",
    "#                             betap, # betap proxy, 0.2 here\n",
    "#                             I_p, # Plasma current [Amps]\n",
    "#                             f_vac, # vacuum f = R*Bt\n",
    "#                             alpha_m = 1.8,\n",
    "#                             alpha_n = 1.2)"
   ]
  },
  {
   "cell_type": "code",
   "execution_count": null,
   "metadata": {},
   "outputs": [],
   "source": [
    "\n",
    "# Sets some shape constraints (here very close to those used for initialization)\n",
    "Rx = 0.45\n",
    "Zx = 1.18\n",
    "\n",
    "Rmid = 1.4   # Outboard midplane\n",
    "Rin = 0.28  # Inboard midplane\n",
    "\n",
    "xpoints = [(Rx, -Zx-.01),   # (R,Z) locations of X-points\n",
    "           (Rx,  Zx)]\n",
    "isoflux = [\n",
    "           (Rx,Zx, Rx,-Zx),\n",
    "           (Rmid, 0, Rin, 0.0),\n",
    "           (Rmid,0, Rx,Zx),\n",
    "           (Rmid,0, 1.2,.7),\n",
    "           (Rmid,0, 1.2,-.7),\n",
    "    \n",
    "           # Link inner and outer midplane locations\n",
    "           (Rx, Zx, .85, 1.7),\n",
    "           (Rx, Zx, .75, 1.6),\n",
    "           (Rx, Zx, Rin, 0.2),\n",
    "           (Rx, Zx, Rin, 0.1),\n",
    "           (Rx,-Zx, Rin, -0.1),\n",
    "           (Rx,-Zx, Rin, -0.2),\n",
    "           (Rx,-Zx, .85, -1.7),\n",
    "           (Rx,-Zx, .75, -1.6),\n",
    "\n",
    "           (Rx,-Zx, 0.45, -1.8),\n",
    "           (Rx, Zx, 0.45,  1.8),\n",
    "           ]\n"
   ]
  },
  {
   "cell_type": "code",
   "execution_count": null,
   "metadata": {},
   "outputs": [],
   "source": [
    "eq.tokamak['P6'].current = 0\n",
    "eq.tokamak['P6'].control = False\n",
    "eq.tokamak['Solenoid'].control = False\n",
    "\n",
    "constrain = freegs.control.constrain(xpoints=xpoints, \n",
    "                                     gamma=5e-6, \n",
    "                                     isoflux=isoflux\n",
    "                                    )\n",
    "constrain(eq)\n",
    "                                    \n",
    "from freegsnke import GSstaticsolver\n",
    "NK = GSstaticsolver.NKGSsolver(eq)"
   ]
  },
  {
   "cell_type": "markdown",
   "metadata": {},
   "source": [
    "Now we set the solenoid current to 40000 Amperes, in two stages to guide the constrained solver so that it still converges within some reasonable tolerance. With this example of machine and plasma configuration, due to the stray magnetic field of the solenoid, solenoid currents above $\\approx$20000 Amperes result in solutions where the plasma is squeezed onto the central column."
   ]
  },
  {
   "cell_type": "code",
   "execution_count": null,
   "metadata": {},
   "outputs": [],
   "source": [
    "eq.tokamak['P6'].current = 0.1\n",
    "eq.tokamak['P6'].control = False\n",
    "eq.tokamak['Solenoid'].control = False\n",
    "eq.tokamak['Solenoid'].current = 15000\n",
    "# Nonlinear solve\n",
    "freegs.solve(eq,          # The equilibrium to adjust\n",
    "             profiles,    # The plasma profiles\n",
    "             constrain,   # Plasma control constraints\n",
    "             show=False,\n",
    "             rtol=3e-3)\n",
    "\n",
    "eq.tokamak['Solenoid'].current = 40000\n",
    "freegs.solve(eq,          # The equilibrium to adjust\n",
    "             profiles,    # The plasma profiles\n",
    "             constrain,   # Plasma control constraints\n",
    "             show=False,\n",
    "             rtol=3e-3)\n",
    "\n",
    "NK.solve(eq, profiles, target_relative_tolerance=1e-8)\n",
    "fig = plt.figure(figsize=(5, 10), dpi=80);\n",
    "ax = fig.add_subplot(111);\n",
    "ax.grid(True,which='both');\n",
    "eq.plot(axis=ax,show=False);\n",
    "eq.tokamak.plot(axis=ax,show=False);\n",
    "constrain.plot(axis=ax,show=False)\n",
    "\n",
    "qprof = eq.q()\n",
    "plt.figure()\n",
    "plt.plot(qprof[0], qprof[1], '+')\n",
    "plt.title('q profile')"
   ]
  },
  {
   "cell_type": "markdown",
   "metadata": {},
   "source": [
    "Like we did for the diverted plasma, we save the coil currents to a pickle dictionary, which is used below to forward-solve the GS equilibrium from scratch, without starting with isoflux or X-point constraints."
   ]
  },
  {
   "cell_type": "code",
   "execution_count": null,
   "metadata": {},
   "outputs": [],
   "source": [
    "tcurrent_values={}\n",
    "for coil in eq.tokamak.coils:\n",
    "    tcurrent_values[coil[0]] = eq.tokamak[coil[0]].current"
   ]
  },
  {
   "cell_type": "code",
   "execution_count": null,
   "metadata": {},
   "outputs": [],
   "source": [
    "import pickle\n",
    "with open('simple_limited_currents_PaxisIp.pk', 'wb') as f:\n",
    "    pickle.dump(obj=tcurrent_values,file=f)"
   ]
  },
  {
   "cell_type": "markdown",
   "metadata": {},
   "source": [
    "### Forward-solve from scratch, for a limited plasma, with currents from dictionary\n",
    "The following is very similar to the example above on the diverted plasma. If you want to only run the forward-solve, you should make sure that you have a suitable set of coil currents already saved somewhere."
   ]
  },
  {
   "cell_type": "code",
   "execution_count": null,
   "metadata": {},
   "outputs": [],
   "source": [
    "### Forward-solve from scratch, for a limited plasma, with currents from dictionary\n",
    "# Forward-solve of an equilibrium\n",
    "\n",
    "# Assign current values to the active poloidal field coils \n",
    "# corresponding to a diverted plasma. \n",
    "# This assigns the passive structure currents too, in this specific case these are all set to zero.\n",
    "# Set initial equilibrium\n",
    "\n",
    "# Assign current values to the active poloidal field coils \n",
    "# corresponding to a diverted plasma. \n",
    "# This assigns the passive structure currents too, in this specific case these are all set to zero.\n",
    "import pickle\n",
    "with open('simple_limited_currents_PaxisIp.pk', 'rb') as f:\n",
    "    current_values = pickle.load(f)\n",
    "for key in current_values.keys():\n",
    "    eq.tokamak[key].current = current_values[key]\n",
    "\n",
    "# Instantiate freeGSNKE static GS solver\n",
    "from freegsnke import GSstaticsolver\n",
    "# This requires use of the equilibrium itself to inform the solver of the domain and grid properties:\n",
    "NK = GSstaticsolver.NKGSsolver(eq)\n",
    "# Solve the forward GS problem corresponding to the tokamak metal currents set above and the requested profile properties\n",
    "NK.solve(# The Equilibrium object sets the currents \n",
    "         eq, \n",
    "         # The profile sets the desired plasma properties\n",
    "         profiles,\n",
    "         # The relative tolerance set for convergence\n",
    "         target_relative_tolerance=1e-8,\n",
    "         verbose=1)\n",
    "\n",
    "# Plot the equilibrium\n",
    "# As in freeGS, the full black line is the tokamak.wall.\n",
    "# In addition, the thin black dotted line shows the tokamak.limiter,\n",
    "# i.e. the border of the region where the plasma is allowed to be.\n",
    "# The limiter is passed to the equilibrium object by the profile object during the NK.solve call. \n",
    "fig = plt.figure(figsize=(5, 10), dpi=80)\n",
    "ax = fig.add_subplot(111)\n",
    "ax.grid(True,which='both')\n",
    "eq.plot(axis=ax,show=False)\n",
    "eq.tokamak.plot(axis=ax,show=False)"
   ]
  },
  {
   "cell_type": "markdown",
   "metadata": {},
   "source": [
    "## 4. The same as above, but with \"BetapIp\" internal profile class\n",
    "In the \"BetapIp\" profile class, instead of prescribing $p_a,$ we seek to match a proxy for the poloidal beta parameter, in particular the prefactors $\\lambda$ and $\\beta_0$ of the p' and f'f functions are adjusted to match a given value for $I_p$ and a given value of \n",
    "$$ \\tilde{\\beta}_p = \\frac{8\\pi}{\\mu_0 I_p^2}   \\int p(R,Z)\\mathrm{d}R\\mathrm{d}Z  $$ \n",
    "following Jeon (2015, arXiv:1503.03135). "
   ]
  },
  {
   "cell_type": "code",
   "execution_count": null,
   "metadata": {},
   "outputs": [],
   "source": [
    "# Create the machine.\n",
    "\n",
    "# First, identify files containing the machine description.\n",
    "# freeGSNKE requires the user to define the following environment variables \n",
    "# ACTIVE_COILS_PATH\n",
    "# PASSIVE_COILS_PATH\n",
    "# WALL_PATH\n",
    "# LIMITER_PATH\n",
    "# These define the machine geometry and properties.\n",
    "import os\n",
    "os.environ[\"ACTIVE_COILS_PATH\"] = \"../machine_configs/MAST-U/active_coils.pickle\"\n",
    "os.environ[\"PASSIVE_COILS_PATH\"] = \"../machine_configs/MAST-U/passive_coils.pickle\"\n",
    "os.environ[\"WALL_PATH\"] = \"../machine_configs/MAST-U/wall.pickle\"\n",
    "os.environ[\"LIMITER_PATH\"] = \"../machine_configs/MAST-U/limiter.pickle\"\n",
    "\n",
    "# Now the machine can actually be built:\n",
    "from freegsnke import build_machine\n",
    "tokamak = build_machine.tokamak()"
   ]
  },
  {
   "cell_type": "markdown",
   "metadata": {},
   "source": [
    "### Diverted \"BetapIp\" equilibrium, inverse solve and forward solve"
   ]
  },
  {
   "cell_type": "code",
   "execution_count": null,
   "metadata": {},
   "outputs": [],
   "source": [
    "Rmin0=0.1 ; Rmax0=2.0 ; Zmin0=-2.2 ; Zmax0=2.2 ; NX=65 ; NY=129 ; \n",
    "betap0 = 0.2 ; I_p=6.2e5 ; f_vac = 0.5 ; \n",
    "am0=1.8 ; an0=1.2;"
   ]
  },
  {
   "cell_type": "code",
   "execution_count": null,
   "metadata": {},
   "outputs": [],
   "source": [
    "\n",
    "# Creates equilibrium object and initializes it with \n",
    "# a \"good\" solution\n",
    "# plasma_psi = np.loadtxt('plasma_psi_example.txt')\n",
    "eq = freegs.Equilibrium(tokamak=tokamak,\n",
    "                        #domains can be changed \n",
    "                        Rmin=Rmin0, Rmax=Rmax0,    # Radial domain\n",
    "                        Zmin=Zmin0, Zmax=Zmax0,   # Height range\n",
    "                        #grid resolution can be changed\n",
    "                        nx=NX, ny=NY, # Number of grid points\n",
    "                        # psi=plasma_psi[::2,:])   \n",
    "                        )\n",
    "\n",
    "# Sets desired plasma properties for the 'starting equilibrium'\n",
    "# Use one between ConstrainPaxisIp or ConstrainBetapIp\n",
    "# values can be changed\n",
    "# from freegsnke.jtor_update import ConstrainPaxisIp\n",
    "# profiles = ConstrainPaxisIp(eq, tokamak.limiter,\n",
    "#                             p_a, # Plasma pressure on axis [Pascals]\n",
    "#                             I_p, # Plasma current [Amps]\n",
    "#                             f_vac, # vacuum f = R*Bt\n",
    "#                             alpha_m = am0,\n",
    "#                             alpha_n = an0)\n",
    "from freegsnke.jtor_update import ConstrainBetapIp\n",
    "profiles = ConstrainBetapIp(eq, tokamak.limiter,\n",
    "                            betap0, # betap proxy\n",
    "                            I_p, # Plasma current [Amps]\n",
    "                            f_vac, # vacuum f = R*Bt\n",
    "                            alpha_m = 1.8,\n",
    "                            alpha_n = 1.2)"
   ]
  },
  {
   "cell_type": "code",
   "execution_count": null,
   "metadata": {},
   "outputs": [],
   "source": [
    "\n",
    "# Sets some shape constraints (here very close to those used for initialization)\n",
    "Rx = 0.6\n",
    "Zx = 1.1\n",
    "\n",
    "Rmid = 1.41   # Outboard midplane\n",
    "Rin = 0.36  # Inboard midplane\n",
    "\n",
    "xpoints = [(Rx, -Zx-.01),   # (R,Z) locations of X-points\n",
    "           (Rx,  Zx)]\n",
    "isoflux = [\n",
    "           (Rx,Zx, Rx,-Zx),\n",
    "           (Rmid, 0, Rin, 0.0),\n",
    "           (Rmid,0, Rx,Zx),\n",
    "           (Rmid,0, 1.2,.7),\n",
    "           (Rmid,0, 1.2,-.7),\n",
    "    \n",
    "           # Link inner and outer midplane locations\n",
    "           (Rx, Zx, .85, 1.7),\n",
    "           (Rx, Zx, .75, 1.6),\n",
    "           (Rx, Zx, Rin, 0.2),\n",
    "           (Rx, Zx, Rin, 0.1),\n",
    "           (Rx,-Zx, Rin, -0.1),\n",
    "           (Rx,-Zx, Rin, -0.2),\n",
    "           (Rx,-Zx, .85, -1.7),\n",
    "           (Rx,-Zx, .75, -1.6),\n",
    "\n",
    "           (Rx,-Zx, 0.45, -1.8),\n",
    "           (Rx, Zx, 0.45,  1.8),\n",
    "           ]\n",
    "\n",
    "eq.tokamak['P6'].current = 0\n",
    "eq.tokamak['P6'].control = False\n",
    "eq.tokamak['Solenoid'].control = False\n",
    "\n",
    "constrain = freegs.control.constrain(xpoints=xpoints, \n",
    "                                     gamma=5e-6, \n",
    "                                     isoflux=isoflux\n",
    "                                    )\n",
    "constrain(eq)"
   ]
  },
  {
   "cell_type": "code",
   "execution_count": null,
   "metadata": {},
   "outputs": [],
   "source": [
    "from freegsnke import GSstaticsolver\n",
    "NK = GSstaticsolver.NKGSsolver(eq)"
   ]
  },
  {
   "cell_type": "code",
   "execution_count": null,
   "metadata": {},
   "outputs": [],
   "source": [
    "eq.tokamak['P6'].current = 0\n",
    "eq.tokamak['P6'].control = False\n",
    "eq.tokamak['Solenoid'].control = False\n",
    "eq.tokamak['Solenoid'].current = 15000\n",
    "# Nonlinear solve\n",
    "freegs.solve(eq,          # The equilibrium to adjust\n",
    "             profiles,    # The plasma profiles\n",
    "             constrain,   # Plasma control constraints\n",
    "             show=False,\n",
    "             rtol=3e-3)\n",
    "# eq.tokamak['Solenoid'].current = 40000\n",
    "# freegs.solve(eq,          # The equilibrium to adjust\n",
    "#              profiles,    # The plasma profiles\n",
    "#              constrain,   # Plasma control constraints\n",
    "#              show=False,\n",
    "#              rtol=3e-3)\n",
    "             \n",
    "NK.solve(eq, profiles, target_relative_tolerance=1e-8)\n",
    "fig = plt.figure(figsize=(5, 10), dpi=80);\n",
    "ax = fig.add_subplot(111);\n",
    "ax.grid(True,which='both');\n",
    "eq.plot(axis=ax,show=False);\n",
    "eq.tokamak.plot(axis=ax,show=False);\n",
    "constrain.plot(axis=ax,show=False)\n",
    "\n",
    "qprof = eq.q()\n",
    "plt.figure()\n",
    "plt.plot(qprof[0], qprof[1], '+')\n",
    "plt.title('q profile')"
   ]
  },
  {
   "cell_type": "code",
   "execution_count": null,
   "metadata": {},
   "outputs": [],
   "source": [
    "tcurrent_values={}\n",
    "for coil in eq.tokamak.coils:\n",
    "    tcurrent_values[coil[0]] = eq.tokamak[coil[0]].current\n",
    "\n",
    "import pickle\n",
    "with open('simple_diverted_currents_BetapIp.pk', 'wb') as f:\n",
    "    pickle.dump(obj=tcurrent_values,file=f)"
   ]
  },
  {
   "cell_type": "markdown",
   "metadata": {},
   "source": [
    "### Diverted \"BetapIp\", forward-solve from scratch with coil currents from file dict"
   ]
  },
  {
   "cell_type": "code",
   "execution_count": null,
   "metadata": {},
   "outputs": [],
   "source": [
    "# Forward-solve of an equilibrium\n",
    "\n",
    "# Assign current values to the active poloidal field coils \n",
    "# corresponding to a diverted plasma. \n",
    "# This assigns the passive structure currents too, in this specific case these are all set to zero.\n",
    "# Set initial equilibrium\n",
    "\n",
    "# Assign current values to the active poloidal field coils \n",
    "# corresponding to a diverted plasma. \n",
    "# This assigns the passive structure currents too, in this specific case these are all set to zero.\n",
    "import pickle\n",
    "with open('simple_diverted_currents_BetapIp.pk', 'rb') as f:\n",
    "    current_values = pickle.load(f)\n",
    "for key in current_values.keys():\n",
    "    eq.tokamak[key].current = current_values[key]\n",
    "\n",
    "# Instantiate freeGSNKE static GS solver\n",
    "from freegsnke import GSstaticsolver\n",
    "# This requires use of the equilibrium itself to inform the solver of the domain and grid properties:\n",
    "NK = GSstaticsolver.NKGSsolver(eq)\n",
    "# Solve the forward GS problem corresponding to the tokamak metal currents set above and the requested profile properties\n",
    "NK.solve(# The Equilibrium object sets the currents \n",
    "         eq, \n",
    "         # The profile sets the desired plasma properties\n",
    "         profiles,\n",
    "         # The relative tolerance set for convergence\n",
    "         target_relative_tolerance=1e-8,\n",
    "         verbose=1)\n",
    "\n",
    "# Plot the equilibrium\n",
    "# As in freeGS, the full black line is the tokamak.wall.\n",
    "# In addition, the thin black dotted line shows the tokamak.limiter,\n",
    "# i.e. the border of the region where the plasma is allowed to be.\n",
    "# The limiter is passed to the equilibrium object by the profile object during the NK.solve call. \n",
    "fig = plt.figure(figsize=(5, 10), dpi=80)\n",
    "ax = fig.add_subplot(111)\n",
    "ax.grid(True,which='both')\n",
    "eq.plot(axis=ax,show=False)\n",
    "eq.tokamak.plot(axis=ax,show=False)"
   ]
  }
 ],
 "metadata": {
  "kernelspec": {
   "display_name": "Python 3 (ipykernel)",
   "language": "python",
   "name": "python3"
  },
  "language_info": {
   "codemirror_mode": {
    "name": "ipython",
    "version": 3
   },
   "file_extension": ".py",
   "mimetype": "text/x-python",
   "name": "python",
   "nbconvert_exporter": "python",
   "pygments_lexer": "ipython3",
   "version": "3.9.18"
  }
 },
 "nbformat": 4,
 "nbformat_minor": 4
}
