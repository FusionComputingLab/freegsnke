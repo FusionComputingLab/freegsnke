{
 "cells": [
  {
   "cell_type": "markdown",
   "metadata": {},
   "source": [
    "# Example: Machine configuration\n",
    "\n",
    "Here we will describe how to create the machine description files required to begin solving for Grad-Shafranov equilbiria in FreeGSNKE. \n",
    "\n",
    "A machine description in FreeGSNKE is comprised of:\n",
    "- **active coils** (whose currents and voltages are used to control the plasma shape and position).\n",
    "- **passive structures** (that make up the tokamak vessel, coil cans, support structures etc.)\n",
    "- **limiter/wall** (that are non-conducting surfaces used to constrain the plasma boundary).\n",
    "- **magnetic sensors** (such as pickup coils and fluxloops, whose readings can be measured at their locations around the tokamak after identifying an equilibrium).\n",
    "\n",
    "In the following, we build up each of these elements into the structures required by FreeGSNKE and save them for later use."
   ]
  },
  {
   "cell_type": "markdown",
   "metadata": {},
   "source": [
    "## Import packages"
   ]
  },
  {
   "cell_type": "code",
   "execution_count": 1,
   "metadata": {},
   "outputs": [],
   "source": [
    "import numpy as np\n",
    "import pickle"
   ]
  },
  {
   "cell_type": "markdown",
   "metadata": {},
   "source": [
    "## Active coils\n",
    "First, we define the characteristics that make up the active coils in our tokamak. We begin by defining the **resistivity** of the material that the active coils are made of (in this case, copper coils). "
   ]
  },
  {
   "cell_type": "code",
   "execution_count": 2,
   "metadata": {},
   "outputs": [],
   "source": [
    "eta_copper = 1.55e-8  # resistivity in Ohm*m"
   ]
  },
  {
   "cell_type": "markdown",
   "metadata": {},
   "source": [
    "Here we will specify five coils named: `Pz`, `P1_upper`, `P1_lower`, `P2_upper`, `P2_lower` and a central `Solenoid`. Each coil will contain a different number of individual windings (sometimes known as turns or filaments).\n",
    "\n",
    "We've also made a shortcut and assumed that `P1_lower` and `P1_upper` have the same radial position and are equally distanced from the midplane in the vertical direction. The same applies to `P2_lower` and `P2_upper`.\n",
    "\n",
    "We can now begin to populate a Python dictionary (here called `active_coils`) with our coils.\n",
    "\n",
    "Each entry to the dictionary will be another dictionary describing either a **single** coil or **multiple** coils that are linked to the same power supply (i.e. will have the same **current**):\n",
    " - `Pz` will be a single standalone coil. \n",
    " - `P1_upper` and `P1_lower` will form an up-down symmetric pair (as will `P2_upper` and `P2_lower`).\n",
    "\n",
    "The keys for the coil dictionaries are:\n",
    "- `R`: list of radial positions of windings.\n",
    "- `Z`: list of vertical positions of windings.\n",
    "- `dR`: width of each winding. \n",
    "- `dZ`: height of each winding. \n",
    "- `resistivity`: resistivity of coil material (in Ohm*m).\n",
    "- `polarity`: circuit wiring, enabling coil pairs to be linked in series or anti-series (typically +1 or -1).\n",
    "- `multiplier`: current multiplier, used for splitting current among coils (default = 1).\n",
    "\n",
    "First, instatiate the dictionary that will contain all of the coils:"
   ]
  },
  {
   "cell_type": "code",
   "execution_count": 3,
   "metadata": {},
   "outputs": [],
   "source": [
    "active_coils = {}"
   ]
  },
  {
   "cell_type": "markdown",
   "metadata": {},
   "source": [
    "Let's  define the standalone `Pz` coil first."
   ]
  },
  {
   "cell_type": "code",
   "execution_count": 4,
   "metadata": {},
   "outputs": [],
   "source": [
    "active_coils[\"Pz\"] = {}\n",
    "\n",
    "active_coils[\"Pz\"][\"\"] = {\n",
    "    \"R\": [1.75],\n",
    "    \"Z\": [0.0],\n",
    "    \"dR\": 0.25,\n",
    "    \"dZ\": 0.25,\n",
    "    \"resistivity\": eta_copper,\n",
    "    \"polarity\": 1,\n",
    "    \"multiplier\": 1,\n",
    "}"
   ]
  },
  {
   "cell_type": "markdown",
   "metadata": {},
   "source": [
    "Now let's define the `P1_upper` and `P1_lower` coils."
   ]
  },
  {
   "cell_type": "code",
   "execution_count": 5,
   "metadata": {},
   "outputs": [],
   "source": [
    "# The P1 coil group is instantiated as a dictionary\n",
    "active_coils[\"P1\"] = {}\n",
    "\n",
    "# Populate with the P1_upper coil information\n",
    "active_coils[\"P1\"][\"upper\"] = {\n",
    "    \"R\": [0.7, 0.7, 0.8, 0.8],       # coil has four windings\n",
    "    \"Z\": [1.1, 1.2, 1.1, 1.2],\n",
    "    \"dR\": 0.08,\n",
    "    \"dZ\": 0.08,\n",
    "    \"resistivity\": eta_copper,\n",
    "    \"polarity\": 1,\n",
    "    \"multiplier\": 1,\n",
    "}\n",
    "\n",
    "# Populate with the P1_lower coil information\n",
    "active_coils[\"P1\"][\"lower\"] = {\n",
    "    \"R\": [0.7, 0.7, 0.8, 0.8],\n",
    "    \"Z\": [-1*z for z in [1.1, 1.2, 1.1, 1.2]], # note the lower coil has opposite mirrored z-coords compared to upper\n",
    "    \"dR\": 0.08,\n",
    "    \"dZ\": 0.08,\n",
    "    \"resistivity\": eta_copper,\n",
    "    \"polarity\": 1,                             # note polarity is 1, so it will have same current as upper coil\n",
    "    \"multiplier\": 1,\n",
    "}"
   ]
  },
  {
   "cell_type": "markdown",
   "metadata": {},
   "source": [
    "We follow the same procedure for `P2_upper` and `P2_lower`."
   ]
  },
  {
   "cell_type": "code",
   "execution_count": 6,
   "metadata": {},
   "outputs": [],
   "source": [
    "active_coils[\"P2\"] = {}\n",
    "active_coils[\"P2\"][\"upper\"] = {\n",
    "    \"R\": [1.7, 1.7, 1.8],     # coil has three windings\n",
    "    \"Z\": [0.6, 0.7, 0.6],\n",
    "    \"dR\": 0.06,\n",
    "    \"dZ\": 0.06,\n",
    "    \"resistivity\": eta_copper,\n",
    "    \"polarity\": 1,\n",
    "    \"multiplier\": 1\n",
    "}\n",
    "active_coils[\"P2\"][\"lower\"] = {\n",
    "    \"R\": [1.7, 1.7, 1.8],\n",
    "    \"Z\": [-1*z for z in [0.6, 0.7, 0.6]],  # again, z-coords are mirrored\n",
    "    \"dR\": 0.06,\n",
    "    \"dZ\": 0.06,\n",
    "    \"resistivity\": eta_copper,\n",
    "    \"polarity\": -1,                        # negative polarity indicates current will have opposite sign to upper coil\n",
    "    \"multiplier\": 1\n",
    "}"
   ]
  },
  {
   "cell_type": "markdown",
   "metadata": {},
   "source": [
    "Lastly, we can also define a Solenoid (that typically drives Ohmic current in the plasma). Current in the solenoid will have an impact on the equilibrium and needs to be accounted for in most cases. "
   ]
  },
  {
   "cell_type": "code",
   "execution_count": 7,
   "metadata": {},
   "outputs": [],
   "source": [
    "active_coils[\"Solenoid\"] = {\n",
    "    \"R\": [0.15]*16 + [0.2]*16,   # here we have 32 windings\n",
    "    \"Z\": list(np.linspace(-0.6, 0.6, 16)) + list(np.linspace(-0.6, 0.6, 16)),\n",
    "    \"dR\": 0.02,\n",
    "    \"dZ\": 0.02,\n",
    "    \"polarity\": 1,\n",
    "    \"resistivity\": eta_copper,\n",
    "    \"multiplier\": 1\n",
    "}"
   ]
  },
  {
   "cell_type": "markdown",
   "metadata": {},
   "source": [
    "Now we can save the active coils dictionary for later use by FreeGSNKE."
   ]
  },
  {
   "cell_type": "code",
   "execution_count": 8,
   "metadata": {},
   "outputs": [],
   "source": [
    "import os\n",
    "if not os.path.exists(\"../machine_configs/example\"):\n",
    "    os.makedirs(\"../machine_configs/example\")\n",
    "\n",
    "with open(\"../machine_configs/example/active_coils.pickle\", \"wb\") as f:\n",
    "   pickle.dump(active_coils, f)"
   ]
  },
  {
   "cell_type": "markdown",
   "metadata": {},
   "source": [
    "## Passive structures\n",
    "Passive structures in FreeGSNKE are toroidally symmetric conducting structures that contain eddy currents induced by the active coils and the plasma. These non-voltage driven currents alter the magnetic field in the device and significantly affect equilibrium calculations. These can include support structures, the vessel, coil cans, etc.\n",
    "\n",
    "FreeGSNKE supports two different kind of passive structures:\n",
    "- filaments (i.e. single point sources)\n",
    "- polygonal structures (i.e. multiple grouped filaments). \n",
    "\n",
    "The full description of passive structures is provided by the user as a list of dictionaries.\n",
    "\n",
    "An element modelled as a single **filament** must include each of the following characteristics:\n",
    "- `R`: centre in the radial coordinate. \n",
    "- `Z`: centre in the vertical coordinate.\n",
    "- `dR`: width.\n",
    "- `dZ`: height.\n",
    "- `resistivity`: resistivity.\n",
    "- `name`: name of the passive structure, optional.\n",
    "\n",
    "These filaments are plotted as grey circles with a black outline in FreeGSNKE where their sizes are proportional to the height/width.\n",
    "\n",
    "An element describing a **polygonal shape** must include:\n",
    "- `R`: list or array of four radial coordinates for the polygon's vertices.\n",
    "- `Z`: list or array of four vertical coordinates for the polygon's vertices.\n",
    "- `resistivity`: resistivity.\n",
    "- `name`: name of the passive structure, optional.\n",
    "- `min_refine_per_area`: number of refinement points per m^2, optional.\n",
    "- `min_refine_per_length`: number of refinement points per m, optional.\n",
    "\n",
    "These filaments are plotted as polygons in FreeGSNKE with a black outline and grey interior.\n",
    "\n",
    "Note 1: The polygonal-shaped passives are \"refined\" under the hood in FreeGSNKE and are typically modelled using a large number of individual filaments that uniformly distribute current assigned to the polygon (see [Pentland et al. (2024)](https://arxiv.org/abs/2407.12432) for a description of this process).\n",
    "\n",
    "Note 2: Passives may also contain other information (recorded under their own keys - that won't affect calculations). \n",
    "\n",
    "In this example, we include both types. The list is named `passive_coils` to emphasise that the passive structures are modelled as coils under the hood. "
   ]
  },
  {
   "cell_type": "code",
   "execution_count": 9,
   "metadata": {},
   "outputs": [],
   "source": [
    "resistivity_wall = 5.5e-7   # resistivity of material (typically steel)\n",
    "\n",
    "passive_coils = []\n",
    "\n",
    "# some individual filaments\n",
    "passive_coils.append({\n",
    "    \"R\": 1.55,\n",
    "    \"Z\": -1.1,\n",
    "    \"dR\": 0.05,\n",
    "    \"dZ\": 0.05,\n",
    "    \"resistivity\": resistivity_wall\n",
    "})\n",
    "\n",
    "passive_coils.append({\n",
    "    \"R\": 1.55,\n",
    "    \"Z\": 1.1,\n",
    "    \"dR\": 0.05,\n",
    "    \"dZ\": 0.05,\n",
    "    \"resistivity\": resistivity_wall\n",
    "})\n",
    "\n",
    "passive_coils.append({\n",
    "    \"R\": 1.55,\n",
    "    \"Z\": -1.2,\n",
    "    \"dR\": 0.07,\n",
    "    \"dZ\": 0.07,\n",
    "    \"resistivity\": resistivity_wall\n",
    "})\n",
    "\n",
    "passive_coils.append({\n",
    "    \"R\": 1.55,\n",
    "    \"Z\": 1.2,\n",
    "    \"dR\": 0.07,\n",
    "    \"dZ\": 0.07,\n",
    "    \"resistivity\": resistivity_wall\n",
    "})\n",
    "\n",
    "\n",
    "\n",
    "\n",
    "# some polygons to be refined\n",
    "passive_coils.append({\n",
    "    \"R\": [.25,2.1,2.1,.25],\n",
    "    \"Z\": [-1.3,-1.35,-1.4,-1.35],\n",
    "    \"name\": 'passive_lower_wall',\n",
    "    \"resistivity\": resistivity_wall\n",
    "})\n",
    "\n",
    "passive_coils.append({\n",
    "    \"R\": [.25,2.1,2.1,.25],\n",
    "    \"Z\": [1.3,1.35,1.4,1.35],\n",
    "    \"name\": 'passive_upper_wall',\n",
    "    \"resistivity\": resistivity_wall\n",
    "})\n",
    "\n",
    "passive_coils.append({\n",
    "    \"R\": [.25,.275,.275,.25],\n",
    "    \"Z\": [-1.25,-1.25,1.25,1.25],\n",
    "    \"name\": 'passive_left_wall',\n",
    "    \"resistivity\": resistivity_wall\n",
    "})\n",
    "\n",
    "passive_coils.append({\n",
    "    \"R\": [2,2.1,2.1,2],\n",
    "    \"Z\": [-1.3,-1.3,1.3,1.3],\n",
    "    \"name\": 'passive_right_wall',\n",
    "    \"resistivity\": resistivity_wall\n",
    "})"
   ]
  },
  {
   "cell_type": "markdown",
   "metadata": {},
   "source": [
    "Save the passive structures to a pickle."
   ]
  },
  {
   "cell_type": "code",
   "execution_count": 10,
   "metadata": {},
   "outputs": [],
   "source": [
    "with open(\"../machine_configs/example/passive_coils.pickle\", \"wb\") as f:\n",
    "   pickle.dump(passive_coils, f)"
   ]
  },
  {
   "cell_type": "markdown",
   "metadata": {},
   "source": [
    "## Limiter\n",
    "A *limiter* in FreeGSNKE is a synthetic boundary that is used in various routines, typically it will be used to contain the core plasma. To define a limiter, simply specify points along its boundary.\n",
    "\n",
    "For diverted plasmas, the limiter has no effect on the equilibrium or its evolution. For limiter plasmas, the last closed flux surface will be tangent to the limiter. FreeGSNKE will also force the last closed flux surface to lie entirely inside the region allowed by the limiter. In other words, outside the limiter, the constraint $J=0$ on the plasma current density is enforced. \n",
    "\n",
    "The format of the limiter coordinates for FreeGSNKE is a simple list of dictionaries with `R` and `Z` coordinates."
   ]
  },
  {
   "cell_type": "code",
   "execution_count": 11,
   "metadata": {},
   "outputs": [],
   "source": [
    "r_limiter = [1.3       , 1.27290862, 1.19457025, 1.07347408, 0.92274274,\n",
    "       0.75871033, 0.59915229, 0.46135921, 0.36026312, 0.30681935,\n",
    "       0.30681935, 0.36026312, 0.46135921, 0.59915229, 0.75871033,\n",
    "       0.92274274, 1.07347408, 1.19457025, 1.27290862, 1.3]\n",
    "z_limiter = [0.00000000e+00,  2.59759575e-01,  4.91370170e-01,  6.69733183e-01,\n",
    "        7.75520213e-01,  7.97267594e-01,  7.32618661e-01,  5.88579129e-01,\n",
    "        3.80757914e-01,  1.31675672e-01, -1.31675672e-01, -3.80757914e-01,\n",
    "       -5.88579129e-01, -7.32618661e-01, -7.97267594e-01, -7.75520213e-01,\n",
    "       -6.69733183e-01, -4.91370170e-01, -2.59759575e-01, -1.95943488e-16]\n",
    "\n",
    "limiter = []\n",
    "for r, z in zip(r_limiter, z_limiter):\n",
    "    limiter.append({\"R\": r+0.05, \"Z\": z})"
   ]
  },
  {
   "cell_type": "markdown",
   "metadata": {},
   "source": [
    "Save as a pickle file for FreeGSNKE to access later."
   ]
  },
  {
   "cell_type": "code",
   "execution_count": 12,
   "metadata": {},
   "outputs": [],
   "source": [
    "with open(\"../machine_configs/example/limiter.pickle\", \"wb\") as f:\n",
    "   pickle.dump(limiter, f)"
   ]
  },
  {
   "cell_type": "markdown",
   "metadata": {},
   "source": [
    "## Wall\n",
    "A *wall* in FreeGSNKE is very similar to a limiter. However, there is no $J=0$\n",
    "constraint enforced outside the wall. The wall is used in plotting routines and\n",
    "can be used to calculate useful quantities like divertor strike point locations.\n",
    "\n",
    "In general, a wall and limiter in FreeGSNKE can be defined to be different\n",
    "contours. For example, a tokamak with a divertor would have the wall following\n",
    "the contour of the divertor, while the limiter might cut across the divertor\n",
    "entrance."
   ]
  },
  {
   "cell_type": "code",
   "execution_count": 13,
   "metadata": {},
   "outputs": [],
   "source": [
    "r_wall = [0.3, 1.4, 1.4, 0.3, 0.3]\n",
    "z_wall = [-0.85, -0.85, 0.85, 0.85, -0.85]\n",
    "\n",
    "\n",
    "wall = []\n",
    "for r, z in zip(r_wall, z_wall):\n",
    "    wall.append({\"R\": r, \"Z\": z})\n",
    "\n",
    "with open(\"../machine_configs/example/wall.pickle\", \"wb\") as f:\n",
    "   pickle.dump(wall, f)"
   ]
  },
  {
   "cell_type": "markdown",
   "metadata": {},
   "source": [
    "## Magnetic Probes \n",
    "\n",
    "There are a variety of magnetic probes in the machine that measure various components of the magnetic field and or the flux function. The description of these is contained in a dictionary we'll call `magnetic_probes` which has the probe type as a key and then a list of smaller dictionaries for each individual probe. Currently the *flux loops* and *pickup coils* are implemented (others may be implemented at a later date).\n",
    "- The **flux loops** compute the flux function $\\psi(R,Z)$. The dictionary description contains the `name` and the `position` of the probe which is a 2D array with $R$ and $Z$ coordinates. \n",
    "- The **pickup coils** compute $B\\cdot \\hat n$ where $\\hat n$ is a unit orientation vector of the probe. They are described by dictionaries containing the `name` as before, the `position` which is now a 3D array of coordinates $(R,\\phi,Z)$, an `orientation` key with a string description of the orientation (parallel, toroidal, normal), and finally an `orientation_vector` $\\hat n$. This is also a 3D array - it must be the same dimension as the position. \n",
    "\n",
    "For example, taking the first two probes of each type we would have the following dictionary structure."
   ]
  },
  {
   "cell_type": "code",
   "execution_count": 14,
   "metadata": {},
   "outputs": [],
   "source": [
    "# create list of flux loop dictionaries\n",
    "flux_loops = []\n",
    "flux_loops.append({'name': 'fl_nu_01', 'position': np.array([0.901 , 1.3582])})\n",
    "flux_loops.append({'name': 'fl_nu_02', 'position':np.array([0.9544   , 1.3041999])})\n",
    "\n",
    "# create list of pickup coil dictionaries\n",
    "pickup_coils = []\n",
    "pickup_coils.append({'name': 'b_c1_p01', 'position': np.array([2.76900e-01, 3.00000e+02, 1.26203e+00]), 'orientation': 'PARALLEL', 'orientation_vector': np.array([0., 0., 1.])}\n",
    ")\n",
    "pickup_coils.append({'name': 'b_c1_t02', 'position': np.array([2.7689108e-01, 2.9999680e+02, 1.2245095e+00]), 'orientation': 'TOROIDAL', 'orientation_vector': np.array([0., 1., 0.])}\n",
    ")\n",
    "\n",
    "# create magnetic probes dictionary\n",
    "magnetic_probes = {'flux_loops': flux_loops, 'pickups': pickup_coils}\n",
    "\n",
    "# save as pickle file\n",
    "with open(\"../machine_configs/example/magnetic_probes.pickle\", \"wb\") as f:\n",
    "   pickle.dump(magnetic_probes, f)"
   ]
  },
  {
   "cell_type": "markdown",
   "metadata": {},
   "source": [
    "## Building the machine\n",
    "Now we'll plot the components of the machine to visualise its configuration."
   ]
  },
  {
   "cell_type": "code",
   "execution_count": 15,
   "metadata": {},
   "outputs": [],
   "source": [
    "import matplotlib.pyplot as plt"
   ]
  },
  {
   "cell_type": "markdown",
   "metadata": {},
   "source": [
    "First, we set the paths to the pickle files we've just built. Then when we call 'build_machine.tokamak()', it will know which files to use. After this, we can plot the machine directly from the tokamak object (note that the limiter and wall need to be plot separately). "
   ]
  },
  {
   "cell_type": "code",
   "execution_count": 16,
   "metadata": {},
   "outputs": [
    {
     "name": "stdout",
     "output_type": "stream",
     "text": [
      "Active coils --> built from pickle file.\n",
      "Passive structures --> built from pickle file.\n",
      "Limiter --> built from pickle file.\n",
      "Wall --> built from pickle file.\n",
      "Magnetic probes --> built from pickle file.\n",
      "Resistance (R) and inductance (M) matrices --> built using actives (and passives if present).\n",
      "Tokamak built.\n"
     ]
    }
   ],
   "source": [
    "# build machine\n",
    "from freegsnke import build_machine\n",
    "tokamak = build_machine.tokamak(\n",
    "    active_coils_path=f\"../machine_configs/example/active_coils.pickle\",\n",
    "    passive_coils_path=f\"../machine_configs/example/passive_coils.pickle\",\n",
    "    limiter_path=f\"../machine_configs/example/limiter.pickle\",\n",
    "    wall_path=f\"../machine_configs/example/wall.pickle\",\n",
    "    magnetic_probe_path=f\"../machine_configs/example/magnetic_probes.pickle\",\n",
    ")"
   ]
  },
  {
   "cell_type": "markdown",
   "metadata": {},
   "source": [
    "Note that here the magnetic probes have not been plotted, this will be shown in a later notebook. "
   ]
  },
  {
   "cell_type": "code",
   "execution_count": 17,
   "metadata": {},
   "outputs": [
    {
     "data": {
      "text/plain": [
       "Text(10.027777777777777, 0.5, 'Height, $Z$ [m]')"
      ]
     },
     "execution_count": 17,
     "metadata": {},
     "output_type": "execute_result"
    },
    {
     "data": {
      "image/png": "[encoded data removed]",
      "text/plain": [
       "<Figure size 320x640 with 1 Axes>"
      ]
     },
     "metadata": {},
     "output_type": "display_data"
    }
   ],
   "source": [
    "# plot the resulting equilbria \n",
    "fig1, ax1 = plt.subplots(1, 1, figsize=(4, 8), dpi=80)\n",
    "plt.tight_layout()\n",
    "\n",
    "tokamak.plot(axis=ax1, show=False)\n",
    "ax1.plot(tokamak.limiter.R, tokamak.limiter.Z, color='k', linewidth=1.2, linestyle=\"--\")\n",
    "ax1.plot(tokamak.wall.R, tokamak.wall.Z, color='k', linewidth=1.2, linestyle=\"-\")\n",
    "\n",
    "ax1.grid(alpha=0.5)\n",
    "ax1.set_aspect('equal')\n",
    "ax1.set_xlim(0.1, 2.15)\n",
    "ax1.set_ylim(-1.5, 1.5)\n",
    "ax1.set_xlabel(r'Major radius, $R$ [m]')\n",
    "ax1.set_ylabel(r'Height, $Z$ [m]')"
   ]
  },
  {
   "cell_type": "markdown",
   "metadata": {},
   "source": [
    "It is worth spending some time exploring the `tokamak` object to get familiar with all of the information it holds. A number of methods may not work properly yet as we have not instatiated an equilibrium object (that will be in a future notebook).  \n",
    "\n",
    "We can, however, look at the active coils and other features defined in our tokamak."
   ]
  },
  {
   "cell_type": "code",
   "execution_count": 18,
   "metadata": {},
   "outputs": [
    {
     "data": {
      "text/plain": [
       "['Pz',\n",
       " 'P1',\n",
       " 'P2',\n",
       " 'Solenoid',\n",
       " 'passive_0',\n",
       " 'passive_1',\n",
       " 'passive_2',\n",
       " 'passive_3',\n",
       " 'passive_lower_wall',\n",
       " 'passive_upper_wall',\n",
       " 'passive_left_wall',\n",
       " 'passive_right_wall']"
      ]
     },
     "execution_count": 18,
     "metadata": {},
     "output_type": "execute_result"
    }
   ],
   "source": [
    "tokamak.coils_list"
   ]
  },
  {
   "cell_type": "code",
   "execution_count": 19,
   "metadata": {},
   "outputs": [
    {
     "data": {
      "text/plain": [
       "{'active': True,\n",
       " 'coords': array([[ 0.7,  0.7,  0.8,  0.8,  0.7,  0.7,  0.8,  0.8],\n",
       "        [ 1.1,  1.2,  1.1,  1.2, -1.1, -1.2, -1.1, -1.2]]),\n",
       " 'polarity': array([1, 1, 1, 1, 1, 1, 1, 1]),\n",
       " 'multiplier': array([1, 1, 1, 1, 1, 1, 1, 1]),\n",
       " 'dR': 0.08,\n",
       " 'dZ': 0.08,\n",
       " 'resistivity_over_area': 2.421875e-06}"
      ]
     },
     "execution_count": 19,
     "metadata": {},
     "output_type": "execute_result"
    }
   ],
   "source": [
    "tokamak.coils_dict[\"P1\"]"
   ]
  },
  {
   "cell_type": "markdown",
   "metadata": {},
   "source": [
    "Notice how passive coils have the 'active': False property (distinguishing them from the actual active coils) and have a multiplier value less than 1 (in the polygon case). This is because the polygon has been refined under the hood using lots of individual filaments. If we were to assign a current to this passive structure, the multiplier says that each filament will be assigned this fraction of the total current. This helps spread the total current over the total surface area of the polygonal shape. "
   ]
  },
  {
   "cell_type": "code",
   "execution_count": 20,
   "metadata": {},
   "outputs": [
    {
     "data": {
      "text/plain": [
       "{'active': False,\n",
       " 'vertices': array([[ 0.25,  2.1 ,  2.1 ,  0.25],\n",
       "        [-1.3 , -1.35, -1.4 , -1.35]]),\n",
       " 'coords': array([[ 1.58520293,  1.60128968,  1.61737643,  1.63346319,  1.64954994,\n",
       "          1.66563669,  1.68172344,  1.6978102 ,  1.71389695,  1.7299837 ,\n",
       "          1.74607045,  1.7621572 ,  1.77824396,  1.79433071,  1.81041746,\n",
       "          1.82650421,  1.84259097,  1.85867772,  1.87476447,  1.89085122,\n",
       "          1.90693797,  1.92302473,  1.93911148,  1.95519823,  1.97128498,\n",
       "          1.98737173,  2.00345849,  2.01954524,  2.03563199,  2.05171874,\n",
       "          2.0678055 ,  2.08389225,  2.099979  ,  1.05434011,  1.07042686,\n",
       "          1.08651361,  1.10260037,  1.11868712,  1.13477387,  1.15086062,\n",
       "          1.16694737,  1.18303413,  1.19912088,  1.21520763,  1.23129438,\n",
       "          1.24738113,  1.26346789,  1.27955464,  1.29564139,  1.31172814,\n",
       "          1.3278149 ,  1.34390165,  1.3599884 ,  1.37607515,  1.3921619 ,\n",
       "          1.40824866,  1.42433541,  1.44042216,  1.45650891,  1.47259567,\n",
       "          1.48868242,  1.50476917,  1.52085592,  1.53694267,  1.55302943,\n",
       "          1.56911618,  1.58520293,  1.60128968,  1.61737643,  1.63346319,\n",
       "          1.64954994,  1.66563669,  1.68172344,  1.6978102 ,  1.71389695,\n",
       "          1.7299837 ,  1.74607045,  1.7621572 ,  1.77824396,  1.79433071,\n",
       "          1.81041746,  1.82650421,  1.84259097,  1.85867772,  1.87476447,\n",
       "          1.89085122,  1.90693797,  1.92302473,  1.93911148,  1.95519823,\n",
       "          1.97128498,  1.98737173,  2.00345849,  2.01954524,  2.03563199,\n",
       "          2.05171874,  2.0678055 ,  2.08389225,  2.099979  ,  0.52347729,\n",
       "          0.53956404,  0.55565079,  0.57173754,  0.5878243 ,  0.60391105,\n",
       "          0.6199978 ,  0.63608455,  0.6521713 ,  0.66825806,  0.68434481,\n",
       "          0.70043156,  0.71651831,  0.73260507,  0.74869182,  0.76477857,\n",
       "          0.78086532,  0.79695207,  0.81303883,  0.82912558,  0.84521233,\n",
       "          0.86129908,  0.87738583,  0.89347259,  0.90955934,  0.92564609,\n",
       "          0.94173284,  0.9578196 ,  0.97390635,  0.9899931 ,  1.00607985,\n",
       "          1.0221666 ,  1.03825336,  1.05434011,  1.07042686,  1.08651361,\n",
       "          1.10260037,  1.11868712,  1.13477387,  1.15086062,  1.16694737,\n",
       "          1.18303413,  1.19912088,  1.21520763,  1.23129438,  1.24738113,\n",
       "          1.26346789,  1.27955464,  1.29564139,  1.31172814,  1.3278149 ,\n",
       "          1.34390165,  1.3599884 ,  1.37607515,  1.3921619 ,  1.40824866,\n",
       "          1.42433541,  1.44042216,  1.45650891,  1.47259567,  1.48868242,\n",
       "          1.50476917,  1.52085592,  1.53694267,  1.55302943,  1.56911618,\n",
       "          1.58520293,  1.60128968,  1.61737643,  1.63346319,  1.64954994,\n",
       "          1.66563669,  1.68172344,  1.6978102 ,  1.71389695,  1.7299837 ,\n",
       "          1.74607045,  1.7621572 ,  1.77824396,  1.79433071,  1.81041746,\n",
       "          1.82650421,  1.84259097,  1.85867772,  1.87476447,  1.89085122,\n",
       "          1.90693797,  1.92302473,  1.93911148,  1.95519823,  1.97128498,\n",
       "          1.98737173,  2.00345849,  2.01954524,  2.03563199,  2.05171874,\n",
       "          2.0678055 ,  2.08389225,  2.099979  ,  0.2500025 ,  0.26608925,\n",
       "          0.282176  ,  0.29826276,  0.31434951,  0.33043626,  0.34652301,\n",
       "          0.36260977,  0.37869652,  0.39478327,  0.41087002,  0.42695677,\n",
       "          0.44304353,  0.45913028,  0.47521703,  0.49130378,  0.50739053,\n",
       "          0.52347729,  0.53956404,  0.55565079,  0.57173754,  0.5878243 ,\n",
       "          0.60391105,  0.6199978 ,  0.63608455,  0.6521713 ,  0.66825806,\n",
       "          0.68434481,  0.70043156,  0.71651831,  0.73260507,  0.74869182,\n",
       "          0.76477857,  0.78086532,  0.79695207,  0.81303883,  0.82912558,\n",
       "          0.84521233,  0.86129908,  0.87738583,  0.89347259,  0.90955934,\n",
       "          0.92564609,  0.94173284,  0.9578196 ,  0.97390635,  0.9899931 ,\n",
       "          1.00607985,  1.0221666 ,  1.03825336,  1.05434011,  1.07042686,\n",
       "          1.08651361,  1.10260037,  1.11868712,  1.13477387,  1.15086062,\n",
       "          1.16694737,  1.18303413,  1.19912088,  1.21520763,  1.23129438,\n",
       "          1.24738113,  1.26346789,  1.27955464,  1.29564139,  1.31172814,\n",
       "          1.3278149 ,  1.34390165,  1.3599884 ,  1.37607515,  1.3921619 ,\n",
       "          1.40824866,  1.42433541,  1.44042216,  1.45650891,  1.47259567,\n",
       "          1.48868242,  1.50476917,  1.52085592,  1.53694267,  1.55302943,\n",
       "          1.56911618,  1.58520293,  1.60128968,  1.61737643,  1.63346319,\n",
       "          1.64954994,  1.66563669,  1.68172344,  1.6978102 ,  1.71389695,\n",
       "          1.7299837 ,  1.74607045,  1.7621572 ,  1.77824396,  1.79433071,\n",
       "          1.81041746,  1.82650421,  0.2500025 ,  0.26608925,  0.282176  ,\n",
       "          0.29826276,  0.31434951,  0.33043626,  0.34652301,  0.36260977,\n",
       "          0.37869652,  0.39478327,  0.41087002,  0.42695677,  0.44304353,\n",
       "          0.45913028,  0.47521703,  0.49130378,  0.50739053,  0.52347729,\n",
       "          0.53956404,  0.55565079,  0.57173754,  0.5878243 ,  0.60391105,\n",
       "          0.6199978 ,  0.63608455,  0.6521713 ,  0.66825806,  0.68434481,\n",
       "          0.70043156,  0.71651831,  0.73260507,  0.74869182,  0.76477857,\n",
       "          0.78086532,  0.79695207,  0.81303883,  0.82912558,  0.84521233,\n",
       "          0.86129908,  0.87738583,  0.89347259,  0.90955934,  0.92564609,\n",
       "          0.94173284,  0.9578196 ,  0.97390635,  0.9899931 ,  1.00607985,\n",
       "          1.0221666 ,  1.03825336,  1.05434011,  1.07042686,  1.08651361,\n",
       "          1.10260037,  1.11868712,  1.13477387,  1.15086062,  1.16694737,\n",
       "          1.18303413,  1.19912088,  1.21520763,  1.23129438,  1.24738113,\n",
       "          1.26346789,  1.27955464,  1.29564139,  0.2500025 ,  0.26608925,\n",
       "          0.282176  ,  0.29826276,  0.31434951,  0.33043626,  0.34652301,\n",
       "          0.36260977,  0.37869652,  0.39478327,  0.41087002,  0.42695677,\n",
       "          0.44304353,  0.45913028,  0.47521703,  0.49130378,  0.50739053,\n",
       "          0.52347729,  0.53956404,  0.55565079,  0.57173754,  0.5878243 ,\n",
       "          0.60391105,  0.6199978 ,  0.63608455,  0.6521713 ,  0.66825806,\n",
       "          0.68434481,  0.70043156,  0.71651831,  0.73260507,  0.74869182,\n",
       "          0.76477857],\n",
       "        [-1.38572443, -1.38572443, -1.38572443, -1.38572443, -1.38572443,\n",
       "         -1.38572443, -1.38572443, -1.38572443, -1.38572443, -1.38572443,\n",
       "         -1.38572443, -1.38572443, -1.38572443, -1.38572443, -1.38572443,\n",
       "         -1.38572443, -1.38572443, -1.38572443, -1.38572443, -1.38572443,\n",
       "         -1.38572443, -1.38572443, -1.38572443, -1.38572443, -1.38572443,\n",
       "         -1.38572443, -1.38572443, -1.38572443, -1.38572443, -1.38572443,\n",
       "         -1.38572443, -1.38572443, -1.38572443, -1.37143486, -1.37143486,\n",
       "         -1.37143486, -1.37143486, -1.37143486, -1.37143486, -1.37143486,\n",
       "         -1.37143486, -1.37143486, -1.37143486, -1.37143486, -1.37143486,\n",
       "         -1.37143486, -1.37143486, -1.37143486, -1.37143486, -1.37143486,\n",
       "         -1.37143486, -1.37143486, -1.37143486, -1.37143486, -1.37143486,\n",
       "         -1.37143486, -1.37143486, -1.37143486, -1.37143486, -1.37143486,\n",
       "         -1.37143486, -1.37143486, -1.37143486, -1.37143486, -1.37143486,\n",
       "         -1.37143486, -1.37143486, -1.37143486, -1.37143486, -1.37143486,\n",
       "         -1.37143486, -1.37143486, -1.37143486, -1.37143486, -1.37143486,\n",
       "         -1.37143486, -1.37143486, -1.37143486, -1.37143486, -1.37143486,\n",
       "         -1.37143486, -1.37143486, -1.37143486, -1.37143486, -1.37143486,\n",
       "         -1.37143486, -1.37143486, -1.37143486, -1.37143486, -1.37143486,\n",
       "         -1.37143486, -1.37143486, -1.37143486, -1.37143486, -1.37143486,\n",
       "         -1.37143486, -1.37143486, -1.37143486, -1.37143486, -1.35714529,\n",
       "         -1.35714529, -1.35714529, -1.35714529, -1.35714529, -1.35714529,\n",
       "         -1.35714529, -1.35714529, -1.35714529, -1.35714529, -1.35714529,\n",
       "         -1.35714529, -1.35714529, -1.35714529, -1.35714529, -1.35714529,\n",
       "         -1.35714529, -1.35714529, -1.35714529, -1.35714529, -1.35714529,\n",
       "         -1.35714529, -1.35714529, -1.35714529, -1.35714529, -1.35714529,\n",
       "         -1.35714529, -1.35714529, -1.35714529, -1.35714529, -1.35714529,\n",
       "         -1.35714529, -1.35714529, -1.35714529, -1.35714529, -1.35714529,\n",
       "         -1.35714529, -1.35714529, -1.35714529, -1.35714529, -1.35714529,\n",
       "         -1.35714529, -1.35714529, -1.35714529, -1.35714529, -1.35714529,\n",
       "         -1.35714529, -1.35714529, -1.35714529, -1.35714529, -1.35714529,\n",
       "         -1.35714529, -1.35714529, -1.35714529, -1.35714529, -1.35714529,\n",
       "         -1.35714529, -1.35714529, -1.35714529, -1.35714529, -1.35714529,\n",
       "         -1.35714529, -1.35714529, -1.35714529, -1.35714529, -1.35714529,\n",
       "         -1.35714529, -1.35714529, -1.35714529, -1.35714529, -1.35714529,\n",
       "         -1.35714529, -1.35714529, -1.35714529, -1.35714529, -1.35714529,\n",
       "         -1.35714529, -1.35714529, -1.35714529, -1.35714529, -1.35714529,\n",
       "         -1.35714529, -1.35714529, -1.35714529, -1.35714529, -1.35714529,\n",
       "         -1.35714529, -1.35714529, -1.35714529, -1.35714529, -1.35714529,\n",
       "         -1.35714529, -1.35714529, -1.35714529, -1.35714529, -1.35714529,\n",
       "         -1.35714529, -1.35714529, -1.35714529, -1.34285571, -1.34285571,\n",
       "         -1.34285571, -1.34285571, -1.34285571, -1.34285571, -1.34285571,\n",
       "         -1.34285571, -1.34285571, -1.34285571, -1.34285571, -1.34285571,\n",
       "         -1.34285571, -1.34285571, -1.34285571, -1.34285571, -1.34285571,\n",
       "         -1.34285571, -1.34285571, -1.34285571, -1.34285571, -1.34285571,\n",
       "         -1.34285571, -1.34285571, -1.34285571, -1.34285571, -1.34285571,\n",
       "         -1.34285571, -1.34285571, -1.34285571, -1.34285571, -1.34285571,\n",
       "         -1.34285571, -1.34285571, -1.34285571, -1.34285571, -1.34285571,\n",
       "         -1.34285571, -1.34285571, -1.34285571, -1.34285571, -1.34285571,\n",
       "         -1.34285571, -1.34285571, -1.34285571, -1.34285571, -1.34285571,\n",
       "         -1.34285571, -1.34285571, -1.34285571, -1.34285571, -1.34285571,\n",
       "         -1.34285571, -1.34285571, -1.34285571, -1.34285571, -1.34285571,\n",
       "         -1.34285571, -1.34285571, -1.34285571, -1.34285571, -1.34285571,\n",
       "         -1.34285571, -1.34285571, -1.34285571, -1.34285571, -1.34285571,\n",
       "         -1.34285571, -1.34285571, -1.34285571, -1.34285571, -1.34285571,\n",
       "         -1.34285571, -1.34285571, -1.34285571, -1.34285571, -1.34285571,\n",
       "         -1.34285571, -1.34285571, -1.34285571, -1.34285571, -1.34285571,\n",
       "         -1.34285571, -1.34285571, -1.34285571, -1.34285571, -1.34285571,\n",
       "         -1.34285571, -1.34285571, -1.34285571, -1.34285571, -1.34285571,\n",
       "         -1.34285571, -1.34285571, -1.34285571, -1.34285571, -1.34285571,\n",
       "         -1.34285571, -1.34285571, -1.32856614, -1.32856614, -1.32856614,\n",
       "         -1.32856614, -1.32856614, -1.32856614, -1.32856614, -1.32856614,\n",
       "         -1.32856614, -1.32856614, -1.32856614, -1.32856614, -1.32856614,\n",
       "         -1.32856614, -1.32856614, -1.32856614, -1.32856614, -1.32856614,\n",
       "         -1.32856614, -1.32856614, -1.32856614, -1.32856614, -1.32856614,\n",
       "         -1.32856614, -1.32856614, -1.32856614, -1.32856614, -1.32856614,\n",
       "         -1.32856614, -1.32856614, -1.32856614, -1.32856614, -1.32856614,\n",
       "         -1.32856614, -1.32856614, -1.32856614, -1.32856614, -1.32856614,\n",
       "         -1.32856614, -1.32856614, -1.32856614, -1.32856614, -1.32856614,\n",
       "         -1.32856614, -1.32856614, -1.32856614, -1.32856614, -1.32856614,\n",
       "         -1.32856614, -1.32856614, -1.32856614, -1.32856614, -1.32856614,\n",
       "         -1.32856614, -1.32856614, -1.32856614, -1.32856614, -1.32856614,\n",
       "         -1.32856614, -1.32856614, -1.32856614, -1.32856614, -1.32856614,\n",
       "         -1.32856614, -1.32856614, -1.32856614, -1.31427657, -1.31427657,\n",
       "         -1.31427657, -1.31427657, -1.31427657, -1.31427657, -1.31427657,\n",
       "         -1.31427657, -1.31427657, -1.31427657, -1.31427657, -1.31427657,\n",
       "         -1.31427657, -1.31427657, -1.31427657, -1.31427657, -1.31427657,\n",
       "         -1.31427657, -1.31427657, -1.31427657, -1.31427657, -1.31427657,\n",
       "         -1.31427657, -1.31427657, -1.31427657, -1.31427657, -1.31427657,\n",
       "         -1.31427657, -1.31427657, -1.31427657, -1.31427657, -1.31427657,\n",
       "         -1.31427657]]),\n",
       " 'area': 0.09231869999999989,\n",
       " 'dR': 0.015268530718540996,\n",
       " 'dZ': 0.015268530718540996,\n",
       " 'polarity': array([1]),\n",
       " 'resistivity_over_area': 5.957622886804089e-06,\n",
       " 'multiplier': array([0.00252525])}"
      ]
     },
     "execution_count": 20,
     "metadata": {},
     "output_type": "execute_result"
    }
   ],
   "source": [
    "tokamak.coils_dict[\"passive_lower_wall\"] "
   ]
  },
  {
   "cell_type": "code",
   "execution_count": 21,
   "metadata": {},
   "outputs": [
    {
     "data": {
      "text/plain": [
       "Wall(R=[1.35, 1.32290862, 1.24457025, 1.12347408, 0.97274274, 0.80871033, 0.6491522900000001, 0.5113592100000001, 0.41026312, 0.35681935, 0.35681935, 0.41026312, 0.5113592100000001, 0.6491522900000001, 0.80871033, 0.97274274, 1.12347408, 1.24457025, 1.32290862, 1.35], Z=[0.0, 0.259759575, 0.49137017, 0.669733183, 0.775520213, 0.797267594, 0.732618661, 0.588579129, 0.380757914, 0.131675672, -0.131675672, -0.380757914, -0.588579129, -0.732618661, -0.797267594, -0.775520213, -0.669733183, -0.49137017, -0.259759575, -1.95943488e-16])"
      ]
     },
     "execution_count": 21,
     "metadata": {},
     "output_type": "execute_result"
    }
   ],
   "source": [
    "tokamak.limiter"
   ]
  },
  {
   "cell_type": "code",
   "execution_count": 22,
   "metadata": {},
   "outputs": [
    {
     "data": {
      "text/plain": [
       "Wall(R=[0.3, 1.4, 1.4, 0.3, 0.3], Z=[-0.85, -0.85, 0.85, 0.85, -0.85])"
      ]
     },
     "execution_count": 22,
     "metadata": {},
     "output_type": "execute_result"
    }
   ],
   "source": [
    "tokamak.wall"
   ]
  },
  {
   "cell_type": "markdown",
   "metadata": {},
   "source": [
    "We can view the currents assigned to each active coil and passive structure (noting that we have yet to assign or calculate any currents yet):"
   ]
  },
  {
   "cell_type": "code",
   "execution_count": 23,
   "metadata": {},
   "outputs": [
    {
     "data": {
      "text/plain": [
       "{'Pz': 0.0,\n",
       " 'P1': 0.0,\n",
       " 'P2': 0.0,\n",
       " 'Solenoid': 0.0,\n",
       " 'passive_0': 0.0,\n",
       " 'passive_1': 0.0,\n",
       " 'passive_2': 0.0,\n",
       " 'passive_3': 0.0,\n",
       " 'passive_lower_wall': 0,\n",
       " 'passive_upper_wall': 0,\n",
       " 'passive_left_wall': 0,\n",
       " 'passive_right_wall': 0}"
      ]
     },
     "execution_count": 23,
     "metadata": {},
     "output_type": "execute_result"
    }
   ],
   "source": [
    "tokamak.getCurrents()"
   ]
  },
  {
   "cell_type": "markdown",
   "metadata": {},
   "source": [
    "Using the following command, we can print all of the coil/passive information. Note that the 'mirror' field is not used and the 'control' field tells the inverse solver (in later notebooks) whether it should find a current for the coil (True) or not (False). We will see how this works when carrying out an inverse solve."
   ]
  },
  {
   "cell_type": "code",
   "execution_count": 24,
   "metadata": {},
   "outputs": [
    {
     "name": "stdout",
     "output_type": "stream",
     "text": [
      "==========================\n",
      "Pz : Circuit([(\"Pz\", MultiCoil(R=[1.75], Z=[0.0], current=0.0, turns=1, control=True, mirror=False, polarity=[1.0, 1.0]), 1.0)], current=0.0, control=True)\n",
      "P1 : Circuit([(\"P1upper\", MultiCoil(R=[0.7, 0.7, 0.8, 0.8], Z=[1.1, 1.2, 1.1, 1.2], current=0.0, turns=4, control=True, mirror=False, polarity=[1.0, 1.0]), 1.0), (\"P1lower\", MultiCoil(R=[0.7, 0.7, 0.8, 0.8], Z=[-1.1, -1.2, -1.1, -1.2], current=0.0, turns=4, control=True, mirror=False, polarity=[1.0, 1.0]), 1.0)], current=0.0, control=True)\n",
      "P2 : Circuit([(\"P2upper\", MultiCoil(R=[1.7, 1.7, 1.8], Z=[0.6, 0.7, 0.6], current=0.0, turns=3, control=True, mirror=False, polarity=[1.0, 1.0]), 1.0), (\"P2lower\", MultiCoil(R=[1.7, 1.7, 1.8], Z=[-0.6, -0.7, -0.6], current=0.0, turns=3, control=True, mirror=False, polarity=[1.0, 1.0]), -1.0)], current=0.0, control=True)\n",
      "Solenoid : Circuit([(\"Solenoid\", MultiCoil(R=[0.15, 0.15, 0.15, 0.15, 0.15, 0.15, 0.15, 0.15, 0.15, 0.15, 0.15, 0.15, 0.15, 0.15, 0.15, 0.15, 0.2, 0.2, 0.2, 0.2, 0.2, 0.2, 0.2, 0.2, 0.2, 0.2, 0.2, 0.2, 0.2, 0.2, 0.2, 0.2], Z=[-0.6, -0.52, -0.43999999999999995, -0.36, -0.27999999999999997, -0.19999999999999996, -0.12, -0.039999999999999925, 0.040000000000000036, 0.12, 0.20000000000000007, 0.28, 0.36, 0.44000000000000006, 0.5200000000000001, 0.6, -0.6, -0.52, -0.43999999999999995, -0.36, -0.27999999999999997, -0.19999999999999996, -0.12, -0.039999999999999925, 0.040000000000000036, 0.12, 0.20000000000000007, 0.28, 0.36, 0.44000000000000006, 0.5200000000000001, 0.6], current=0.0, turns=32, control=True, mirror=False, polarity=[1.0, 1.0]), 1.0)], current=0.0, control=True)\n",
      "passive_0 : Coil(R=1.55, Z=-1.1, current=0.0, turns=1, control=False)\n",
      "passive_1 : Coil(R=1.55, Z=1.1, current=0.0, turns=1, control=False)\n",
      "passive_2 : Coil(R=1.55, Z=-1.2, current=0.0, turns=1, control=False)\n",
      "passive_3 : Coil(R=1.55, Z=1.2, current=0.0, turns=1, control=False)\n",
      "passive_lower_wall : Coil(R=1.1745425369913562, Z=-1.3500293578308298, current=0.0, turns=1, control=False)\n",
      "passive_upper_wall : Coil(R=1.174145446131483, Z=1.3499813004605627, current=0.0, turns=1, control=False)\n",
      "passive_left_wall : Coil(R=0.26250000018279435, Z=-1.4268437283804224e-09, current=0.0, turns=1, control=False)\n",
      "passive_right_wall : Coil(R=2.049999999931975, Z=1.3847670778293075e-08, current=0.0, turns=1, control=False)\n",
      "==========================\n"
     ]
    }
   ],
   "source": [
    "tokamak.printCurrents()"
   ]
  },
  {
   "cell_type": "markdown",
   "metadata": {},
   "source": [
    "## Building the machine (alternate)\n",
    "One can alternatively build the machine by providing data directly, instead of providing paths to pickle files. \n",
    "\n",
    "This can be useful if one needs to build multiple tokamaks in a session (for optimisation purposes or otherwise). "
   ]
  },
  {
   "cell_type": "code",
   "execution_count": 25,
   "metadata": {},
   "outputs": [
    {
     "name": "stdout",
     "output_type": "stream",
     "text": [
      "Active coils --> built from user-provided data.\n",
      "Passive structures --> built from user-provided data.\n",
      "Limiter --> built from user-provided data.\n",
      "Wall --> built from user-provided data.\n",
      "Magnetic probes --> built from user-provided data.\n",
      "Resistance (R) and inductance (M) matrices --> built using actives (and passives if present).\n",
      "Tokamak built.\n"
     ]
    }
   ],
   "source": [
    "# build machine\n",
    "from freegsnke import build_machine\n",
    "tokamak_alt = build_machine.tokamak(\n",
    "    active_coils_data=active_coils,\n",
    "    passive_coils_data=passive_coils,\n",
    "    limiter_data=limiter,\n",
    "    wall_data=wall,\n",
    "    magnetic_probe_data=magnetic_probes,\n",
    ")"
   ]
  },
  {
   "cell_type": "code",
   "execution_count": 26,
   "metadata": {},
   "outputs": [
    {
     "data": {
      "text/plain": [
       "Text(10.027777777777777, 0.5, 'Height, $Z$ [m]')"
      ]
     },
     "execution_count": 26,
     "metadata": {},
     "output_type": "execute_result"
    },
    {
     "data": {
      "image/png": "[encoded data removed]",
      "text/plain": [
       "<Figure size 320x640 with 1 Axes>"
      ]
     },
     "metadata": {},
     "output_type": "display_data"
    }
   ],
   "source": [
    "# plot the resulting equilbria \n",
    "fig1, ax1 = plt.subplots(1, 1, figsize=(4, 8), dpi=80)\n",
    "plt.tight_layout()\n",
    "\n",
    "tokamak_alt.plot(axis=ax1, show=False)\n",
    "ax1.plot(tokamak_alt.limiter.R, tokamak_alt.limiter.Z, color='k', linewidth=1.2, linestyle=\"--\")\n",
    "ax1.plot(tokamak_alt.wall.R, tokamak_alt.wall.Z, color='k', linewidth=1.2, linestyle=\"-\")\n",
    "\n",
    "ax1.grid(alpha=0.5)\n",
    "ax1.set_aspect('equal')\n",
    "ax1.set_xlim(0.1, 2.15)\n",
    "ax1.set_ylim(-1.5, 1.5)\n",
    "ax1.set_xlabel(r'Major radius, $R$ [m]')\n",
    "ax1.set_ylabel(r'Height, $Z$ [m]')"
   ]
  }
 ],
 "metadata": {
  "kernelspec": {
   "display_name": "freegsnke",
   "language": "python",
   "name": "python3"
  },
  "language_info": {
   "codemirror_mode": {
    "name": "ipython",
    "version": 3
   },
   "file_extension": ".py",
   "mimetype": "text/x-python",
   "name": "python",
   "nbconvert_exporter": "python",
   "pygments_lexer": "ipython3",
   "version": "3.10.16"
  }
 },
 "nbformat": 4,
 "nbformat_minor": 4
}
