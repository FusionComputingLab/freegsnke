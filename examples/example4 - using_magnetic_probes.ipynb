{
 "cells": [
  {
   "cell_type": "markdown",
   "metadata": {},
   "source": [
    "# Example : Using the magnetic probes\n",
    "\n",
    "This example will show how to use the probes class."
   ]
  },
  {
   "cell_type": "markdown",
   "metadata": {},
   "source": [
    "## Generate a starting equilibrum (via a forward solve)\n",
    "\n",
    "First, we need a tokamak and equilibrium since the probes take properties from the equilibrium as inputs. \n",
    "\n",
    "We will copy the code from example_1 to generate a sample equilibrium."
   ]
  },
  {
   "cell_type": "code",
   "execution_count": null,
   "metadata": {},
   "outputs": [],
   "source": [
    "import numpy as np\n",
    "import os\n",
    "import matplotlib.pyplot as plt\n",
    "\n",
    "# build machine\n",
    "from freegsnke import build_machine\n",
    "tokamak = build_machine.tokamak(\n",
    "    active_coils_path=f\"../machine_configs/MAST-U/MAST-U_like_active_coils.pickle\",\n",
    "    passive_coils_path=f\"../machine_configs/MAST-U/MAST-U_like_passive_coils.pickle\",\n",
    "    limiter_path=f\"../machine_configs/MAST-U/MAST-U_like_limiter.pickle\",\n",
    "    wall_path=f\"../machine_configs/MAST-U/MAST-U_like_wall.pickle\",\n",
    "    magnetic_probe_path=f\"../machine_configs/MAST-U/MAST-U_like_magnetic_probes.pickle\",\n",
    ")\n",
    "\n",
    "# initialise the equilibrium\n",
    "from freegsnke import equilibrium_update\n",
    "eq = equilibrium_update.Equilibrium(\n",
    "    tokamak=tokamak,\n",
    "    Rmin=0.1, Rmax=2.0,   # Radial range\n",
    "    Zmin=-2.2, Zmax=2.2,  # Vertical range\n",
    "    nx=65,                # Number of grid points in the radial direction (needs to be of the form (2**n + 1) with n being an integer)\n",
    "    ny=129,               # Number of grid points in the vertical direction (needs to be of the form (2**n + 1) with n being an integer)\n",
    "    # psi=plasma_psi\n",
    ")  \n",
    "\n",
    "# initialise the profiles\n",
    "from freegsnke.jtor_update import ConstrainPaxisIp\n",
    "profiles = ConstrainPaxisIp(\n",
    "    eq=eq,        # equilibrium object\n",
    "    paxis=8e3,    # profile object\n",
    "    Ip=6e5,       # plasma current\n",
    "    fvac=0.5,     # fvac = rB_{tor}\n",
    "    alpha_m=1.8,  # profile function parameter\n",
    "    alpha_n=1.2   # profile function parameter\n",
    ")\n",
    "\n",
    "# load the nonlinear solver\n",
    "from freegsnke import GSstaticsolver\n",
    "GSStaticSolver = GSstaticsolver.NKGSsolver(eq)    \n",
    "\n",
    "# set the coil currents\n",
    "import pickle\n",
    "with open('simple_diverted_currents_PaxisIp.pk', 'rb') as f:\n",
    "    current_values = pickle.load(f)\n",
    "for key in current_values.keys():\n",
    "    eq.tokamak[key].current = current_values[key]\n",
    "\n",
    "# carry out the foward solve to find the equilibrium\n",
    "GSStaticSolver.solve(eq=eq, \n",
    "                     profiles=profiles, \n",
    "                     constrain=None, \n",
    "                     target_relative_tolerance=1e-9)\n",
    "\n",
    "# updates the plasma_psi (for later on)\n",
    "eq._updatePlasmaPsi(eq.plasma_psi)\n",
    "\n",
    "# plot the resulting equilbria \n",
    "fig1, ax1 = plt.subplots(1, 1, figsize=(4, 8), dpi=80)\n",
    "ax1.grid(True, which='both')\n",
    "eq.plot(axis=ax1, show=False)\n",
    "eq.tokamak.plot(axis=ax1, show=False)\n",
    "ax1.set_xlim(0.1, 2.15)\n",
    "ax1.set_ylim(-2.25, 2.25)\n",
    "plt.tight_layout()"
   ]
  },
  {
   "cell_type": "markdown",
   "metadata": {},
   "source": [
    "## Using the probe objects\n",
    "\n",
    "The tokamak object has a probe object attribute pre-initialised, however, if we wanted to we could create a stand alone one by importing `freegsnke.magnetic_probes` and then setting up with `probes = magnetic_probes.Probe()`. \n",
    "\n",
    "In the tokamak, the probes object is located in `tokamak.probes`. When initialised it reads the information on the names, positions and orientations of the different probes from the pickle file. \n",
    "\n",
    "We need to initialise the Greens functions that are used in the calculations. This is done by running `tokamak.probes.initialise_setup(eq)`. This takes an input equilibrium object and saves probe attributes for each current source (i.e. the coils and the plasma) and evaluates the Greens functions at the positions of the probes. The purpose of the equilibrium here is to provide the size/shape of the grid that is used when determining the plasma Greens functions. "
   ]
  },
  {
   "cell_type": "code",
   "execution_count": null,
   "metadata": {},
   "outputs": [],
   "source": [
    "tokamak.probes.initialise_setup(eq)"
   ]
  },
  {
   "cell_type": "markdown",
   "metadata": {},
   "source": [
    "Once initialised we can also now access information from the different probes:\n",
    "- **flux loops**  measure $\\psi(r,z)$.\n",
    "- **pickup coils** measure $\\vec B(r,z)\\cdot \\hat n$ where $\\hat n$ is the orientation vector of the pickup coil."
   ]
  },
  {
   "cell_type": "code",
   "execution_count": null,
   "metadata": {},
   "outputs": [],
   "source": [
    "# display the first five flux loop info\n",
    "tokamak.probes.floops[0:5]\n",
    "#print(tokamak.probes.floop_order[:5])\n",
    "#print(tokamak.probes.floop_pos[:5])"
   ]
  },
  {
   "cell_type": "code",
   "execution_count": null,
   "metadata": {},
   "outputs": [],
   "source": [
    "# display the first five pickup coils info\n",
    "tokamak.probes.pickups[0:5]\n",
    "#print(tokamak.probes.floop_order[:5])\n",
    "#print(tokamak.probes.floop_pos[:5])"
   ]
  },
  {
   "cell_type": "markdown",
   "metadata": {},
   "source": [
    "Now in principle we could update and re-solve for the equilibrium. Doing this will not require any changes to the probe object, assuming the machine setup doesn't change. \n",
    "\n",
    "Once we have the equilibrium we want to analyse with the probes, we can call the probe functions `calculate_fluxloop_value(eq)` and `calculate_pickup_value(eq)`, the outputs of which are arrays with probe values for each probe. \n",
    "\n",
    "If one is interested in certain probes, then `tokamak.probes.floop_order` and `tokamak.probes.pickup_order` contain a list of the probe names which can be used to find the appropriate element of the output list. Alternatively the could be combined into a dictionary."
   ]
  },
  {
   "cell_type": "code",
   "execution_count": null,
   "metadata": {},
   "outputs": [],
   "source": [
    "# compute probe values from equilibrium \n",
    "floops_vals = tokamak.probes.calculate_fluxloop_value(eq)\n",
    "pickups_vals = tokamak.probes.calculate_pickup_value(eq)"
   ]
  },
  {
   "cell_type": "code",
   "execution_count": null,
   "metadata": {
    "scrolled": true
   },
   "outputs": [],
   "source": [
    "# create dictionary to access specific values (show here for the flux loops)\n",
    "dict = {}\n",
    "for i, el in enumerate(tokamak.probes.floop_order):\n",
    "    dict[el] = floops_vals[i]\n",
    "dict"
   ]
  },
  {
   "cell_type": "markdown",
   "metadata": {},
   "source": [
    "Suppose we want to compute a new equilibrium with a different grid spacing or shape. We don't need to update the probe objects, we simply pass the new equilibrium to the 'calculate' functions. The first time a new grid is encountered it will create a new set of greens functions and save them to a dictionary so that they can be reused in the future if the same grid is used again. \n",
    "\n",
    "Below is a new equilibrium with a modified grid shape and spacing. When a new grid is encountered, a message is displayed to tell that new greens are computed. Note it only does it the first time.\n",
    "\n",
    "Note that computing on a different grid but with same plasma setup should give the same values at the probes (which it does). "
   ]
  },
  {
   "cell_type": "code",
   "execution_count": null,
   "metadata": {},
   "outputs": [],
   "source": [
    "# initialise the equilibrium\n",
    "eq_new = equilibrium_update.Equilibrium(\n",
    "    tokamak=tokamak,\n",
    "    Rmin=0.1, Rmax=2.0,   # Radial range\n",
    "    Zmin=-2.0, Zmax=2.0,  # Vertical range\n",
    "    nx=65,                # Number of grid points in the radial direction (needs to be of the form (2**n + 1) with n being an integer)\n",
    "    ny=129,               # Number of grid points in the vertical direction (needs to be of the form (2**n + 1) with n being an integer)\n",
    "    # psi=plasma_psi\n",
    ")  \n",
    "\n",
    "\n",
    "from freegsnke.jtor_update import ConstrainPaxisIp\n",
    "profiles = ConstrainPaxisIp(\n",
    "    eq=eq_new,\n",
    "    paxis=8e3,\n",
    "    Ip=6e5,\n",
    "    fvac=0.5,\n",
    "    alpha_m=1.8,\n",
    "    alpha_n=1.2\n",
    ")\n",
    "\n",
    "from freegsnke import GSstaticsolver\n",
    "GSStaticSolver = GSstaticsolver.NKGSsolver(eq_new)    \n",
    "\n",
    "import pickle\n",
    "with open('simple_diverted_currents_PaxisIp.pk', 'rb') as f:\n",
    "    current_values = pickle.load(f)\n",
    "for key in current_values.keys():\n",
    "    eq_new.tokamak[key].current = current_values[key]\n",
    "\n",
    "GSStaticSolver.solve(eq=eq_new, \n",
    "                     profiles=profiles, \n",
    "                     constrain=None, \n",
    "                     target_relative_tolerance=1e-9)"
   ]
  },
  {
   "cell_type": "code",
   "execution_count": null,
   "metadata": {},
   "outputs": [],
   "source": [
    "floops_vals_new = tokamak.probes.calculate_fluxloop_value(eq_new)\n",
    "pickups_vals_new = tokamak.probes.calculate_pickup_value(eq_new)"
   ]
  },
  {
   "cell_type": "code",
   "execution_count": null,
   "metadata": {},
   "outputs": [],
   "source": [
    "# compare values\n",
    "print(floops_vals[:5])\n",
    "print(floops_vals_new[:5])"
   ]
  },
  {
   "cell_type": "code",
   "execution_count": null,
   "metadata": {},
   "outputs": [],
   "source": [
    "# compare values\n",
    "print(pickups_vals[:5])\n",
    "print(pickups_vals_new[:5])"
   ]
  },
  {
   "cell_type": "markdown",
   "metadata": {},
   "source": [
    "If we re-run this same line of code, we don't get the message that the greens functions have been recalculated. They are stored in a dictionary labeled by a key containing the grid specification in the form `key = (Rmin,Rmax,Zmin,Zmax,nx,ny)`."
   ]
  },
  {
   "cell_type": "code",
   "execution_count": null,
   "metadata": {},
   "outputs": [],
   "source": [
    "pickup_vals_new2 = tokamak.probes.calculate_pickup_value(eq_new)\n",
    "\n",
    "# show greens function keys\n",
    "tokamak.probes.greens_B_plasma_oriented.keys()\n"
   ]
  },
  {
   "cell_type": "markdown",
   "metadata": {},
   "source": [
    "We can also plot the fluxloop and the pickup coil locations (and orientations) on our machine model. "
   ]
  },
  {
   "cell_type": "code",
   "execution_count": null,
   "metadata": {},
   "outputs": [],
   "source": [
    "# plot the resulting equilbria \n",
    "fig1, ax1 = plt.subplots(1, 1, figsize=(4, 8), dpi=80)\n",
    "ax1.grid(True, which='both')\n",
    "# eq.plot(axis=ax1, show=False)\n",
    "eq.tokamak.plot(axis=ax1, show=False)\n",
    "eq.tokamak.probes.plot(axis=ax1, show=False, floops=True, pickups=True, pickups_scale=0.05)\n",
    "ax1.plot(tokamak.limiter.R, tokamak.limiter.Z, color='k', linewidth=1.2, linestyle=\"--\")\n",
    "ax1.plot(tokamak.wall.R, tokamak.wall.Z, color='k', linewidth=1.2, linestyle=\"-\")\n",
    "ax1.set_xlim(0.1, 2.15)\n",
    "ax1.set_ylim(-2.25, 2.25)\n",
    "plt.tight_layout()"
   ]
  }
 ],
 "metadata": {
  "kernelspec": {
   "display_name": "freegsnke_equilibrium",
   "language": "python",
   "name": "python3"
  },
  "language_info": {
   "codemirror_mode": {
    "name": "ipython",
    "version": 3
   },
   "file_extension": ".py",
   "mimetype": "text/x-python",
   "name": "python",
   "nbconvert_exporter": "python",
   "pygments_lexer": "ipython3",
   "version": "3.10.16"
  }
 },
 "nbformat": 4,
 "nbformat_minor": 4
}
