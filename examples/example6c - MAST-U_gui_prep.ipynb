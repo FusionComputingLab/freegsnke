{
 "cells": [
  {
   "cell_type": "markdown",
   "metadata": {},
   "source": [
    "# Example: MAST-U Control Room GUI Preparation\n",
    "\n",
    "In this notebook, we build a save a high-resolution plasma flux from a MAST-U equilibrium. This will be used as an inital guess for equilbirium solves carried out by the MAST-U control GUI."
   ]
  },
  {
   "cell_type": "code",
   "execution_count": null,
   "metadata": {},
   "outputs": [],
   "source": [
    "# changes working directory (comment out if not needed)\n",
    "import os\n",
    "os.chdir(\"freegsnke/examples\") \n",
    "print(os.getcwd())"
   ]
  },
  {
   "cell_type": "code",
   "execution_count": null,
   "metadata": {},
   "outputs": [],
   "source": [
    "import numpy as np\n",
    "import pickle\n",
    "import time\n",
    "import os\n",
    "import matplotlib.pyplot as plt\n",
    "import matplotlib.patches as patches\n",
    "from matplotlib.path import Path\n",
    "\n",
    "# freegs4e/freegsnke modules (other may be needed later)\n",
    "import freegs4e\n",
    "from freegsnke import equilibrium_update, GSstaticsolver\n",
    "\n",
    "# module containing various functions for pulling UDA data\n",
    "from helper_functions.pull_UDA_data import *"
   ]
  },
  {
   "cell_type": "code",
   "execution_count": null,
   "metadata": {},
   "outputs": [],
   "source": [
    "# MAST-U shot number (make sure it's a valid shot with EFIT++ equilibrium reconstruction data!)\n",
    "shot = 45292"
   ]
  },
  {
   "cell_type": "code",
   "execution_count": null,
   "metadata": {},
   "outputs": [],
   "source": [
    "# This function will pull machine geoemtry data from the shot number.\n",
    "# 'split_passive=True' means the passives structures will be modelled as parallelograms with current\n",
    "# distributed evenly over their cross-sectional area (which is reccomended), setting to 'False' will\n",
    "# model them as point sources (less accurate for parallelograms with large surface areas).\n",
    "get_machine_data(shot=shot, split_passives=True)"
   ]
  },
  {
   "cell_type": "code",
   "execution_count": null,
   "metadata": {},
   "outputs": [],
   "source": [
    "# set paths (choose symmetric or non-symmetric active coils)\n",
    "symmetric_machine = True\n",
    "if symmetric_machine:\n",
    "    os.environ[\"ACTIVE_COILS_PATH\"] = f\"../machine_configs/MAST-U/MAST-U_active_coils.pickle\"\n",
    "else:\n",
    "    os.environ[\"ACTIVE_COILS_PATH\"] = f\"../machine_configs/MAST-U/MAST-U_active_coils_nonsym.pickle\"\n",
    "os.environ[\"PASSIVE_COILS_PATH\"] = f\"../machine_configs/MAST-U/MAST-U_passive_coils.pickle\"\n",
    "os.environ[\"WALL_PATH\"] = f\"../machine_configs/MAST-U/MAST-U_wall.pickle\"\n",
    "os.environ[\"LIMITER_PATH\"] = f\"../machine_configs/MAST-U/MAST-U_limiter.pickle\"\n",
    "os.environ[\"PROBE_PATH\"] = f\"../machine_configs/MAST-U/MAST-U_magnetic_probes.pickle\"\n",
    "\n",
    "# now the machine can actually be built\n",
    "from freegsnke import build_machine\n",
    "tokamak = build_machine.tokamak()"
   ]
  },
  {
   "cell_type": "markdown",
   "metadata": {},
   "source": [
    "## Load the required input data from the EFIT++ reconstructions\n",
    "Here, we load the parameters required by the static forward GS solver (at each independent EFIT++ time step). They include the:\n",
    " - plasma current ($I_p$).\n",
    " - fvac parameter (= $r B_{tor}$).\n",
    " - profile function coefficients (alpha, beta - both vectors) and logical parameters (alpha_logic, beta_logic - both Booleans).\n",
    " - active coil and passive structure currents (loads currents for both symmetric and non-symmetric active coil setups).\n",
    "    \n",
    "Note 1: The function loads values for all time steps in the EFIT++ reconstruction (including time steps that may have failed to converge - we will exclude these later on).\n",
    "\n",
    "Note 2: For **magnetics-only** EFIT++ reconstructions, the \"Lao\" polynomials are used to parameterise the pressure and toroidal current density profiles, respectively:\n",
    "\n",
    "$$\n",
    "\\frac{dp}{d \\hat{\\psi}} = \\sum_{n=0}^{n_p} \\alpha_n \\hat{\\psi}^n - \\hat{\\alpha} \\hat{\\psi}^{n_p+1} \\sum_{n=0}^{n_p} \\alpha_n,\n",
    "$$\n",
    "\n",
    "$$\n",
    "F \\frac{dF}{d \\hat{\\psi}} = \\sum_{n=0}^{n_F} \\beta_n \\hat{\\psi}^n - \\hat{\\beta} \\hat{\\psi}^{n_F+1} \\sum_{n=0}^{n_F} \\beta_n.\n",
    "$$\n",
    "\n",
    "Where:\n",
    "-  $\\hat{\\psi}$ is the normalised flux.\n",
    "-  $ \\alpha = (\\alpha_0, \\ldots, \\alpha_{n_p})$ and $\\beta = (\\beta, \\ldots, \\beta{n_F})$ are the profle coefficients.\n",
    "-  $\\hat{\\alpha}$ and $\\hat{\\beta}$ are logical (Boolean) parameters that set the boundary condition for the functions.\n",
    "\n",
    "Note 3: There is also the option to set the passive structure currents to zero if desired. "
   ]
  },
  {
   "cell_type": "code",
   "execution_count": null,
   "metadata": {},
   "outputs": [],
   "source": [
    "# initialise the pyuda client to access the data\n",
    "import pyuda\n",
    "client = pyuda.Client()\n",
    "\n",
    "# load the parameters\n",
    "Ip, fvac, alpha, beta, alpha_logic, beta_logic, currents_sym, currents_nonsym, _ = load_static_solver_inputs(\n",
    "    client=client,        # pyuda client\n",
    "\tshot=shot,            # shot number\n",
    "\tzero_passives=False   # set passive structure currents to zero? (True or False)\n",
    "    )"
   ]
  },
  {
   "cell_type": "markdown",
   "metadata": {},
   "source": [
    "We now load the shot times at which the EFIT++ reconstructions were carried out (which correspond to the above data) and check which time slices successfully converged. This is important because we need to exclude those that failed to converge (typically these occur during the ramp-up and ramp-dwn of the plasma). "
   ]
  },
  {
   "cell_type": "code",
   "execution_count": null,
   "metadata": {},
   "outputs": [],
   "source": [
    "# load the efit reconstruction timestamps and convergence status\n",
    "# Note: efit_times that have efit_status=-1 did not converge so we will exclude those time slices\n",
    "efit_times, efit_status = load_efit_times_and_status(client=client, shot=shot)\n",
    "\n",
    "# figure out which time slices did not converge\n",
    "time_indices = np.where(efit_status == 1)[0]\n",
    "time_slices_excluded = np.where(efit_status == -1)[0]\n",
    "print(f\"{len(time_slices_excluded)} time slices (out of total {len(efit_times)}) excluded from simulation.\")\n",
    "print(f\"The excluded time slices are: {efit_times[time_slices_excluded]} seconds.\")\n",
    "\n",
    "times = efit_times[time_indices]  # these are the slices we simulate\n",
    "print(f\"Total time slices to be simulated: {len(times)}.\")\n"
   ]
  },
  {
   "cell_type": "markdown",
   "metadata": {},
   "source": [
    "Let us plot some of the input parameters over these times to check they are indeed valid (as we may need to exclude some more if EFIT++ failed to catch the non-convergence)."
   ]
  },
  {
   "cell_type": "code",
   "execution_count": null,
   "metadata": {},
   "outputs": [],
   "source": [
    "fig1, ax1 = plt.subplots(1, 1, figsize=(12,4), dpi=80)\n",
    "ax1.grid(zorder=0, alpha=0.75)\n",
    "ax1.plot(times, Ip[time_indices], color='k', linewidth=1, marker='x', markersize=2, zorder=10)\n",
    "ax1.set_xlabel(r'Shot time [$s$]')\n",
    "ax1.set_ylabel(r'$I_p$ [A]')\n",
    "ax1.set_xticks(np.arange(0, times[-1], 0.1))\n",
    "ax1.set_xlim(0, times[-1] + 0.005)\n",
    "ax1.ticklabel_format(axis='y', scilimits=(0,0))\n",
    "\n",
    "fig1, ax1 = plt.subplots(1, 1, figsize=(12,4), dpi=80)\n",
    "ax1.grid(zorder=0, alpha=0.75)\n",
    "ax1.plot(times, alpha[time_indices,0], color='b', linewidth=1, marker='x', markersize=2, zorder=10, label=r\"$\\alpha_0$\")\n",
    "ax1.plot(times, alpha[time_indices,1], color='r', linewidth=1, marker='x', markersize=2, zorder=10, label=r\"$\\alpha_1$\")\n",
    "ax1.set_xlabel(r'Shot time [$s$]')\n",
    "ax1.set_ylabel(r'$\\alpha$')\n",
    "ax1.set_xticks(np.arange(0, times[-1], 0.1))\n",
    "ax1.set_xlim(0, times[-1] + 0.005)\n",
    "ax1.ticklabel_format(axis='y', scilimits=(0,0))\n",
    "ax1.legend(loc = \"upper left\")\n",
    "\n",
    "fig1, ax1 = plt.subplots(1, 1, figsize=(12,4), dpi=80)\n",
    "ax1.grid(zorder=0, alpha=0.75)\n",
    "ax1.plot(times, beta[time_indices,0], color='b', linewidth=1, marker='x', markersize=2, zorder=10, label=r\"$\\beta_0$\")\n",
    "ax1.plot(times, beta[time_indices,1], color='r', linewidth=1, marker='x', markersize=2, zorder=10, label=r\"$\\beta_1$\")\n",
    "ax1.set_xlabel(r'Shot time [$s$]')\n",
    "ax1.set_ylabel(r'$\\beta$')\n",
    "ax1.set_xticks(np.arange(0, times[-1], 0.1))\n",
    "ax1.set_xlim(0, times[-1] + 0.005)\n",
    "ax1.ticklabel_format(axis='y', scilimits=(0,0))\n",
    "ax1.legend(loc = \"lower left\")"
   ]
  },
  {
   "cell_type": "markdown",
   "metadata": {},
   "source": [
    "## Initialise the equilibrium object and static solver\n",
    "\n",
    "Here we load a high-resolution grid."
   ]
  },
  {
   "cell_type": "code",
   "execution_count": null,
   "metadata": {},
   "outputs": [],
   "source": [
    "# equilibrium object (note that both nx and ny have to be of the form 2**n + 1 with n being an integer)\n",
    "eq = equilibrium_update.Equilibrium(\n",
    "tokamak=tokamak,             # sets up the object with the MAST-U tokamak\n",
    "Rmin=0.01, Rmax=2.2,         # computational grid radial limits \n",
    "Zmin=-2.4, Zmax=2.4,         # computational grid vertical limits \n",
    "nx=129,                       # number of grid points in the radial direction\n",
    "ny=257,                       # number of grid points in the vertical direction\n",
    "psi=None                     # initial guess for the plasma flux (can provide one if available)\n",
    ") "
   ]
  },
  {
   "cell_type": "code",
   "execution_count": null,
   "metadata": {},
   "outputs": [],
   "source": [
    "# static solver object (used for solving later on)\n",
    "solver = GSstaticsolver.NKGSsolver(eq)  "
   ]
  },
  {
   "cell_type": "markdown",
   "metadata": {},
   "source": [
    "## Use FreeGSNKE to solve the static forward GS equation\n",
    "\n",
    "Choose a time slice via parameter `i` below and solve. "
   ]
  },
  {
   "cell_type": "code",
   "execution_count": null,
   "metadata": {
    "scrolled": true
   },
   "outputs": [],
   "source": [
    "from freegsnke import jtor_update # for initialising the profile object\n",
    "from copy import deepcopy\n",
    "\n",
    "# select time to simulate\n",
    "time = 0.55\n",
    "i = 91\n",
    "\n",
    "# initialise profile object\n",
    "profiles = jtor_update.Lao85(\n",
    "    eq=eq,                                          # equilibrium object\n",
    "    limiter=tokamak.limiter,                        # plasma limiter\n",
    "    Ip=Ip[i],                                       # total plasma current\n",
    "    fvac=fvac[i],                                   # f vacuum parameter (R*Bt)\n",
    "    alpha=alpha[i,:],                               # p' profile coefficients\n",
    "    beta=beta[i,:],                                 # ff' profile coefficients\n",
    "    alpha_logic=bool(alpha_logic[i]),               # logic parameters from above\n",
    "    beta_logic=bool(beta_logic[i]),\n",
    ")\n",
    "\n",
    "# set coil currents in eq object\n",
    "# checks if machine is up/down symmetric or not\n",
    "if symmetric_machine:\n",
    "    for key in currents_sym.keys():\n",
    "        eq.tokamak[key].current = currents_sym[key][i]\n",
    "else:\n",
    "    for key in currents_nonsym.keys():\n",
    "        eq.tokamak[key].current = currents_nonsym[key][i]\n",
    "    \n",
    "# carry out the forward solve\n",
    "solver.solve(eq=eq,\n",
    "                profiles=profiles,\n",
    "                constrain=None,\n",
    "                target_relative_tolerance=1e-6,\n",
    "            )"
   ]
  },
  {
   "cell_type": "code",
   "execution_count": null,
   "metadata": {},
   "outputs": [],
   "source": [
    "eq.plot()"
   ]
  },
  {
   "cell_type": "code",
   "execution_count": null,
   "metadata": {},
   "outputs": [],
   "source": [
    "# save\n",
    "# plasma flux data for later\n",
    "data = dict({\n",
    "    \"psi_plasma\" : eq.plasma_psi,\n",
    "    \"Rmin\" : eq.Rmin,\n",
    "    \"Rmax\" : eq.Rmax,\n",
    "    \"Zmin\" : eq.Zmin,\n",
    "    \"Zmax\" : eq.Zmax,\n",
    "     })"
   ]
  },
  {
   "cell_type": "code",
   "execution_count": null,
   "metadata": {},
   "outputs": [],
   "source": [
    "data"
   ]
  },
  {
   "cell_type": "code",
   "execution_count": null,
   "metadata": {},
   "outputs": [],
   "source": [
    "# save via pickle\n",
    "with open(\"helper_functions/MAST-U_plasma_flux.pickle\", \"wb\") as f:\n",
    "   pickle.dump(data, f)"
   ]
  },
  {
   "cell_type": "code",
   "execution_count": null,
   "metadata": {},
   "outputs": [],
   "source": []
  }
 ],
 "metadata": {
  "kernelspec": {
   "display_name": "mastu_gui",
   "language": "python",
   "name": "python3"
  },
  "language_info": {
   "codemirror_mode": {
    "name": "ipython",
    "version": 3
   },
   "file_extension": ".py",
   "mimetype": "text/x-python",
   "name": "python",
   "nbconvert_exporter": "python",
   "pygments_lexer": "ipython3",
   "version": "3.10.4"
  }
 },
 "nbformat": 4,
 "nbformat_minor": 4
}
