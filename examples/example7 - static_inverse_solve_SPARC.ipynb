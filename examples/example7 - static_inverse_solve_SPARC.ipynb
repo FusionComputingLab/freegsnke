{
 "cells": [
  {
   "cell_type": "markdown",
   "metadata": {},
   "source": [
    "# Example: Static inverse free-boundary equilibrium calculations (in SPARC)\n",
    "\n",
    "---\n",
    "\n",
    "Here we will generate an equilibrium (find coil currents with the inverse solver) in a SPARC-like tokamak. \n",
    "\n",
    "The machine description comes from files located [here](https://github.com/cfs-energy/SPARCPublic).\n",
    "\n",
    "The equilbirium\\profile parameters are **completely made up** - please experiment on your own and change them to more realistic values as you please!"
   ]
  },
  {
   "cell_type": "markdown",
   "metadata": {},
   "source": [
    "### Import packages"
   ]
  },
  {
   "cell_type": "code",
   "execution_count": null,
   "metadata": {},
   "outputs": [],
   "source": [
    "import os\n",
    "import matplotlib.pyplot as plt\n",
    "import freegs4e\n",
    "import numpy as np"
   ]
  },
  {
   "cell_type": "markdown",
   "metadata": {},
   "source": [
    "### Create the machine object"
   ]
  },
  {
   "cell_type": "code",
   "execution_count": null,
   "metadata": {},
   "outputs": [],
   "source": [
    "# set paths\n",
    "os.environ[\"ACTIVE_COILS_PATH\"] = f\"../machine_configs/SPARC/SPARC_active_coils.pickle\"\n",
    "os.environ[\"PASSIVE_COILS_PATH\"] = f\"../machine_configs/SPARC/SPARC_passive_coils.pickle\"\n",
    "os.environ[\"WALL_PATH\"] = f\"../machine_configs/SPARC/SPARC_wall.pickle\"\n",
    "os.environ[\"LIMITER_PATH\"] = f\"../machine_configs/SPARC/SPARC_limiter.pickle\""
   ]
  },
  {
   "cell_type": "code",
   "execution_count": null,
   "metadata": {},
   "outputs": [],
   "source": [
    "# Now the machine can actually be built:\n",
    "from freegsnke import build_machine\n",
    "tokamak = build_machine.tokamak()"
   ]
  },
  {
   "cell_type": "markdown",
   "metadata": {},
   "source": [
    "### Instantiate an equilibrium"
   ]
  },
  {
   "cell_type": "code",
   "execution_count": null,
   "metadata": {},
   "outputs": [],
   "source": [
    "from freegsnke import equilibrium_update\n",
    "\n",
    "eq = equilibrium_update.Equilibrium(\n",
    "    tokamak=tokamak,      # provide tokamak object\n",
    "    Rmin=1.1, Rmax=2.7,   # radial range\n",
    "    Zmin=-1.8, Zmax=1.8,  # vertical range\n",
    "    nx=129,                # number of grid points in the radial direction (needs to be of the form (2**n + 1) with n being an integer)\n",
    "    ny=129,                # number of grid points in the vertical direction (needs to be of the form (2**n + 1) with n being an integer)\n",
    "    # psi=plasma_psi\n",
    ")"
   ]
  },
  {
   "cell_type": "markdown",
   "metadata": {},
   "source": [
    "### Instantiate a profile object"
   ]
  },
  {
   "cell_type": "code",
   "execution_count": null,
   "metadata": {},
   "outputs": [],
   "source": [
    "# initialise the profiles\n",
    "from freegsnke.jtor_update import ConstrainPaxisIp\n",
    "profiles = ConstrainPaxisIp(\n",
    "    eq=eq,        # equilibrium object\n",
    "    paxis=5e4,    # pressure on axis\n",
    "    Ip=8.7e6,       # plasma current\n",
    "    fvac=0.5,     # fvac = rB_{tor}\n",
    "    alpha_m=1.8,  # profile function parameter\n",
    "    alpha_n=1.2   # profile function parameter\n",
    ")"
   ]
  },
  {
   "cell_type": "markdown",
   "metadata": {},
   "source": [
    "### Load the static nonlinear solver"
   ]
  },
  {
   "cell_type": "code",
   "execution_count": null,
   "metadata": {},
   "outputs": [],
   "source": [
    "from freegsnke import GSstaticsolver\n",
    "GSStaticSolver = GSstaticsolver.NKGSsolver(eq)    "
   ]
  },
  {
   "cell_type": "markdown",
   "metadata": {},
   "source": [
    "### Constraints"
   ]
  },
  {
   "cell_type": "code",
   "execution_count": null,
   "metadata": {},
   "outputs": [],
   "source": [
    "import freegs4e\n",
    "\n",
    "# set X-point locations\n",
    "Rx = 1.55\n",
    "Zx = 1.15\n",
    "xpoints = [(Rx, -Zx),   \n",
    "           (Rx,  Zx)]\n",
    "\n",
    "# set any desired isoflux constraints with format (R1, Z1, R2, Z2), where (R1, Z1) and (R2, Z2) are \n",
    "# desired to be on the same flux contour.\n",
    "Rmid = 2.4    # outboard midplane radius\n",
    "Rin = 1.3    # inboard midplane radius\n",
    "isoflux = [(Rx,Zx, Rx,-Zx),     # link X-points\n",
    "           (Rmid, 0, Rin, 0.0), # link inner and outer midplane points\n",
    "           (Rmid, 0, Rx, Zx),   # link outer midplane point and X-point\n",
    "           (Rin, 0, Rx, Zx),   # link inner midplane point and X-point\n",
    "          #  (Rmid, 0, Rx, -Zx),   # link outer midplane point and X-point\n",
    "          #  (Rin, 0, Rx, -Zx),   # link inner midplane point and X-point\n",
    "           (Rx, Zx, 1.7, 1.5),   # link strikepoint\n",
    "           (Rx, Zx, 1.7, -1.5),   # link strikepoint\n",
    "          #  (Rx, -Zx, 1.32, -1.21),   # link strikepoint\n",
    "          #  (Rx, -Zx, 1.68, -1.45),   # link strikepoint\n",
    "]\n",
    "\n",
    "           \n",
    "# instantiate the constrain object\n",
    "constrain = freegs4e.control.constrain(xpoints=xpoints,\n",
    "                                         isoflux=isoflux,\n",
    "                                       # psivals=psivals, # not used\n",
    "                                         gamma=1e-10       # regularisation factor\n",
    "                                         )"
   ]
  },
  {
   "cell_type": "markdown",
   "metadata": {},
   "source": [
    "### The inverse solve"
   ]
  },
  {
   "cell_type": "code",
   "execution_count": null,
   "metadata": {},
   "outputs": [],
   "source": [
    "GSStaticSolver.solve(eq=eq, \n",
    "                     profiles=profiles, \n",
    "                     constrain=constrain, \n",
    "                     target_relative_tolerance=1e-6,\n",
    "                     verbose=True, # print output\n",
    "                     picard=True, \n",
    "                     )"
   ]
  },
  {
   "cell_type": "code",
   "execution_count": null,
   "metadata": {},
   "outputs": [],
   "source": [
    "fig1, ax1 = plt.subplots(1, 1, figsize=(7, 15), dpi=80)\n",
    "\n",
    "ax1.grid(zorder=0, alpha=0.75)\n",
    "ax1.set_aspect('equal')\n",
    "eq.tokamak.plot(axis=ax1,show=False)                                                          # plots the active coils and passive structures\n",
    "ax1.fill(tokamak.wall.R, tokamak.wall.Z, color='k', linewidth=1.2, facecolor='w', zorder=0)   # plots the limiter\n",
    "eq.plot(axis=ax1,show=False)                                                                  # plots the equilibrium\n",
    "constrain.plot(axis=ax1, show=False)                                                          # plots the contraints\n",
    "ax1.set_xlim(1.0, 3.0)\n",
    "ax1.set_ylim(-2.0, 2.0)\n"
   ]
  },
  {
   "cell_type": "code",
   "execution_count": null,
   "metadata": {},
   "outputs": [],
   "source": [
    "eq.tokamak.getCurrents()\n",
    "\n",
    "# # save coil currents to file\n",
    "# import pickle\n",
    "# with open('simple_diverted_currents_PaxisIp.pk', 'wb') as f:\n",
    "#     pickle.dump(obj=inverse_current_values, file=f)"
   ]
  },
  {
   "cell_type": "code",
   "execution_count": null,
   "metadata": {},
   "outputs": [],
   "source": []
  }
 ],
 "metadata": {
  "kernelspec": {
   "display_name": "freegsnke_equilibrium",
   "language": "python",
   "name": "python3"
  },
  "language_info": {
   "codemirror_mode": {
    "name": "ipython",
    "version": 3
   },
   "file_extension": ".py",
   "mimetype": "text/x-python",
   "name": "python",
   "nbconvert_exporter": "python",
   "pygments_lexer": "ipython3",
   "version": "3.10.16"
  }
 },
 "nbformat": 4,
 "nbformat_minor": 4
}
