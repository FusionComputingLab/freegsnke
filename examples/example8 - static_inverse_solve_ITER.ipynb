{
 "cells": [
  {
   "cell_type": "markdown",
   "metadata": {},
   "source": [
    "# Example: Static inverse free-boundary equilibrium calculations (in ITER)\n",
    "\n",
    "---\n",
    "\n",
    "Here we will generate an equilibrium (find coil currents with the inverse solver) in an ITER-like tokamak. \n",
    "\n",
    "The machine description comes from files located [here](https://github.com/ProjectTorreyPines/FUSE.jl).\n",
    "\n",
    "The equilbirium\\profile parameters are **completely made up** - please experiment on your own and change them to more realistic values as you please!"
   ]
  },
  {
   "cell_type": "markdown",
   "metadata": {},
   "source": [
    "### Import packages"
   ]
  },
  {
   "cell_type": "code",
   "execution_count": 1,
   "metadata": {},
   "outputs": [],
   "source": [
    "import os\n",
    "import matplotlib.pyplot as plt\n",
    "import freegs4e\n",
    "import numpy as np"
   ]
  },
  {
   "cell_type": "markdown",
   "metadata": {},
   "source": [
    "### Create the machine object"
   ]
  },
  {
   "cell_type": "code",
   "execution_count": 2,
   "metadata": {},
   "outputs": [],
   "source": [
    "# set paths\n",
    "os.environ[\"ACTIVE_COILS_PATH\"] = f\"../machine_configs/ITER/ITER_active_coils.pickle\"\n",
    "os.environ[\"PASSIVE_COILS_PATH\"] = f\"../machine_configs/ITER/ITER_passive_coils.pickle\"\n",
    "os.environ[\"WALL_PATH\"] = f\"../machine_configs/ITER/ITER_wall.pickle\"\n",
    "os.environ[\"LIMITER_PATH\"] = f\"../machine_configs/ITER/ITER_limiter.pickle\""
   ]
  },
  {
   "cell_type": "code",
   "execution_count": null,
   "metadata": {},
   "outputs": [],
   "source": [
    "# Now the machine can actually be built:\n",
    "from freegsnke import build_machine\n",
    "tokamak = build_machine.tokamak()"
   ]
  },
  {
   "cell_type": "code",
   "execution_count": null,
   "metadata": {},
   "outputs": [],
   "source": [
    "# plot the machine\n",
    "fig1, ax1 = plt.subplots(1, 1, figsize=(7, 15), dpi=120)\n",
    "plt.tight_layout()\n",
    "\n",
    "tokamak.plot(axis=ax1, show=False)\n",
    "ax1.plot(tokamak.limiter.R, tokamak.limiter.Z, color='k', linewidth=1.2, linestyle=\"--\")\n",
    "# ax1.plot(tokamak.wall.R, tokamak.wall.Z, color='k', linewidth=1.2, linestyle=\"-\")\n",
    "\n",
    "ax1.grid(alpha=0.5)\n",
    "ax1.set_aspect('equal')\n",
    "ax1.set_xlim(1.1, 12.4)\n",
    "ax1.set_ylim(-8.3, 8.3)\n",
    "ax1.set_xlabel(r'Major radius, $R$ [m]')\n",
    "ax1.set_ylabel(r'Height, $Z$ [m]')"
   ]
  },
  {
   "cell_type": "markdown",
   "metadata": {},
   "source": [
    "### Instantiate an equilibrium"
   ]
  },
  {
   "cell_type": "code",
   "execution_count": 5,
   "metadata": {},
   "outputs": [],
   "source": [
    "from freegsnke import equilibrium_update\n",
    "\n",
    "eq = equilibrium_update.Equilibrium(\n",
    "    tokamak=tokamak,       # provide tokamak object\n",
    "    Rmin=1.1, Rmax=12.4,   # radial range\n",
    "    Zmin=-8.3, Zmax=8.3,   # vertical range\n",
    "    nx=129,                # number of grid points in the radial direction (needs to be of the form (2**n + 1) with n being an integer)\n",
    "    ny=129,                # number of grid points in the vertical direction (needs to be of the form (2**n + 1) with n being an integer)\n",
    "    # psi=plasma_psi\n",
    ")"
   ]
  },
  {
   "cell_type": "markdown",
   "metadata": {},
   "source": [
    "### Instantiate a profile object"
   ]
  },
  {
   "cell_type": "code",
   "execution_count": 6,
   "metadata": {},
   "outputs": [],
   "source": [
    "# initialise the profiles\n",
    "from freegsnke.jtor_update import ConstrainBetapIp\n",
    "profiles = ConstrainBetapIp(\n",
    "    eq=eq,        # equilibrium object\n",
    "    betap=0.65,   # poloidal beta\n",
    "    Ip=15e6,      # plasma current\n",
    "    fvac=0.8,     # fvac = rB_{tor}\n",
    "    alpha_m=2.0,  # profile function parameter\n",
    "    alpha_n=1.0   # profile function parameter\n",
    ")"
   ]
  },
  {
   "cell_type": "markdown",
   "metadata": {},
   "source": [
    "### Load the static nonlinear solver"
   ]
  },
  {
   "cell_type": "code",
   "execution_count": 7,
   "metadata": {},
   "outputs": [],
   "source": [
    "from freegsnke import GSstaticsolver\n",
    "GSStaticSolver = GSstaticsolver.NKGSsolver(eq)    "
   ]
  },
  {
   "cell_type": "markdown",
   "metadata": {},
   "source": [
    "### Constraints"
   ]
  },
  {
   "cell_type": "code",
   "execution_count": 8,
   "metadata": {},
   "outputs": [],
   "source": [
    "import freegs4e\n",
    "\n",
    "# set X-point locations\n",
    "Rx = 4.93\n",
    "Zx = -3.36\n",
    "xpoints = [(Rx, Zx)]\n",
    "\n",
    "# set any desired isoflux constraints with format (R1, Z1, R2, Z2), where (R1, Z1) and (R2, Z2) are \n",
    "# desired to be on the same flux contour.\n",
    "isoflux = [\n",
    "(Rx, Zx, 4.0228038405382+0.2, 0.5483452102114228),\n",
    "# (Rx, Zx, 4.89677909,\t-0.482538815),\n",
    "(Rx, Zx, 4.254412439959347+0.1,\t-1.448212877),\n",
    "# (Rx, Zx, 4.557724156077329,\t-2.43093497),\n",
    "# (Rx, Zx, 6.225706428928894,\t-2.841131482),\n",
    "(Rx, Zx, 7.259463335861366,\t-1.937088788),\n",
    "(Rx, Zx, 7.911539671975528,\t-0.767136564),\n",
    "(Rx, Zx, 8.145511203289532,\t 0.5532657790590028),\n",
    "(Rx, Zx, 7.465729748693425,\t 2.551811974626763),\n",
    "(Rx, Zx, 6.052665521315404,\t 3.743583690053864),\n",
    "(Rx, Zx, 4.845816114370034,\t3.779966078),\n",
    "(Rx, Zx, 4.176404732054874+0.1,\t 2.503053610591648),\n",
    "]\n",
    "\n",
    "\n",
    "\n",
    "           \n",
    "# instantiate the constrain object\n",
    "constrain = freegs4e.control.constrain(xpoints=xpoints,\n",
    "                                         isoflux=isoflux,\n",
    "                                       # psivals=psivals, # not used\n",
    "                                         gamma=1e-12       # regularisation factor\n",
    "                                         )"
   ]
  },
  {
   "cell_type": "code",
   "execution_count": 9,
   "metadata": {},
   "outputs": [],
   "source": [
    "# import freegs4e\n",
    "\n",
    "# # set X-point locations\n",
    "# Rx = 5.15\n",
    "# Zx = -3.3\n",
    "# xpoints = [(Rx, Zx)]\n",
    "\n",
    "# # set any desired isoflux constraints with format (R1, Z1, R2, Z2), where (R1, Z1) and (R2, Z2) are \n",
    "# # desired to be on the same flux contour.\n",
    "# Rout = 8.1    # outboard midplane radius\n",
    "# Rin = 4.25      # inboard midplane radius\n",
    "# isoflux = [#(Rx,Zx, Rx,-Zx),     # link X-points\n",
    "#            (Rout, 0, Rin, 0), # link inner and outer midplane points\n",
    "#            (Rout, 0, Rx, Zx),   # link outer midplane point and X-point\n",
    "#            (Rin, 0, Rx, Zx),   # link inner midplane point and X-point\n",
    "#            (6.7, -2.5, Rx, Zx),   \n",
    "#           #  (7.2, -1.25, Rx, Zx),   \n",
    "#            (7.7, 2.5, Rx, Zx),   \n",
    "#            (6.0, 3.75, Rx, Zx),   \n",
    "#            (5.2, 4.0, Rx, Zx),   \n",
    "#            (4.35, 2.5, Rx, Zx),\n",
    "#           #  (4.3, -1.25, Rx, Zx),\n",
    "#            (4.8, -2.5, Rx, Zx),   \n",
    "#           #  (Rx, Zx, 4.2, -3.85),   \n",
    "#           #  (Rx, Zx, 5.6, -4.7),   \n",
    "# ]\n",
    "\n",
    "           \n",
    "# # instantiate the constrain object\n",
    "# constrain = freegs4e.control.constrain(xpoints=xpoints,\n",
    "#                                          isoflux=isoflux,\n",
    "#                                        # psivals=psivals, # not used\n",
    "#                                          gamma=1e-10       # regularisation factor\n",
    "#                                          )"
   ]
  },
  {
   "cell_type": "markdown",
   "metadata": {},
   "source": [
    "### The inverse solve"
   ]
  },
  {
   "cell_type": "code",
   "execution_count": null,
   "metadata": {},
   "outputs": [],
   "source": [
    "GSStaticSolver.solve(eq=eq, \n",
    "                     profiles=profiles, \n",
    "                     constrain=constrain, \n",
    "                     target_relative_tolerance=1e-6,\n",
    "                     verbose=True, # print output\n",
    "                     picard=True, \n",
    "                     )"
   ]
  },
  {
   "cell_type": "code",
   "execution_count": null,
   "metadata": {},
   "outputs": [],
   "source": [
    "fig1, ax1 = plt.subplots(1, 1, figsize=(7, 15), dpi=80)\n",
    "\n",
    "ax1.grid(zorder=0, alpha=0.75)\n",
    "ax1.set_aspect('equal')\n",
    "eq.tokamak.plot(axis=ax1,show=False)                                                          # plots the active coils and passive structures\n",
    "ax1.fill(tokamak.wall.R, tokamak.wall.Z, color='k', linewidth=1.2, facecolor='w', zorder=0)   # plots the limiter\n",
    "eq.plot(axis=ax1,show=False)                                                                  # plots the equilibrium\n",
    "constrain.plot(axis=ax1, show=False)                                                          # plots the contraints\n",
    "ax1.set_xlim(1.1, 12.4)\n",
    "ax1.set_ylim(-8.3, 8.3)\n"
   ]
  },
  {
   "cell_type": "code",
   "execution_count": null,
   "metadata": {},
   "outputs": [],
   "source": [
    "eq.tokamak.getCurrents()\n",
    "\n",
    "# # save coil currents to file\n",
    "# import pickle\n",
    "# with open('simple_diverted_currents_PaxisIp.pk', 'wb') as f:\n",
    "#     pickle.dump(obj=inverse_current_values, file=f)"
   ]
  },
  {
   "cell_type": "code",
   "execution_count": null,
   "metadata": {},
   "outputs": [],
   "source": []
  }
 ],
 "metadata": {
  "kernelspec": {
   "display_name": "freegsnke_dynamic",
   "language": "python",
   "name": "python3"
  },
  "language_info": {
   "codemirror_mode": {
    "name": "ipython",
    "version": 3
   },
   "file_extension": ".py",
   "mimetype": "text/x-python",
   "name": "python",
   "nbconvert_exporter": "python",
   "pygments_lexer": "ipython3",
   "version": "3.10.15"
  }
 },
 "nbformat": 4,
 "nbformat_minor": 4
}
