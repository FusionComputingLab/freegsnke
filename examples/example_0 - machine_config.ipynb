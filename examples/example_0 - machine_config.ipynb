{
 "cells": [
  {
   "cell_type": "markdown",
   "metadata": {},
   "source": [
    "# Example: Machine configuration\n",
    "\n",
    "Here we will describe how to create the machine description (pickle) files required to begin solving for Grad-Shafranov equilbiria in FreeGSNKE. \n",
    "\n",
    "A machine description in FreeGSNKE is comprised of:\n",
    "- **active coils** (whose currents and voltages are used to control the plasma shape and position).\n",
    "- **passive structures** (that make up the tokamak vessel, coil cans, support structures etc.)\n",
    "- **limiter/wall** (that are non-conducting surfaces used to constrain the plasma boundary).\n",
    "- **magnetic sensors** (such as pickup coils and fluxloops, whose readings can be measured at their locations around the tokamak after identifying an equilibrium).\n",
    "\n",
    "In the following, we build up each of these elements into the structures required by FreeGSNKE and save them for later use."
   ]
  },
  {
   "cell_type": "markdown",
   "metadata": {},
   "source": [
    "## Import packages"
   ]
  },
  {
   "cell_type": "code",
   "execution_count": 1,
   "metadata": {},
   "outputs": [],
   "source": [
    "import numpy as np\n",
    "import pickle"
   ]
  },
  {
   "cell_type": "markdown",
   "metadata": {},
   "source": [
    "## Active coils\n",
    "First, we define the characteristics that make up the active coils in our tokamak. We begin by defining the **resistivity** of the material that the active coils are made of (in this case, copper coils). "
   ]
  },
  {
   "cell_type": "code",
   "execution_count": 2,
   "metadata": {},
   "outputs": [],
   "source": [
    "eta_copper = 1.55e-8  # resistivity in Ohm*m"
   ]
  },
  {
   "cell_type": "markdown",
   "metadata": {},
   "source": [
    "Here we will specify five coils named: `Pz`, `P1_upper`, `P1_lower`, `P2_upper`, `P2_lower` and a central `Solenoid`. Each coil will contain a different number of individual windings (sometimes known as turns or filaments).\n",
    "\n",
    "We've also made a shortcut and assumed that `P1_lower` and `P1_upper` have the same radial position and are equally distanced from the midplane in the vertical direction. The same applies to `P2_lower` and `P2_upper`.\n",
    "\n",
    "We can now begin to populate a Python dictionary (here called `active_coils_dict`) with our coils.\n",
    "\n",
    "Each entry to the dictionary will be another dictionary describing either a **single** coil or **multiple** coils that are linked to the same power supply (i.e. will have the same **current**):\n",
    " - `Pz` will be a single standalone coil. \n",
    " - `P1_upper` and `P1_lower` will form an up-down symmetric pair (as will `P2_upper` and `P2_lower`).\n",
    "\n",
    "The keys for the coil dictionaries are:\n",
    "- `R`: list of radial positions of windings.\n",
    "- `Z`: list of vertical positions of windings.\n",
    "- `dR`: width of each winding. \n",
    "- `dZ`: height of each winding. \n",
    "- `resistivity`: resistivity of coil material (in Ohm*m).\n",
    "- `polarity`: circuit wiring, enabling coil pairs to be linked in series or anti-series (typically +1 or -1).\n",
    "- `multiplier`: current multiplier, used for splitting current among coils (default = 1).\n",
    "\n",
    "First, instatiate the dictionary that will contain all of the coils:"
   ]
  },
  {
   "cell_type": "code",
   "execution_count": 3,
   "metadata": {},
   "outputs": [],
   "source": [
    "active_coils_dict = {}"
   ]
  },
  {
   "cell_type": "markdown",
   "metadata": {},
   "source": [
    "Let's  define the standalone `Pz` coil first."
   ]
  },
  {
   "cell_type": "code",
   "execution_count": 4,
   "metadata": {},
   "outputs": [],
   "source": [
    "active_coils_dict[\"Pz\"] = {}\n",
    "\n",
    "active_coils_dict[\"Pz\"][\"\"] = {\n",
    "    \"R\": [1.75],\n",
    "    \"Z\": [0.0],\n",
    "    \"dR\": 0.25,\n",
    "    \"dZ\": 0.25,\n",
    "    \"resistivity\": eta_copper,\n",
    "    \"polarity\": 1,\n",
    "    \"multiplier\": 1,\n",
    "}"
   ]
  },
  {
   "cell_type": "markdown",
   "metadata": {},
   "source": [
    "Now let's define the `P1_upper` and `P1_lower` coils."
   ]
  },
  {
   "cell_type": "code",
   "execution_count": 5,
   "metadata": {},
   "outputs": [],
   "source": [
    "# The P1 coil group is instantiated as a dictionary\n",
    "active_coils_dict[\"P1\"] = {}\n",
    "\n",
    "# Populate with the P1_upper coil information\n",
    "active_coils_dict[\"P1\"][\"upper\"] = {\n",
    "    \"R\": [0.7, 0.7, 0.8, 0.8],       # coil has four windings\n",
    "    \"Z\": [1.1, 1.2, 1.1, 1.2],\n",
    "    \"dR\": 0.08,\n",
    "    \"dZ\": 0.08,\n",
    "    \"resistivity\": eta_copper,\n",
    "    \"polarity\": 1,\n",
    "    \"multiplier\": 1,\n",
    "}\n",
    "\n",
    "# Populate with the P1_lower coil information\n",
    "active_coils_dict[\"P1\"][\"lower\"] = {\n",
    "    \"R\": [0.7, 0.7, 0.8, 0.8],\n",
    "    \"Z\": [-1*z for z in [1.1, 1.2, 1.1, 1.2]], # note the lower coil has opposite mirrored z-coords compared to upper\n",
    "    \"dR\": 0.08,\n",
    "    \"dZ\": 0.08,\n",
    "    \"resistivity\": eta_copper,\n",
    "    \"polarity\": 1,                             # note polarity is 1, so it will have same current as upper coil\n",
    "    \"multiplier\": 1,\n",
    "}"
   ]
  },
  {
   "cell_type": "markdown",
   "metadata": {},
   "source": [
    "We follow the same procedure for `P2_upper` and `P2_lower`."
   ]
  },
  {
   "cell_type": "code",
   "execution_count": 6,
   "metadata": {},
   "outputs": [],
   "source": [
    "active_coils_dict[\"P2\"] = {}\n",
    "active_coils_dict[\"P2\"][\"upper\"] = {\n",
    "    \"R\": [1.7, 1.7, 1.8],     # coil has three windings\n",
    "    \"Z\": [0.6, 0.7, 0.6],\n",
    "    \"dR\": 0.06,\n",
    "    \"dZ\": 0.06,\n",
    "    \"resistivity\": eta_copper,\n",
    "    \"polarity\": 1,\n",
    "    \"multiplier\": 1\n",
    "}\n",
    "active_coils_dict[\"P2\"][\"lower\"] = {\n",
    "    \"R\": [1.7, 1.7, 1.8],\n",
    "    \"Z\": [-1*z for z in [0.6, 0.7, 0.6]],  # again, z-coords are mirrored\n",
    "    \"dR\": 0.06,\n",
    "    \"dZ\": 0.06,\n",
    "    \"resistivity\": eta_copper,\n",
    "    \"polarity\": -1,                        # negative polarity indicates current will have opposite sign to upper coil\n",
    "    \"multiplier\": 1\n",
    "}"
   ]
  },
  {
   "cell_type": "markdown",
   "metadata": {},
   "source": [
    "Lastly, we can also define a Solenoid (that typically drives Ohmic current in the plasma). Current in the solenoid will have an impact on the equilibrium and needs to be accounted for in most cases. "
   ]
  },
  {
   "cell_type": "code",
   "execution_count": 7,
   "metadata": {},
   "outputs": [],
   "source": [
    "active_coils_dict[\"Solenoid\"] = {\n",
    "    \"R\": [0.15]*16 + [0.2]*16,   # here we have 32 windings\n",
    "    \"Z\": list(np.linspace(-0.6, 0.6, 16)) + list(np.linspace(-0.6, 0.6, 16)),\n",
    "    \"dR\": 0.02,\n",
    "    \"dZ\": 0.02,\n",
    "    \"polarity\": 1,\n",
    "    \"resistivity\": eta_copper,\n",
    "    \"multiplier\": 1\n",
    "}"
   ]
  },
  {
   "cell_type": "markdown",
   "metadata": {},
   "source": [
    "Now we can save the active coils dictionary for later use by FreeGSNKE."
   ]
  },
  {
   "cell_type": "code",
   "execution_count": 8,
   "metadata": {},
   "outputs": [],
   "source": [
    "with open(\"../machine_configs/example/active_coils.pickle\", \"wb\") as f:\n",
    "   pickle.dump(active_coils_dict, f)"
   ]
  },
  {
   "cell_type": "markdown",
   "metadata": {},
   "source": [
    "## Passive structures\n",
    "Passive structures in FreeGSNKE are toroidally symmetric conducting structures that contain eddy currents induced by the active coils and the plasma. These non-voltage driven currents alter the magnetic field in the device and significantly affect equilibrium calculations. These can include support structures, the vessel, coil cans, etc.\n",
    "\n",
    "FreeGSNKE supports two different kind of passive structures:\n",
    "- filaments (i.e. single point sources)\n",
    "- polygonal structures (i.e. multiple grouped filaments). \n",
    "\n",
    "The full description of passive structures is provided by the user as a list of dictionaries.\n",
    "\n",
    "An element modelled as a single **filament** must include each of the following characteristics:\n",
    "- `R`: centre in the radial coordinate. \n",
    "- `Z`: centre in the vertical coordinate.\n",
    "- `dR`: width.\n",
    "- `dZ`: height.\n",
    "- `resistivity`: resistivity.\n",
    "- `name`: name of the passive structure, optional.\n",
    "\n",
    "These filaments are plotted as grey circles with a black outline in FreeGSNKE where their sizes are proportional to the height/width.\n",
    "\n",
    "An element describing a **polygonal shape** must include:\n",
    "- `R`: list or array of four radial coordinates for the polygon's vertices.\n",
    "- `Z`: list or array of four vertical coordinates for the polygon's vertices.\n",
    "- `resistivity`: resistivity.\n",
    "- `name`: name of the passive structure, optional.\n",
    "- `min_refine_per_area`: number of refinement points per m^2, optional.\n",
    "- `min_refine_per_length`: number of refinement points per m, optional.\n",
    "\n",
    "These filaments are plotted as polygons in FreeGSNKE with a black outline and grey interior.\n",
    "\n",
    "Note 1: The polygonal-shaped passives are \"refined\" under the hood in FreeGSNKE and are typically modelled using a large number of individual filaments that uniformly distribute current assigned to the polygon (see [Pentland et al. (2024)](https://arxiv.org/abs/2407.12432) for a description of this process).\n",
    "\n",
    "Note 2: Passives may also contain other information (recorded under their own keys - that won't affect calculations). \n",
    "\n",
    "In this example, we include both types. The list is named `passive_coils` to emphasise that the passive structures are modelled as coils under the hood. "
   ]
  },
  {
   "cell_type": "code",
   "execution_count": null,
   "metadata": {},
   "outputs": [],
   "source": [
    "resistivity_wall = 5.5e-7   # resistivity of material (typically steel)\n",
    "\n",
    "passive_coils = []\n",
    "\n",
    "# some individual filaments\n",
    "passive_coils.append({\n",
    "    \"R\": 1.55,\n",
    "    \"Z\": -1.1,\n",
    "    \"dR\": 0.05,\n",
    "    \"dZ\": 0.05,\n",
    "    \"resistivity\": resistivity_wall\n",
    "})\n",
    "\n",
    "passive_coils.append({\n",
    "    \"R\": 1.55,\n",
    "    \"Z\": 1.1,\n",
    "    \"dR\": 0.05,\n",
    "    \"dZ\": 0.05,\n",
    "    \"resistivity\": resistivity_wall\n",
    "})\n",
    "\n",
    "passive_coils.append({\n",
    "    \"R\": 1.55,\n",
    "    \"Z\": -1.2,\n",
    "    \"dR\": 0.07,\n",
    "    \"dZ\": 0.07,\n",
    "    \"resistivity\": resistivity_wall\n",
    "})\n",
    "\n",
    "passive_coils.append({\n",
    "    \"R\": 1.55,\n",
    "    \"Z\": 1.2,\n",
    "    \"dR\": 0.07,\n",
    "    \"dZ\": 0.07,\n",
    "    \"resistivity\": resistivity_wall\n",
    "})\n",
    "\n",
    "\n",
    "\n",
    "\n",
    "# some polygons to be refined\n",
    "passive_coils.append({\n",
    "    \"R\": [.25,2.1,2.1,.25],\n",
    "    \"Z\": [-1.3,-1.35,-1.4,-1.35],\n",
    "    \"name\": 'passive_lower_wall',\n",
    "    \"resistivity\": resistivity_wall\n",
    "})\n",
    "\n",
    "passive_coils.append({\n",
    "    \"R\": [.25,2.1,2.1,.25],\n",
    "    \"Z\": [1.3,1.35,1.4,1.35],\n",
    "    \"name\": 'passive_upper_wall',\n",
    "    \"resistivity\": resistivity_wall\n",
    "})\n",
    "\n",
    "passive_coils.append({\n",
    "    \"R\": [.25,.275,.275,.25],\n",
    "    \"Z\": [-1.25,-1.25,1.25,1.25],\n",
    "    \"name\": 'passive_left_wall',\n",
    "    \"resistivity\": resistivity_wall\n",
    "})\n",
    "\n",
    "passive_coils.append({\n",
    "    \"R\": [2,2.1,2.1,2],\n",
    "    \"Z\": [-1.3,-1.3,1.3,1.3],\n",
    "    \"name\": 'passive_right_wall',\n",
    "    \"resistivity\": resistivity_wall\n",
    "})"
   ]
  },
  {
   "cell_type": "markdown",
   "metadata": {},
   "source": [
    "Save the passive structures to a pickle."
   ]
  },
  {
   "cell_type": "code",
   "execution_count": 10,
   "metadata": {},
   "outputs": [],
   "source": [
    "with open(\"../machine_configs/example/passive_coils.pickle\", \"wb\") as f:\n",
    "   pickle.dump(passive_coils, f)"
   ]
  },
  {
   "cell_type": "markdown",
   "metadata": {},
   "source": [
    "## Limiter\n",
    "A *limiter* in FreeGSNKE is a synthetic boundary that is used in various routines, typically it will be used to contain the core plasma. To define a limiter, simply specify points along its boundary.\n",
    "\n",
    "For diverted plasmas, the limiter has no effect on the equilibrium or its evolution. For limiter plasmas, the last closed flux surface will be tangent to the limiter. FreeGSNKE will also force the last closed flux surface to lie entirely inside the region allowed by the limiter. In other words, outside the limiter, the constraint $J=0$ on the plasma current density is enforced. \n",
    "\n",
    "The format of the limiter coordinates for FreeGSNKE is a simple list of dictionaries with `R` and `Z` coordinates."
   ]
  },
  {
   "cell_type": "code",
   "execution_count": 11,
   "metadata": {},
   "outputs": [],
   "source": [
    "r_limiter = [1.3       , 1.27290862, 1.19457025, 1.07347408, 0.92274274,\n",
    "       0.75871033, 0.59915229, 0.46135921, 0.36026312, 0.30681935,\n",
    "       0.30681935, 0.36026312, 0.46135921, 0.59915229, 0.75871033,\n",
    "       0.92274274, 1.07347408, 1.19457025, 1.27290862, 1.3]\n",
    "z_limiter = [0.00000000e+00,  2.59759575e-01,  4.91370170e-01,  6.69733183e-01,\n",
    "        7.75520213e-01,  7.97267594e-01,  7.32618661e-01,  5.88579129e-01,\n",
    "        3.80757914e-01,  1.31675672e-01, -1.31675672e-01, -3.80757914e-01,\n",
    "       -5.88579129e-01, -7.32618661e-01, -7.97267594e-01, -7.75520213e-01,\n",
    "       -6.69733183e-01, -4.91370170e-01, -2.59759575e-01, -1.95943488e-16]\n",
    "\n",
    "limiter = []\n",
    "for r, z in zip(r_limiter, z_limiter):\n",
    "    limiter.append({\"R\": r+0.05, \"Z\": z})"
   ]
  },
  {
   "cell_type": "markdown",
   "metadata": {},
   "source": [
    "Save as a pickle file for FreeGSNKE to access later."
   ]
  },
  {
   "cell_type": "code",
   "execution_count": 12,
   "metadata": {},
   "outputs": [],
   "source": [
    "with open(\"../machine_configs/example/limiter.pickle\", \"wb\") as f:\n",
    "   pickle.dump(limiter, f)"
   ]
  },
  {
   "cell_type": "markdown",
   "metadata": {},
   "source": [
    "## Wall\n",
    "A *wall* in FreeGSNKE is very similar to a limiter. However, there is no $J=0$\n",
    "constraint enforced outside the wall. The wall is used in plotting routines and\n",
    "can be used to calculate useful quantities like divertor strike point locations.\n",
    "\n",
    "In general, a wall and limiter in FreeGSNKE can be defined to be different\n",
    "contours. For example, a tokamak with a divertor would have the wall following\n",
    "the contour of the divertor, while the limiter might cut across the divertor\n",
    "entrance."
   ]
  },
  {
   "cell_type": "code",
   "execution_count": 13,
   "metadata": {},
   "outputs": [],
   "source": [
    "r_wall = [0.3, 1.4, 1.4, 0.3, 0.3]\n",
    "z_wall = [-0.85, -0.85, 0.85, 0.85, -0.85]\n",
    "\n",
    "\n",
    "wall = []\n",
    "for r, z in zip(r_wall, z_wall):\n",
    "    wall.append({\"R\": r, \"Z\": z})\n",
    "\n",
    "with open(\"../machine_configs/example/wall.pickle\", \"wb\") as f:\n",
    "   pickle.dump(wall, f)"
   ]
  },
  {
   "cell_type": "markdown",
   "metadata": {},
   "source": [
    "## Magnetic Probes \n",
    "\n",
    "There are a variety of magnetic probes in the machine that measure various components of the magnetic field and or the flux function. The description of these is contained in a dictionary we'll call `magnetic_probes` which has the probe type as a key and then a list of smaller dictionaries for each individual probe. Currently the *flux loops* and *pickup coils* are implemented (others may be implemented at a later date).\n",
    "- The **flux loops** compute the flux function $\\psi(R,Z)$. The dictionary description contains the `name` and the `position` of the probe which is a 2D array with $R$ and $Z$ coordinates. \n",
    "- The **pickup coils** compute $B\\cdot \\hat n$ where $\\hat n$ is a unit orientation vector of the probe. They are described by dictionaries containing the `name` as before, the `position` which is now a 3D array of coordinates $(R,\\phi,Z)$, an `orientation` key with a string description of the orientation (parallel, toroidal, normal), and finally an `orientation_vector` $\\hat n$. This is also a 3D array - it must be the same dimension as the position. \n",
    "\n",
    "For example, taking the first two probes of each type we would have the following dictionary structure."
   ]
  },
  {
   "cell_type": "code",
   "execution_count": 14,
   "metadata": {},
   "outputs": [],
   "source": [
    "# create list of flux loop dictionaries\n",
    "flux_loops = []\n",
    "flux_loops.append({'name': 'fl_nu_01', 'position': np.array([0.901 , 1.3582])})\n",
    "flux_loops.append({'name': 'fl_nu_02', 'position':np.array([0.9544   , 1.3041999])})\n",
    "\n",
    "# create list of pickup coil dictionaries\n",
    "pickup_coils = []\n",
    "pickup_coils.append({'name': 'b_c1_p01', 'position': np.array([2.76900e-01, 3.00000e+02, 1.26203e+00]), 'orientation': 'PARALLEL', 'orientation_vector': np.array([0., 0., 1.])}\n",
    ")\n",
    "pickup_coils.append({'name': 'b_c1_t02', 'position': np.array([2.7689108e-01, 2.9999680e+02, 1.2245095e+00]), 'orientation': 'TOROIDAL', 'orientation_vector': np.array([0., 1., 0.])}\n",
    ")\n",
    "\n",
    "# create magnetic probes dictionary\n",
    "magnetic_probes = {'flux_loops': flux_loops, 'pickups': pickup_coils}\n",
    "\n",
    "# save as pickle file\n",
    "with open(\"../machine_configs/example/magnetic_probes.pickle\", \"wb\") as f:\n",
    "   pickle.dump(magnetic_probes, f)"
   ]
  },
  {
   "cell_type": "markdown",
   "metadata": {},
   "source": [
    "## Visualising the machine\n",
    "Now we'll plot the components of the machine to visualise its configuration."
   ]
  },
  {
   "cell_type": "code",
   "execution_count": 15,
   "metadata": {},
   "outputs": [],
   "source": [
    "import matplotlib.pyplot as plt\n",
    "import os\n",
    "import freegsnke"
   ]
  },
  {
   "cell_type": "markdown",
   "metadata": {},
   "source": [
    "First, we set the paths to the pickle files we've just built. Then when we call 'build_machine.tokamak()', it will know which files to use. After this, we can plot the machine directly from the tokamak object (note that the limiter and wall need to be plot separately). "
   ]
  },
  {
   "cell_type": "code",
   "execution_count": 16,
   "metadata": {},
   "outputs": [],
   "source": [
    "# set paths\n",
    "os.environ[\"ACTIVE_COILS_PATH\"] = f\"../machine_configs/example/active_coils.pickle\"\n",
    "os.environ[\"PASSIVE_COILS_PATH\"] = f\"../machine_configs/example/passive_coils.pickle\"\n",
    "os.environ[\"WALL_PATH\"] = f\"../machine_configs/example/wall.pickle\"\n",
    "os.environ[\"LIMITER_PATH\"] = f\"../machine_configs/example/limiter.pickle\"\n",
    "os.environ[\"PROBE_PATH\"] = f\"../machine_configs/example/magnetic_probes.pickle\"\n",
    "\n",
    "# now the machine can actually be built:\n",
    "from freegsnke import build_machine\n",
    "tokamak = build_machine.tokamak()"
   ]
  },
  {
   "cell_type": "markdown",
   "metadata": {},
   "source": [
    "Note that here the magnetic probes have not been plotted, this will be shown in a later notebook. "
   ]
  },
  {
   "cell_type": "code",
   "execution_count": 21,
   "metadata": {},
   "outputs": [
    {
     "data": {
      "text/plain": [
       "Text(12.722222222222223, 0.5, 'Height, $Z$ $[m]$')"
      ]
     },
     "execution_count": 21,
     "metadata": {},
     "output_type": "execute_result"
    },
    {
     "data": {
      "image/png": "[encoded data removed]",
      "text/plain": [
       "<Figure size 400x800 with 1 Axes>"
      ]
     },
     "metadata": {},
     "output_type": "display_data"
    }
   ],
   "source": [
    "# plot the resulting equilbria \n",
    "fig1, ax1 = plt.subplots(1, 1, figsize=(4, 8), dpi=100)\n",
    "plt.tight_layout()\n",
    "\n",
    "tokamak.plot(axis=ax1, show=False)\n",
    "ax1.plot(tokamak.limiter.R, tokamak.limiter.Z, color='k', linewidth=1.2, linestyle=\"--\")\n",
    "ax1.plot(tokamak.wall.R, tokamak.wall.Z, color='k', linewidth=1.2, linestyle=\"-\")\n",
    "\n",
    "ax1.grid(alpha=0.5)\n",
    "ax1.set_aspect('equal')\n",
    "ax1.set_xlim(0.1, 2.15)\n",
    "ax1.set_ylim(-1.5, 1.5)\n",
    "ax1.set_xlabel(r'Major radius, $R$ $[m]$')\n",
    "ax1.set_ylabel(r'Height, $Z$ $[m]$')"
   ]
  },
  {
   "cell_type": "markdown",
   "metadata": {},
   "source": [
    "It is worth spending some time exploring the `tokamak` object to get familiar with all of the information it holds. A number of methods may not work properly yet as we have not instatiated an equilibrium object (that will be in a future notebook).  \n",
    "\n",
    "We can, however, look at the active coils and other features defined in our tokamak."
   ]
  },
  {
   "cell_type": "code",
   "execution_count": 26,
   "metadata": {},
   "outputs": [
    {
     "data": {
      "text/plain": [
       "['Pz',\n",
       " 'P1',\n",
       " 'P2',\n",
       " 'Solenoid',\n",
       " 'passive_0',\n",
       " 'passive_1',\n",
       " 'passive_2',\n",
       " 'passive_3',\n",
       " 'passive_lower_wall',\n",
       " 'passive_upper_wall',\n",
       " 'passive_left_wall',\n",
       " 'passive_right_wall']"
      ]
     },
     "execution_count": 26,
     "metadata": {},
     "output_type": "execute_result"
    }
   ],
   "source": [
    "tokamak.coils_list"
   ]
  },
  {
   "cell_type": "code",
   "execution_count": 28,
   "metadata": {},
   "outputs": [
    {
     "data": {
      "text/plain": [
       "{'active': True,\n",
       " 'coords': array([[ 0.7,  0.7,  0.8,  0.8,  0.7,  0.7,  0.8,  0.8],\n",
       "        [ 1.1,  1.2,  1.1,  1.2, -1.1, -1.2, -1.1, -1.2]]),\n",
       " 'polarity': array([1, 1, 1, 1, 1, 1, 1, 1]),\n",
       " 'multiplier': array([1, 1, 1, 1, 1, 1, 1, 1]),\n",
       " 'dR': 0.08,\n",
       " 'dZ': 0.08,\n",
       " 'resistivity': 2.421875e-06}"
      ]
     },
     "execution_count": 28,
     "metadata": {},
     "output_type": "execute_result"
    }
   ],
   "source": [
    "tokamak.coils_dict[\"P1\"]"
   ]
  },
  {
   "cell_type": "markdown",
   "metadata": {},
   "source": [
    "Notice how passive coils have the 'active': False property (distinguishing them from the actual active coils) and have a multiplier value less than 1 (in the polygon case). This is because the polygon has been refined under the hood using lots of individual filaments. If we were to assign a current to this passive structure, the multiplier says that each filament will be assigned this fraction of the total current. This helps spread the total current over the total surface area of the polygonal shape. "
   ]
  },
  {
   "cell_type": "code",
   "execution_count": null,
   "metadata": {},
   "outputs": [
    {
     "data": {
      "text/plain": [
       "{'active': False,\n",
       " 'vertices': array([[ 0.25,  2.1 ,  2.1 ,  0.25],\n",
       "        [-1.3 , -1.35, -1.4 , -1.35]]),\n",
       " 'coords': array([[ 1.57369258,  1.58964066,  1.60558873,  1.6215368 ,  1.63748488,\n",
       "          1.65343295,  1.66938102,  1.68532909,  1.70127717,  1.71722524,\n",
       "          1.73317331,  1.74912139,  1.76506946,  1.78101753,  1.79696561,\n",
       "          1.81291368,  1.82886175,  1.84480983,  1.8607579 ,  1.87670597,\n",
       "          1.89265405,  1.90860212,  1.92455019,  1.94049827,  1.95644634,\n",
       "          1.97239441,  1.98834249,  2.00429056,  2.02023863,  2.03618671,\n",
       "          2.05213478,  2.06808285,  2.08403093,  2.099979  ,  1.04740616,\n",
       "          1.06335424,  1.07930231,  1.09525038,  1.11119846,  1.12714653,\n",
       "          1.1430946 ,  1.15904268,  1.17499075,  1.19093882,  1.2068869 ,\n",
       "          1.22283497,  1.23878304,  1.25473112,  1.27067919,  1.28662726,\n",
       "          1.30257534,  1.31852341,  1.33447148,  1.35041956,  1.36636763,\n",
       "          1.3823157 ,  1.39826378,  1.41421185,  1.43015992,  1.446108  ,\n",
       "          1.46205607,  1.47800414,  1.49395222,  1.50990029,  1.52584836,\n",
       "          1.54179644,  1.55774451,  1.57369258,  1.58964066,  1.60558873,\n",
       "          1.6215368 ,  1.63748488,  1.65343295,  1.66938102,  1.68532909,\n",
       "          1.70127717,  1.71722524,  1.73317331,  1.74912139,  1.76506946,\n",
       "          1.78101753,  1.79696561,  1.81291368,  1.82886175,  1.84480983,\n",
       "          1.8607579 ,  1.87670597,  1.89265405,  1.90860212,  1.92455019,\n",
       "          1.94049827,  1.95644634,  1.97239441,  1.98834249,  2.00429056,\n",
       "          2.02023863,  2.03618671,  2.05213478,  2.06808285,  2.08403093,\n",
       "          2.099979  ,  0.52111975,  0.53706782,  0.55301589,  0.56896397,\n",
       "          0.58491204,  0.60086011,  0.61680819,  0.63275626,  0.64870433,\n",
       "          0.66465241,  0.68060048,  0.69654855,  0.71249663,  0.7284447 ,\n",
       "          0.74439277,  0.76034084,  0.77628892,  0.79223699,  0.80818506,\n",
       "          0.82413314,  0.84008121,  0.85602928,  0.87197736,  0.88792543,\n",
       "          0.9038735 ,  0.91982158,  0.93576965,  0.95171772,  0.9676658 ,\n",
       "          0.98361387,  0.99956194,  1.01551002,  1.03145809,  1.04740616,\n",
       "          1.06335424,  1.07930231,  1.09525038,  1.11119846,  1.12714653,\n",
       "          1.1430946 ,  1.15904268,  1.17499075,  1.19093882,  1.2068869 ,\n",
       "          1.22283497,  1.23878304,  1.25473112,  1.27067919,  1.28662726,\n",
       "          1.30257534,  1.31852341,  1.33447148,  1.35041956,  1.36636763,\n",
       "          1.3823157 ,  1.39826378,  1.41421185,  1.43015992,  1.446108  ,\n",
       "          1.46205607,  1.47800414,  1.49395222,  1.50990029,  1.52584836,\n",
       "          1.54179644,  1.55774451,  1.57369258,  1.58964066,  1.60558873,\n",
       "          1.6215368 ,  1.63748488,  1.65343295,  1.66938102,  1.68532909,\n",
       "          1.70127717,  1.71722524,  1.73317331,  1.74912139,  1.76506946,\n",
       "          1.78101753,  1.79696561,  1.81291368,  1.82886175,  1.84480983,\n",
       "          1.8607579 ,  1.87670597,  1.89265405,  1.90860212,  1.92455019,\n",
       "          1.94049827,  1.95644634,  1.97239441,  1.98834249,  2.00429056,\n",
       "          2.02023863,  2.03618671,  2.05213478,  2.06808285,  2.08403093,\n",
       "          2.099979  ,  0.2500025 ,  0.26595057,  0.28189865,  0.29784672,\n",
       "          0.31379479,  0.32974287,  0.34569094,  0.36163901,  0.37758709,\n",
       "          0.39353516,  0.40948323,  0.42543131,  0.44137938,  0.45732745,\n",
       "          0.47327553,  0.4892236 ,  0.50517167,  0.52111975,  0.53706782,\n",
       "          0.55301589,  0.56896397,  0.58491204,  0.60086011,  0.61680819,\n",
       "          0.63275626,  0.64870433,  0.66465241,  0.68060048,  0.69654855,\n",
       "          0.71249663,  0.7284447 ,  0.74439277,  0.76034084,  0.77628892,\n",
       "          0.79223699,  0.80818506,  0.82413314,  0.84008121,  0.85602928,\n",
       "          0.87197736,  0.88792543,  0.9038735 ,  0.91982158,  0.93576965,\n",
       "          0.95171772,  0.9676658 ,  0.98361387,  0.99956194,  1.01551002,\n",
       "          1.03145809,  1.04740616,  1.06335424,  1.07930231,  1.09525038,\n",
       "          1.11119846,  1.12714653,  1.1430946 ,  1.15904268,  1.17499075,\n",
       "          1.19093882,  1.2068869 ,  1.22283497,  1.23878304,  1.25473112,\n",
       "          1.27067919,  1.28662726,  1.30257534,  1.31852341,  1.33447148,\n",
       "          1.35041956,  1.36636763,  1.3823157 ,  1.39826378,  1.41421185,\n",
       "          1.43015992,  1.446108  ,  1.46205607,  1.47800414,  1.49395222,\n",
       "          1.50990029,  1.52584836,  1.54179644,  1.55774451,  1.57369258,\n",
       "          1.58964066,  1.60558873,  1.6215368 ,  1.63748488,  1.65343295,\n",
       "          1.66938102,  1.68532909,  1.70127717,  1.71722524,  1.73317331,\n",
       "          1.74912139,  1.76506946,  1.78101753,  1.79696561,  1.81291368,\n",
       "          1.82886175,  0.2500025 ,  0.26595057,  0.28189865,  0.29784672,\n",
       "          0.31379479,  0.32974287,  0.34569094,  0.36163901,  0.37758709,\n",
       "          0.39353516,  0.40948323,  0.42543131,  0.44137938,  0.45732745,\n",
       "          0.47327553,  0.4892236 ,  0.50517167,  0.52111975,  0.53706782,\n",
       "          0.55301589,  0.56896397,  0.58491204,  0.60086011,  0.61680819,\n",
       "          0.63275626,  0.64870433,  0.66465241,  0.68060048,  0.69654855,\n",
       "          0.71249663,  0.7284447 ,  0.74439277,  0.76034084,  0.77628892,\n",
       "          0.79223699,  0.80818506,  0.82413314,  0.84008121,  0.85602928,\n",
       "          0.87197736,  0.88792543,  0.9038735 ,  0.91982158,  0.93576965,\n",
       "          0.95171772,  0.9676658 ,  0.98361387,  0.99956194,  1.01551002,\n",
       "          1.03145809,  1.04740616,  1.06335424,  1.07930231,  1.09525038,\n",
       "          1.11119846,  1.12714653,  1.1430946 ,  1.15904268,  1.17499075,\n",
       "          1.19093882,  1.2068869 ,  1.22283497,  1.23878304,  1.25473112,\n",
       "          1.27067919,  1.28662726,  1.30257534,  0.2500025 ,  0.26595057,\n",
       "          0.28189865,  0.29784672,  0.31379479,  0.32974287,  0.34569094,\n",
       "          0.36163901,  0.37758709,  0.39353516,  0.40948323,  0.42543131,\n",
       "          0.44137938,  0.45732745,  0.47327553,  0.4892236 ,  0.50517167,\n",
       "          0.52111975,  0.53706782,  0.55301589,  0.56896397,  0.58491204,\n",
       "          0.60086011,  0.61680819,  0.63275626,  0.64870433,  0.66465241,\n",
       "          0.68060048,  0.69654855,  0.71249663,  0.7284447 ,  0.74439277,\n",
       "          0.76034084,  0.77628892],\n",
       "        [-1.38572443, -1.38572443, -1.38572443, -1.38572443, -1.38572443,\n",
       "         -1.38572443, -1.38572443, -1.38572443, -1.38572443, -1.38572443,\n",
       "         -1.38572443, -1.38572443, -1.38572443, -1.38572443, -1.38572443,\n",
       "         -1.38572443, -1.38572443, -1.38572443, -1.38572443, -1.38572443,\n",
       "         -1.38572443, -1.38572443, -1.38572443, -1.38572443, -1.38572443,\n",
       "         -1.38572443, -1.38572443, -1.38572443, -1.38572443, -1.38572443,\n",
       "         -1.38572443, -1.38572443, -1.38572443, -1.38572443, -1.37143486,\n",
       "         -1.37143486, -1.37143486, -1.37143486, -1.37143486, -1.37143486,\n",
       "         -1.37143486, -1.37143486, -1.37143486, -1.37143486, -1.37143486,\n",
       "         -1.37143486, -1.37143486, -1.37143486, -1.37143486, -1.37143486,\n",
       "         -1.37143486, -1.37143486, -1.37143486, -1.37143486, -1.37143486,\n",
       "         -1.37143486, -1.37143486, -1.37143486, -1.37143486, -1.37143486,\n",
       "         -1.37143486, -1.37143486, -1.37143486, -1.37143486, -1.37143486,\n",
       "         -1.37143486, -1.37143486, -1.37143486, -1.37143486, -1.37143486,\n",
       "         -1.37143486, -1.37143486, -1.37143486, -1.37143486, -1.37143486,\n",
       "         -1.37143486, -1.37143486, -1.37143486, -1.37143486, -1.37143486,\n",
       "         -1.37143486, -1.37143486, -1.37143486, -1.37143486, -1.37143486,\n",
       "         -1.37143486, -1.37143486, -1.37143486, -1.37143486, -1.37143486,\n",
       "         -1.37143486, -1.37143486, -1.37143486, -1.37143486, -1.37143486,\n",
       "         -1.37143486, -1.37143486, -1.37143486, -1.37143486, -1.37143486,\n",
       "         -1.37143486, -1.35714529, -1.35714529, -1.35714529, -1.35714529,\n",
       "         -1.35714529, -1.35714529, -1.35714529, -1.35714529, -1.35714529,\n",
       "         -1.35714529, -1.35714529, -1.35714529, -1.35714529, -1.35714529,\n",
       "         -1.35714529, -1.35714529, -1.35714529, -1.35714529, -1.35714529,\n",
       "         -1.35714529, -1.35714529, -1.35714529, -1.35714529, -1.35714529,\n",
       "         -1.35714529, -1.35714529, -1.35714529, -1.35714529, -1.35714529,\n",
       "         -1.35714529, -1.35714529, -1.35714529, -1.35714529, -1.35714529,\n",
       "         -1.35714529, -1.35714529, -1.35714529, -1.35714529, -1.35714529,\n",
       "         -1.35714529, -1.35714529, -1.35714529, -1.35714529, -1.35714529,\n",
       "         -1.35714529, -1.35714529, -1.35714529, -1.35714529, -1.35714529,\n",
       "         -1.35714529, -1.35714529, -1.35714529, -1.35714529, -1.35714529,\n",
       "         -1.35714529, -1.35714529, -1.35714529, -1.35714529, -1.35714529,\n",
       "         -1.35714529, -1.35714529, -1.35714529, -1.35714529, -1.35714529,\n",
       "         -1.35714529, -1.35714529, -1.35714529, -1.35714529, -1.35714529,\n",
       "         -1.35714529, -1.35714529, -1.35714529, -1.35714529, -1.35714529,\n",
       "         -1.35714529, -1.35714529, -1.35714529, -1.35714529, -1.35714529,\n",
       "         -1.35714529, -1.35714529, -1.35714529, -1.35714529, -1.35714529,\n",
       "         -1.35714529, -1.35714529, -1.35714529, -1.35714529, -1.35714529,\n",
       "         -1.35714529, -1.35714529, -1.35714529, -1.35714529, -1.35714529,\n",
       "         -1.35714529, -1.35714529, -1.35714529, -1.35714529, -1.35714529,\n",
       "         -1.35714529, -1.34285571, -1.34285571, -1.34285571, -1.34285571,\n",
       "         -1.34285571, -1.34285571, -1.34285571, -1.34285571, -1.34285571,\n",
       "         -1.34285571, -1.34285571, -1.34285571, -1.34285571, -1.34285571,\n",
       "         -1.34285571, -1.34285571, -1.34285571, -1.34285571, -1.34285571,\n",
       "         -1.34285571, -1.34285571, -1.34285571, -1.34285571, -1.34285571,\n",
       "         -1.34285571, -1.34285571, -1.34285571, -1.34285571, -1.34285571,\n",
       "         -1.34285571, -1.34285571, -1.34285571, -1.34285571, -1.34285571,\n",
       "         -1.34285571, -1.34285571, -1.34285571, -1.34285571, -1.34285571,\n",
       "         -1.34285571, -1.34285571, -1.34285571, -1.34285571, -1.34285571,\n",
       "         -1.34285571, -1.34285571, -1.34285571, -1.34285571, -1.34285571,\n",
       "         -1.34285571, -1.34285571, -1.34285571, -1.34285571, -1.34285571,\n",
       "         -1.34285571, -1.34285571, -1.34285571, -1.34285571, -1.34285571,\n",
       "         -1.34285571, -1.34285571, -1.34285571, -1.34285571, -1.34285571,\n",
       "         -1.34285571, -1.34285571, -1.34285571, -1.34285571, -1.34285571,\n",
       "         -1.34285571, -1.34285571, -1.34285571, -1.34285571, -1.34285571,\n",
       "         -1.34285571, -1.34285571, -1.34285571, -1.34285571, -1.34285571,\n",
       "         -1.34285571, -1.34285571, -1.34285571, -1.34285571, -1.34285571,\n",
       "         -1.34285571, -1.34285571, -1.34285571, -1.34285571, -1.34285571,\n",
       "         -1.34285571, -1.34285571, -1.34285571, -1.34285571, -1.34285571,\n",
       "         -1.34285571, -1.34285571, -1.34285571, -1.34285571, -1.34285571,\n",
       "         -1.34285571, -1.32856614, -1.32856614, -1.32856614, -1.32856614,\n",
       "         -1.32856614, -1.32856614, -1.32856614, -1.32856614, -1.32856614,\n",
       "         -1.32856614, -1.32856614, -1.32856614, -1.32856614, -1.32856614,\n",
       "         -1.32856614, -1.32856614, -1.32856614, -1.32856614, -1.32856614,\n",
       "         -1.32856614, -1.32856614, -1.32856614, -1.32856614, -1.32856614,\n",
       "         -1.32856614, -1.32856614, -1.32856614, -1.32856614, -1.32856614,\n",
       "         -1.32856614, -1.32856614, -1.32856614, -1.32856614, -1.32856614,\n",
       "         -1.32856614, -1.32856614, -1.32856614, -1.32856614, -1.32856614,\n",
       "         -1.32856614, -1.32856614, -1.32856614, -1.32856614, -1.32856614,\n",
       "         -1.32856614, -1.32856614, -1.32856614, -1.32856614, -1.32856614,\n",
       "         -1.32856614, -1.32856614, -1.32856614, -1.32856614, -1.32856614,\n",
       "         -1.32856614, -1.32856614, -1.32856614, -1.32856614, -1.32856614,\n",
       "         -1.32856614, -1.32856614, -1.32856614, -1.32856614, -1.32856614,\n",
       "         -1.32856614, -1.32856614, -1.32856614, -1.31427657, -1.31427657,\n",
       "         -1.31427657, -1.31427657, -1.31427657, -1.31427657, -1.31427657,\n",
       "         -1.31427657, -1.31427657, -1.31427657, -1.31427657, -1.31427657,\n",
       "         -1.31427657, -1.31427657, -1.31427657, -1.31427657, -1.31427657,\n",
       "         -1.31427657, -1.31427657, -1.31427657, -1.31427657, -1.31427657,\n",
       "         -1.31427657, -1.31427657, -1.31427657, -1.31427657, -1.31427657,\n",
       "         -1.31427657, -1.31427657, -1.31427657, -1.31427657, -1.31427657,\n",
       "         -1.31427657, -1.31427657]]),\n",
       " 'area': 0.09234459999999989,\n",
       " 'dR': 0.015156283691043224,\n",
       " 'dZ': 0.015156283691043224,\n",
       " 'polarity': array([1]),\n",
       " 'multiplier': array([0.00248756]),\n",
       " 'resistivity': 5.955951945213913e-06}"
      ]
     },
     "execution_count": 29,
     "metadata": {},
     "output_type": "execute_result"
    }
   ],
   "source": [
    "tokamak.coils_dict[\"passive_lower_wall\"] "
   ]
  },
  {
   "cell_type": "code",
   "execution_count": 32,
   "metadata": {},
   "outputs": [
    {
     "data": {
      "text/plain": [
       "Wall(R=[1.35, 1.32290862, 1.24457025, 1.12347408, 0.97274274, 0.80871033, 0.6491522900000001, 0.5113592100000001, 0.41026312, 0.35681935, 0.35681935, 0.41026312, 0.5113592100000001, 0.6491522900000001, 0.80871033, 0.97274274, 1.12347408, 1.24457025, 1.32290862, 1.35], Z=[0.0, 0.259759575, 0.49137017, 0.669733183, 0.775520213, 0.797267594, 0.732618661, 0.588579129, 0.380757914, 0.131675672, -0.131675672, -0.380757914, -0.588579129, -0.732618661, -0.797267594, -0.775520213, -0.669733183, -0.49137017, -0.259759575, -1.95943488e-16])"
      ]
     },
     "execution_count": 32,
     "metadata": {},
     "output_type": "execute_result"
    }
   ],
   "source": [
    "tokamak.limiter"
   ]
  },
  {
   "cell_type": "code",
   "execution_count": 33,
   "metadata": {},
   "outputs": [
    {
     "data": {
      "text/plain": [
       "Wall(R=[0.3, 1.4, 1.4, 0.3, 0.3], Z=[-0.85, -0.85, 0.85, 0.85, -0.85])"
      ]
     },
     "execution_count": 33,
     "metadata": {},
     "output_type": "execute_result"
    }
   ],
   "source": [
    "tokamak.wall"
   ]
  },
  {
   "cell_type": "markdown",
   "metadata": {},
   "source": [
    "We can view the currents assigned to each active coil and passive structure (noting that we have yet to assign or calculate any currents yet):"
   ]
  },
  {
   "cell_type": "code",
   "execution_count": 34,
   "metadata": {},
   "outputs": [
    {
     "data": {
      "text/plain": [
       "{'Pz': 0.0,\n",
       " 'P1': 0.0,\n",
       " 'P2': 0.0,\n",
       " 'Solenoid': 0.0,\n",
       " 'passive_0': 0.0,\n",
       " 'passive_1': 0.0,\n",
       " 'passive_2': 0.0,\n",
       " 'passive_3': 0.0,\n",
       " 'passive_lower_wall': 0,\n",
       " 'passive_upper_wall': 0,\n",
       " 'passive_left_wall': 0,\n",
       " 'passive_right_wall': 0}"
      ]
     },
     "execution_count": 34,
     "metadata": {},
     "output_type": "execute_result"
    }
   ],
   "source": [
    "tokamak.getCurrents()"
   ]
  },
  {
   "cell_type": "markdown",
   "metadata": {},
   "source": [
    "Using the following command, we can print all of the coil/passive information. Note that the 'mirror' field is not used and the 'control' field tells the inverse solver (in later notebooks) whether it should find a current for the coil (True) or not (False). We will see how this works when carrying out an inverse solve."
   ]
  },
  {
   "cell_type": "code",
   "execution_count": 37,
   "metadata": {},
   "outputs": [
    {
     "name": "stdout",
     "output_type": "stream",
     "text": [
      "==========================\n",
      "Pz : Circuit([(\"Pz\", MultiCoil(R=[1.75], Z=[0.0], current=0.0, turns=1, control=True, mirror=False, polarity=[1.0, 1.0]), 1.0)], current=0.0, control=True)\n",
      "P1 : Circuit([(\"P1upper\", MultiCoil(R=[0.7, 0.7, 0.8, 0.8], Z=[1.1, 1.2, 1.1, 1.2], current=0.0, turns=4, control=True, mirror=False, polarity=[1.0, 1.0]), 1.0), (\"P1lower\", MultiCoil(R=[0.7, 0.7, 0.8, 0.8], Z=[-1.1, -1.2, -1.1, -1.2], current=0.0, turns=4, control=True, mirror=False, polarity=[1.0, 1.0]), 1.0)], current=0.0, control=True)\n",
      "P2 : Circuit([(\"P2upper\", MultiCoil(R=[1.7, 1.7, 1.8], Z=[0.6, 0.7, 0.6], current=0.0, turns=3, control=True, mirror=False, polarity=[1.0, 1.0]), 1.0), (\"P2lower\", MultiCoil(R=[1.7, 1.7, 1.8], Z=[-0.6, -0.7, -0.6], current=-0.0, turns=3, control=True, mirror=False, polarity=[1.0, 1.0]), -1.0)], current=0.0, control=True)\n",
      "Solenoid : Circuit([(\"Solenoid\", MultiCoil(R=[0.15, 0.15, 0.15, 0.15, 0.15, 0.15, 0.15, 0.15, 0.15, 0.15, 0.15, 0.15, 0.15, 0.15, 0.15, 0.15, 0.2, 0.2, 0.2, 0.2, 0.2, 0.2, 0.2, 0.2, 0.2, 0.2, 0.2, 0.2, 0.2, 0.2, 0.2, 0.2], Z=[-0.6, -0.52, -0.43999999999999995, -0.36, -0.27999999999999997, -0.19999999999999996, -0.12, -0.039999999999999925, 0.040000000000000036, 0.12, 0.20000000000000007, 0.28, 0.36, 0.44000000000000006, 0.5200000000000001, 0.6, -0.6, -0.52, -0.43999999999999995, -0.36, -0.27999999999999997, -0.19999999999999996, -0.12, -0.039999999999999925, 0.040000000000000036, 0.12, 0.20000000000000007, 0.28, 0.36, 0.44000000000000006, 0.5200000000000001, 0.6], current=0.0, turns=32, control=True, mirror=False, polarity=[1.0, 1.0]), 1.0)], current=0.0, control=True)\n",
      "passive_0 : Coil(R=1.55, Z=-1.1, current=0.0, turns=1, control=False)\n",
      "passive_1 : Coil(R=1.55, Z=1.1, current=0.0, turns=1, control=False)\n",
      "passive_2 : Coil(R=1.55, Z=-1.2, current=0.0, turns=1, control=False)\n",
      "passive_3 : Coil(R=1.55, Z=1.2, current=0.0, turns=1, control=False)\n",
      "passive_lower_wall : Coil(R=1.1744046208997132, Z=-1.350015135903064, current=0.0, turns=1, control=False)\n",
      "passive_upper_wall : Coil(R=1.1750138139659558, Z=1.3498702216205967, current=0.0, turns=1, control=False)\n",
      "passive_left_wall : Coil(R=0.26250000005114354, Z=-1.8923230106032697e-08, current=0.0, turns=1, control=False)\n",
      "passive_right_wall : Coil(R=2.050000000618475, Z=-3.251449164352272e-08, current=0.0, turns=1, control=False)\n",
      "==========================\n"
     ]
    }
   ],
   "source": [
    "tokamak.printCurrents()"
   ]
  },
  {
   "cell_type": "code",
   "execution_count": null,
   "metadata": {},
   "outputs": [],
   "source": []
  }
 ],
 "metadata": {
  "kernelspec": {
   "display_name": "freegsnke_dynamic",
   "language": "python",
   "name": "python3"
  },
  "language_info": {
   "codemirror_mode": {
    "name": "ipython",
    "version": 3
   },
   "file_extension": ".py",
   "mimetype": "text/x-python",
   "name": "python",
   "nbconvert_exporter": "python",
   "pygments_lexer": "ipython3",
   "version": "3.10.15"
  }
 },
 "nbformat": 4,
 "nbformat_minor": 4
}
