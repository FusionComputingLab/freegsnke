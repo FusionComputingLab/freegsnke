{
 "cells": [
  {
   "cell_type": "markdown",
   "metadata": {},
   "source": [
    "# Example: Machine configuration\n",
    "This notebook describes the process of creating a machine configuration file for use by FreeGSNKE.\n",
    "\n",
    "A machine description in FreeGSNE is comprised of:\n",
    "- active coils (that can have their voltages modulated for controlling the plasma shape and position, among other things).\n",
    "- passive structures (that make up the tokamak vessel, coil cans, support structures etc.)\n",
    "- limiter/wall (that are non-conducting surfaces used to constrain the plasma boundary).\n",
    "\n",
    "In the following, we build up each of these elements into the structures required by FreeGSNKE and save them for later use."
   ]
  },
  {
   "cell_type": "markdown",
   "metadata": {},
   "source": [
    "## Import packages"
   ]
  },
  {
   "cell_type": "code",
   "execution_count": null,
   "metadata": {},
   "outputs": [],
   "source": [
    "import numpy as np\n",
    "import pickle"
   ]
  },
  {
   "cell_type": "markdown",
   "metadata": {},
   "source": [
    "## Active coils\n",
    "First, we define the characteristics that make up the *active coils* in our tokamak. Begin by defining the resistivity of the material that the active coils are made of."
   ]
  },
  {
   "cell_type": "code",
   "execution_count": null,
   "metadata": {},
   "outputs": [],
   "source": [
    "eta_copper = 1.55e-8  # Resistivity in Ohm*m"
   ]
  },
  {
   "cell_type": "markdown",
   "metadata": {},
   "source": [
    "Now we specify the geometry of the coils. The following variables define the locations of five coils named: `P1_lower`, `P1_upper`, `P2_lower`, `P2_upper` and `Pz`. Each coil contains two windings (one upper and one lower).\n",
    "\n",
    "We've also made a shortcut and assumed that `P1_lower` and `P1_upper` have the same radial position and are equally distanced from the midplane in the vertical direction. The same applies to `P2_lower` and `P2_upper`."
   ]
  },
  {
   "cell_type": "code",
   "execution_count": null,
   "metadata": {},
   "outputs": [],
   "source": [
    "# P1_lower and P1_upper windings radial positions\n",
    "P1_r = [0.75, 0.77]\n",
    "\n",
    "# P1_upper windings vertical positions\n",
    "P1_upper_z = [1.1, 1.12]\n",
    "\n",
    "# P1_lower and P1_upper width and height\n",
    "P1_dr = 0.02\n",
    "P1_dz = 0.02\n",
    "\n",
    "# As above, but for the P2_lower and P2_upper coils\n",
    "P2_r = [1.75, 1.77]\n",
    "P2_upper_z = [0.6, 0.62]\n",
    "P2_dr = 0.02\n",
    "P2_dz = 0.02\n",
    "\n",
    "# Finally, the Pz coil\n",
    "Pz_r = [1.75, 1.75]\n",
    "Pz_z = [0.0, 0.0]\n",
    "Pz_dr = 0.02\n",
    "Pz_dz = 0.02"
   ]
  },
  {
   "cell_type": "markdown",
   "metadata": {},
   "source": [
    "Next, we populate a Python dictionary (here called `active_coils_dict`) with these values.\n",
    "\n",
    "Each entry to the dictionary should be another dictionary describing a coil. This dictionary can take one of two forms:  \n",
    "1. one with the keys described below, or\n",
    "2. one with labels corresponding to multiple coils.\n",
    "\n",
    "This format allows for standalone coils or groups of coils to be defined. We first demonstrate the standalone coil `Pz`, then show how `P1_upper` and `P1_lower` can be grouped, and again for `P2_upper` and `P2_lower`.\n",
    "\n",
    "The keys for the coil dictionaries are:\n",
    "- `R`: list of radial positions of windings\n",
    "- `Z`: list of vertical positions of windings\n",
    "- `dR`: width\n",
    "- `dZ`: height\n",
    "- `resistivity`: resistivity in Ohm*m\n",
    "- `polarity`: circuit wiring\n",
    "- `multiplier`: current multiplier (only used for solenoid, see later)\n",
    "\n",
    "First, instatiate the dictionary that will contain all of the coils:"
   ]
  },
  {
   "cell_type": "code",
   "execution_count": null,
   "metadata": {},
   "outputs": [],
   "source": [
    "active_coils_dict = {}"
   ]
  },
  {
   "cell_type": "markdown",
   "metadata": {},
   "source": [
    "Let's  define the standalone Pz coil first."
   ]
  },
  {
   "cell_type": "code",
   "execution_count": null,
   "metadata": {},
   "outputs": [],
   "source": [
    "active_coils_dict[\"Pz\"] = {\n",
    "    \"R\": Pz_r,\n",
    "    \"Z\": Pz_z,\n",
    "    \"dR\": Pz_dr,\n",
    "    \"dZ\": Pz_dz,\n",
    "    \"resistivity\": eta_copper,\n",
    "    \"polarity\": 1,\n",
    "}"
   ]
  },
  {
   "cell_type": "markdown",
   "metadata": {},
   "source": [
    "Now let's define the `P1_upper` and `P1_lower` coils."
   ]
  },
  {
   "cell_type": "code",
   "execution_count": null,
   "metadata": {},
   "outputs": [],
   "source": [
    "# The P1 coil group is instantiated as a dictionary\n",
    "active_coils_dict[\"P1\"] = {}\n",
    "\n",
    "# Populate with the P1_upper coil information\n",
    "active_coils_dict[\"P1\"][\"upper\"] = {\n",
    "    \"R\": P1_r,\n",
    "    \"Z\": P1_upper_z,\n",
    "    \"dR\": P1_dr,\n",
    "    \"dZ\": P1_dz,\n",
    "    \"resistivity\": eta_copper,\n",
    "    \"polarity\": 1,\n",
    "}\n",
    "\n",
    "# Populate with the P1_lower coil information\n",
    "active_coils_dict[\"P1\"][\"lower\"] = {\n",
    "    \"R\": P1_r,\n",
    "    \"Z\": [-1*z for z in P1_upper_z],\n",
    "    \"dR\": P1_dr,\n",
    "    \"dZ\": P1_dz,\n",
    "    \"resistivity\": eta_copper,\n",
    "    \"polarity\": 1,\n",
    "}"
   ]
  },
  {
   "cell_type": "markdown",
   "metadata": {},
   "source": [
    "We follow the same procedure for `P2_upper` and `P2_lower`."
   ]
  },
  {
   "cell_type": "code",
   "execution_count": null,
   "metadata": {},
   "outputs": [],
   "source": [
    "active_coils_dict[\"P2\"] = {}\n",
    "active_coils_dict[\"P2\"][\"upper\"] = {\n",
    "    \"R\": P2_r,\n",
    "    \"Z\": P2_upper_z,\n",
    "    \"dR\": P2_dr,\n",
    "    \"dZ\": P2_dz,\n",
    "    \"resistivity\": eta_copper,\n",
    "    \"polarity\": 1,\n",
    "    \"multiplier\": 1\n",
    "}\n",
    "active_coils_dict[\"P2\"][\"lower\"] = {\n",
    "    \"R\": P2_r,\n",
    "    \"Z\": [-1*z for z in P2_upper_z],\n",
    "    \"dR\": P2_dr,\n",
    "    \"dZ\": P2_dz,\n",
    "    \"resistivity\": eta_copper,\n",
    "    \"polarity\": 1,\n",
    "    \"multiplier\": 1\n",
    "}"
   ]
  },
  {
   "cell_type": "markdown",
   "metadata": {},
   "source": [
    "Lastly for the active coils, we need to define a solenoid."
   ]
  },
  {
   "cell_type": "code",
   "execution_count": null,
   "metadata": {},
   "outputs": [],
   "source": [
    "active_coils_dict[\"Solenoid\"] = {\n",
    "    \"R\": [0.2]*150,\n",
    "    \"Z\": list(np.linspace(-0.8, 0.8, 150)),\n",
    "    \"dR\": 0.012,\n",
    "    \"dZ\": 0.018,\n",
    "    \"polarity\": 1,\n",
    "    \"resistivity\": eta_copper,\n",
    "    \"multiplier\": 1\n",
    "}"
   ]
  },
  {
   "cell_type": "markdown",
   "metadata": {},
   "source": [
    "Now we can save the active coils dictionary for later use by FreeGSNKE."
   ]
  },
  {
   "cell_type": "code",
   "execution_count": null,
   "metadata": {},
   "outputs": [],
   "source": [
    "#with open(\"active_coils.pickle\", \"wb\") as f:\n",
    "#    pickle.dump(test_active_coils, f)"
   ]
  },
  {
   "cell_type": "markdown",
   "metadata": {},
   "source": [
    "## Passive structures\n",
    "*Passive structures* in FreeGSNKE are conducting structures that contain eddy currents induced by the active coils and the plasma. These non-voltage driven currents alter the magnetic field in the device and significantly affect equilibrium calculations. These can include support structures, the vessel, coil cans, etc.\n",
    "\n",
    "FreeGSNKE supports two different kind of passive structures:\n",
    "- toroidal filaments (point sources);\n",
    "- more complex structures (modelled as polygons).\n",
    "\n",
    "The full description of passive structures is provided by the user as a list of dictionaries.\n",
    "\n",
    "An element modelled as a simple filament must include each of the following characteristics:\n",
    "- `R`: Centre in the radial coordinate. \n",
    "- `Z`: Centre in the vertical coordinate.\n",
    "- `dR`: Width.\n",
    "- `dZ`: Height.\n",
    "- `resistivity`: resistivity.\n",
    "- `name`: name of the passive structure, optional.\n",
    "\n",
    "(These filaments are plotted as blue circles in FreeGSNKE where their sizes are proportional to the height/width.)\n",
    "\n",
    "An element describing a polygonal shape must include:\n",
    "- `R`: List or array of radial coordinates for the polygon's vertices.\n",
    "- `Z`: List or array of vertical coordinates for the polygon's vertices.\n",
    "- `resistivity`: resistivity.\n",
    "- `name`: name of the passive structure, optional.\n",
    "- `min_refine_per_area`: number of refinement points per m^2, optional.\n",
    "- `min_refine_per_length`: number of refinement points per m, optional.\n",
    "\n",
    "(These filaments are plotted as polygons in FreeGSNKE with a black outline and grey interior)\n",
    "\n",
    "Note 1: The polygonal-shaped passives are \"refined\" under the hood in FreeGSNKE (see [Pentland et al. (2024)](https://arxiv.org/abs/2407.12432) for a description of this process).\n",
    "\n",
    "Note 2: Passives may also contain other information (recorded under their own keys - that won't affect calculations). \n",
    "\n",
    "In this example, we include both types. The list is named `passive_coils` to emphasise that the passive structures are modelled as coils\n",
    "under the hood."
   ]
  },
  {
   "cell_type": "code",
   "execution_count": null,
   "metadata": {},
   "outputs": [],
   "source": [
    "resistivity_wall = 5.5e-7\n",
    "\n",
    "passive_coils = []\n",
    "\n",
    "# some individual filaments\n",
    "passive_coils.append({\n",
    "    \"R\": 1.5,\n",
    "    \"Z\": -.7,\n",
    "    \"dR\": 0.05,\n",
    "    \"dZ\": 0.05,\n",
    "    \"resistivity\": resistivity_wall\n",
    "})\n",
    "\n",
    "passive_coils.append({\n",
    "    \"R\": 1.5,\n",
    "    \"Z\": .7,\n",
    "    \"dR\": 0.05,\n",
    "    \"dZ\": 0.05,\n",
    "    \"resistivity\": resistivity_wall\n",
    "})\n",
    "\n",
    "# some polygons to be refined\n",
    "passive_coils.append({\n",
    "    \"R\": [.3,2.1,2.1,.3],\n",
    "    \"Z\": [-1,-1,-1.05,-1.05],\n",
    "    \"n_refine\": 100,\n",
    "    \"name\": 'lower_wall',\n",
    "    \"resistivity\": resistivity_wall\n",
    "})\n",
    "\n",
    "passive_coils.append({\n",
    "    \"R\": [.3,2.1,2.1,.3],\n",
    "    \"Z\": [1,1,1.05,1.05],\n",
    "    \"name\": 'upper_wall',\n",
    "    \"resistivity\": resistivity_wall\n",
    "})\n",
    "\n",
    "passive_coils.append({\n",
    "    \"R\": [.3,.325,.325,.3],\n",
    "    \"Z\": [-1.05,-1.05,1,1],\n",
    "    \"name\": 'left_wall',\n",
    "    \"resistivity\": resistivity_wall\n",
    "})\n",
    "\n",
    "passive_coils.append({\n",
    "    \"R\": [2,2.1,2.1,2],\n",
    "    \"Z\": [-1.05,-1.05,1,1],\n",
    "    \"name\": 'right_wall',\n",
    "    \"resistivity\": resistivity_wall\n",
    "})"
   ]
  },
  {
   "cell_type": "markdown",
   "metadata": {},
   "source": [
    "Save the passive structures to a pickle."
   ]
  },
  {
   "cell_type": "code",
   "execution_count": null,
   "metadata": {},
   "outputs": [],
   "source": [
    "#with open(\"passive_coils.pickle\", \"wb\") as f:\n",
    "#    pickle.dump(test_passive_coils, f)"
   ]
  },
  {
   "cell_type": "markdown",
   "metadata": {},
   "source": [
    "## Limiter\n",
    "A *limiter* in FreeGSNKE is a synthetic boundary that is used in various routines. To define a limiter, simply specify points along its boundary. FreeGSNKE will connect these points to identify the region where the plasma is allowed to be. \n",
    "\n",
    "For diverted plasmas, the limiter has no effect on the equilibrium or their evolution. For limiter plasmas, the last closed flux surface is tangent to the limiter. FreeGSNKE will also force the last closed flux surface to lie entirely inside the region allowed by the limiter. In other words, outside the limiter, the constraint $J=0$ on the plasma current density is enforced. \n",
    "\n",
    "The format of the limiter coordinates for FreeGSNKE is a simple list of dictionaries with `R` and `Z` coordinates."
   ]
  },
  {
   "cell_type": "code",
   "execution_count": null,
   "metadata": {},
   "outputs": [],
   "source": [
    "r_limiter = [0.325,  0.325, 1.625, 1.625 ]\n",
    "z_limiter = [-0.975, 0.975, 0.975, -0.975]\n",
    "\n",
    "limiter = []\n",
    "for r, z in zip(r_limiter, z_limiter):\n",
    "    limiter.append({\"R\": r, \"Z\": z})"
   ]
  },
  {
   "cell_type": "markdown",
   "metadata": {},
   "source": [
    "Save as a pickle file for FreeGSNKE to access later."
   ]
  },
  {
   "cell_type": "code",
   "execution_count": null,
   "metadata": {},
   "outputs": [],
   "source": [
    "#with open (\"limiter.pickle\", \"wb\") as f:\n",
    "#    pickle.dump(test_limiter, f)"
   ]
  },
  {
   "cell_type": "markdown",
   "metadata": {},
   "source": [
    "## Wall\n",
    "A *wall* in FreeGSNKE is very similar to a limiter. However, there is no $J=0$\n",
    "constraint enforced outside the wall. The wall is used in plotting routines and\n",
    "can be used to calculate useful quantities like divertor strike point location.\n",
    "\n",
    "In general, a wall and limiter in FreeGSNKE can be defined to be different\n",
    "contours. For example, a tokamak with a divertor would have the wall following\n",
    "the contour of the divertor, while the limiter might cut across the divertor\n",
    "entrance. In our example, the wall and limiter are the same."
   ]
  },
  {
   "cell_type": "code",
   "execution_count": null,
   "metadata": {},
   "outputs": [],
   "source": [
    "wall = limiter\n",
    "#with open(\"wall.pickle\", \"wb\") as f:\n",
    "#    pickle.dump(test_wall, f)"
   ]
  },
  {
   "cell_type": "markdown",
   "metadata": {},
   "source": [
    "## Magnetic Probes \n",
    "\n",
    "There are a variety of magnetic probes in the machine that measure various components of the magnetic field and or the flux function. The description of these is contained in a dictionary we'll call `magnetic_probes` which has the probe type as a key and then a list of smaller dictionaries for each individual probe. Currently the *flux loops* and *pickup coils* are implemented (others may be implemented at a later date).\n",
    "- The flux loops compute the flux function $\\psi(R,Z)$. The dictionary description contains the `name` and the `position` of the probe which is a 2D array with $R$ and $Z$ coordinates. \n",
    "- The pickup coils compute $B\\cdot \\hat n$ where $\\hat n$ is a unit orientation vector of the probe. They are described by dictionaries containing the `name` as before, the `position` which is now a 3D array of coordinates $(R,\\phi,Z)$, an `orientation` key with a string description of the orientation (parallel, toroidal, normal), and finally an `orientation_vector` $\\hat n$. This is also a 3D array - it must be the same dimension as the position. \n",
    "\n",
    "For example, taking the first two probes of each type we would have the following dictionary structure."
   ]
  },
  {
   "cell_type": "code",
   "execution_count": null,
   "metadata": {},
   "outputs": [],
   "source": [
    "# create list of flux loop dictionaries\n",
    "flux_loops = []\n",
    "flux_loops.append({'name': 'fl_nu_01', 'position': np.array([0.901 , 1.3582])})\n",
    "flux_loops.append({'name': 'fl_nu_02', 'position':np.array([0.9544   , 1.3041999])})\n",
    "\n",
    "# create list of pickup coil dictionaries\n",
    "pickup_coils = []\n",
    "pickup_coils.append({'name': 'b_c1_p01', 'position': np.array([2.76900e-01, 3.00000e+02, 1.26203e+00]), 'orientation': 'PARALLEL', 'orientation_vector': np.array([0., 0., 1.])}\n",
    ")\n",
    "pickup_coils.append({'name': 'b_c1_t02', 'position': np.array([2.7689108e-01, 2.9999680e+02, 1.2245095e+00]), 'orientation': 'TOROIDAL', 'orientation_vector': np.array([0., 1., 0.])}\n",
    ")\n",
    "\n",
    "# create magnetic probes dictionary\n",
    "magnetic_probes = {'flux_loops': flux_loops, 'pickups': pickup_coils}\n",
    "\n",
    "# save as pickle file\n",
    "#with open(\"magnetic_probes.pickle\", \"wb\") as f:\n",
    "#    pickle.dump(test_magnetic_probes, f)"
   ]
  },
  {
   "cell_type": "markdown",
   "metadata": {},
   "source": [
    "## Visualising the machine\n",
    "Now we'll plot the components of the machine to visualise its configuration.\n",
    "\n",
    "Note that the equilibrium class has convenient plotting methods, but we don't\n",
    "use those here as we aren't concerned with creating an equilibrium."
   ]
  },
  {
   "cell_type": "code",
   "execution_count": null,
   "metadata": {},
   "outputs": [],
   "source": [
    "import matplotlib.pyplot as plt\n",
    "from matplotlib.patches import Polygon,Rectangle"
   ]
  },
  {
   "cell_type": "code",
   "execution_count": null,
   "metadata": {},
   "outputs": [],
   "source": [
    "fig, ax = plt.subplots(figsize=(4, 8), dpi=80)\n",
    "\n",
    "# Active coils\n",
    "def plot_active_coil(ax, coil, label=None):\n",
    "    ax.plot(coil[\"R\"], coil[\"Z\"], c=\"blue\", marker=\"s\", ls=\"\", label=label)\n",
    "\n",
    "\n",
    "for coil in [\"P1\", \"P2\"]:\n",
    "    plot_active_coil(ax, active_coils_dict[coil][\"upper\"])\n",
    "    plot_active_coil(ax, active_coils_dict[coil][\"lower\"])\n",
    "plot_active_coil(ax, active_coils_dict[\"Pz\"])\n",
    "plot_active_coil(ax, active_coils_dict[\"Solenoid\"], label='Active coils')\n",
    "\n",
    "\n",
    "# Passive structure\n",
    "for i, p in enumerate(passive_coils):\n",
    "    if np.size(p['R'])>1:\n",
    "        rect = Polygon(np.concatenate((np.array(p['R'])[:,np.newaxis], \n",
    "                                       np.array(p['Z'])[:,np.newaxis]), axis=1), color='grey',\n",
    "        label='Passive structures' if i==0 else None\n",
    "        )\n",
    "    else:\n",
    "        rect = Rectangle(\n",
    "            (p[\"R\"]-0.5*p[\"dR\"], p[\"Z\"]-0.5*p[\"dZ\"]),\n",
    "            p[\"dR\"],\n",
    "            p[\"dZ\"], color='grey',\n",
    "            label='Passive structures' if i==0 else None\n",
    "        )\n",
    "    ax.add_patch(rect)\n",
    "\n",
    "# Limiter\n",
    "ax.plot(\n",
    "    [l[\"R\"] for l in limiter] + [limiter[0][\"R\"]],\n",
    "    [l[\"Z\"] for l in limiter] + [limiter[0][\"Z\"]],\n",
    "    c='k',\n",
    "    ls='--',\n",
    "    label='Wall and limiter'\n",
    ")\n",
    "\n",
    "ax.set_xlabel(r'Major radius [$m$]')\n",
    "ax.set_ylabel(r'Height [$m$]')\n",
    "ax.legend(loc='upper right')\n",
    "plt.tight_layout()  # adjust subplots to fit into the figure area without overlapping\n",
    "plt.show()"
   ]
  },
  {
   "cell_type": "markdown",
   "metadata": {},
   "source": [
    "## Optional initialization equilibrium\n",
    "\n",
    "It can be convenient to use a reference equilibrium that is representative for the machine that is being used. This may reduce computation times when seeking new Grad-Shafranov solutions.\n",
    "\n",
    "It is therefore possible to provide an initial equilibrium as part of the machine description. If this is done, the provided information (values for a set of coil currents and for the plasma flux function) will be used when initializing new equilibria.\n",
    "\n",
    "This information should be provided in the form of a dictionary. The code below illustrates the structure of such dictionary. \n",
    "In this case, we are assuming the equilibrium being saved is relevant to MAST-U.\n",
    "Here `eq` is the reference equilibrium itself, which is assumed to be a solution of the GS equation. Please see Example_1 for more details on equilibrium objects and how to make sure they are GS solutions. "
   ]
  },
  {
   "cell_type": "markdown",
   "metadata": {},
   "source": [
    "```python\n",
    "dictionary = {}\n",
    "dictionary['coil_currents'] = eq.tokamak.getCurrents()\n",
    "dictionary['plasma_psi'] = eq.plasma_psi\n",
    "\n",
    "# save equilibrium info to file\n",
    "import pickle\n",
    "with open(\n",
    "    'simple_initilization_equilibrium.pickle', 'wb') as f:\n",
    "    pickle.dump(obj=dictionary, file=f)\n",
    "```"
   ]
  },
  {
   "cell_type": "code",
   "execution_count": null,
   "metadata": {},
   "outputs": [],
   "source": []
  }
 ],
 "metadata": {
  "kernelspec": {
   "display_name": "Python 3 (ipykernel)",
   "language": "python",
   "name": "python3"
  },
  "language_info": {
   "codemirror_mode": {
    "name": "ipython",
    "version": 3
   },
   "file_extension": ".py",
   "mimetype": "text/x-python",
   "name": "python",
   "nbconvert_exporter": "python",
   "pygments_lexer": "ipython3",
   "version": "3.11.5"
  }
 },
 "nbformat": 4,
 "nbformat_minor": 4
}
