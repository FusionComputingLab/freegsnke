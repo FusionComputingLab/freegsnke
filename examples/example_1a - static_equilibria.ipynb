{
 "cells": [
  {
   "cell_type": "markdown",
   "metadata": {},
   "source": [
    "# Example: Static equilibrium calculations\n",
    "\n",
    "## Inverse and forward Grad-Shafranov solvers\n",
    "This example notebook shows how to use FreeGSNKE to solve static Grad-Shafranov (GS) problems. Examples are provided for both inverse and forward solve modes. \n",
    "\n",
    "By inverse solve mode, we refer to the case in which we seek a set of coil currents such that a user-specified magnetic configuration (i.e. some constraints on the plasma) is satisfied.\n",
    "\n",
    "By forward solve mode, we refer to the case in which the coil currents and profile parameterisation are chosen by the user and the Grad-Shafranov equation is solved for the equilibrium. \n",
    "\n",
    "Below, we illustrate how to use the solvers for both diverted and limited plasma configurations in a **MAST-U-like tokamak** using stored pickle files containing the machine description. These machine description files come from the FreeGS repository."
   ]
  },
  {
   "cell_type": "markdown",
   "metadata": {},
   "source": [
    "## Import packages"
   ]
  },
  {
   "cell_type": "code",
   "execution_count": null,
   "metadata": {},
   "outputs": [],
   "source": [
    "import os\n",
    "import matplotlib.pyplot as plt\n",
    "import freegs4e\n",
    "import numpy as np"
   ]
  },
  {
   "cell_type": "markdown",
   "metadata": {},
   "source": [
    "## Create the machine object\n",
    "\n",
    "First, we build the machine object. This is done using the pickle files saved in the \"machine_configs/MAST-U\" directory. \n",
    "\n",
    "FreeGSNKE requires the following envirnoment variables in order to build the machine: ACTIVE_COILS_PATH, PASSIVE_COILS_PATH, WALL_PATH, LIMITER_PATH, PROBE_PATH (not required here)."
   ]
  },
  {
   "cell_type": "code",
   "execution_count": null,
   "metadata": {},
   "outputs": [],
   "source": [
    "# set paths\n",
    "os.environ[\"ACTIVE_COILS_PATH\"] = f\"../machine_configs/MAST-U/MAST-U_like_active_coils.pickle\"\n",
    "os.environ[\"PASSIVE_COILS_PATH\"] = f\"../machine_configs/MAST-U/MAST-U_like_passive_coils.pickle\"\n",
    "os.environ[\"WALL_PATH\"] = f\"../machine_configs/MAST-U/MAST-U_like_wall.pickle\"\n",
    "os.environ[\"LIMITER_PATH\"] = f\"../machine_configs/MAST-U/MAST-U_like_limiter.pickle\""
   ]
  },
  {
   "cell_type": "code",
   "execution_count": null,
   "metadata": {},
   "outputs": [],
   "source": [
    "# Now the machine can actually be built:\n",
    "from freegsnke import build_machine\n",
    "tokamak = build_machine.tokamak()"
   ]
  },
  {
   "cell_type": "markdown",
   "metadata": {},
   "source": [
    "## Instantiate an equilibrium\n",
    "\n",
    "We are now ready to build a plasma equilibrium in the tokamak object. This is done using the `freegs4e.Equilibrium` class, which implicitly defines the rectangular domain of the solver as well as the grid resolution.\n",
    "\n",
    "`Equilibrium` has sensible defaults, but it is recommended to define the radial and vertical domain of the grid using the `Rmin`, `Rmax`, `Zmin` and `Zmax` parameters, as well as the grid resolution in the radial and vertical directions with the `nx` and `ny` parameters.\n",
    "\n",
    "A tokamak object should be supplied to the `tokamak` parameter to assign the desired machine to the equilibrium.\n",
    "\n",
    "If available, an initial plasma flux function can be provided to the `psi` parameter (commented out in the following code)."
   ]
  },
  {
   "cell_type": "code",
   "execution_count": null,
   "metadata": {},
   "outputs": [],
   "source": [
    "from freegsnke import equilibrium_update\n",
    "\n",
    "eq = equilibrium_update.Equilibrium(\n",
    "    tokamak=tokamak,\n",
    "    Rmin=0.1, Rmax=2.0,   # Radial range\n",
    "    Zmin=-2.2, Zmax=2.2,  # Vertical range\n",
    "    nx=65,                # Number of grid points in the radial direction (needs to be of the form (2**n + 1) with n being an integer)\n",
    "    ny=129,               # Number of grid points in the vertical direction (needs to be of the form (2**n + 1) with n being an integer)\n",
    "    # psi=plasma_psi\n",
    ")  "
   ]
  },
  {
   "cell_type": "markdown",
   "metadata": {},
   "source": [
    "## Instantiate a profile object\n",
    "\n",
    "We can now instatiate a profile object that contains the chosen parameterisation of the toroidal plasma current density (i.e. the right hand side of the GS equation). We can then set the paramters for the chosen current density profile(s). \n",
    "\n",
    "A number of different profile parameterisations exist in FreeGSNKE (FreeGS4E) at the moment (more will be added in the future). \n",
    "\n",
    "Currently available are:\n",
    "- `ConstrainPaxisIp` or `ConstrainBetapIp` -- (see [Jeon (2015)](https://link.springer.com/article/10.3938/jkps.67.843))\n",
    "    - Parameterised as:\n",
    " $$J_{p}(\\psi, R, Z) = \\lambda\\big[ \\beta_{0} \\frac{R}{R_{0}} \\left( 1-\\psi_{n}^{\\alpha_m} \\right)^{\\alpha_n} + (1-\\beta_{0}) \\frac{R_0}{R} \\left( 1-\\psi_{n}^{\\alpha_m} \\right)^{\\alpha_n} \\big], $$\n",
    "where the first term is the pressure profile and the second is the toroidal current profile.\n",
    "    - Required parameters are `Ip` (total plasma current), `fvac` ($rB_{tor}$, vacuum toroidal field strength), `alpha_m`>0, and `alpha_n`>0 (that define the shape/peakedness of the profiles).\n",
    "    - If `ConstrainPaxisIp` used then `paxis` (pressure on the magnetic axis) is required.\n",
    "    - If `ConstrainBetapIp` used then `betap` (proxy of the poloidal beta) is required.\n",
    "    - The values of $\\lambda$ and $\\beta_0$ are found using the above parameters as constraints ($R_0$ is a fixed scaling constant).\n",
    "\n",
    "- `Topeol` -- (see equation 13 in L. L. Lao et al (1985) Nucl. Fusion 25 1611)\n",
    "    - Parameterised exactly the same way as above except this time we can specify $\\beta_0$ directly. \n",
    "    - As above, the required parameters are `beta0`, `Ip` (total plasma current), `fvac` ($rB_{tor}$,  vacuum toroidal field strength), `alpha_m`>0, and `alpha_n`>0 (that define the shape/peakedness of the profiles).\n",
    "       \n",
    "- `Lao85` -- (see equations 4 and 5 in L. L. Lao et al (1985) Nucl. Fusion 25 1611)\n",
    "    - Parameterised as:\n",
    " $$J_{p}(\\psi, R, Z) = \\lambda\\big[ \\frac{R}{R_{0}} p'(\\psi_n) + \\frac{R_0}{R} \\frac{1}{\\mu_0} F F'(\\psi_n) \\big], $$\n",
    "where the pressure and toroidal current profiles are given by\n",
    "$$ p'(\\psi_n) = \\sum_{i=0}^{n_p} \\alpha_i \\psi_n^i - \\hat{\\alpha} \\psi_n^{n_p + 1} \\sum_{i=0}^{n_p} \\alpha_i$$\n",
    "and\n",
    "$$ F F'(\\psi_n) = \\sum_{i=0}^{n_F} \\beta_i \\psi_n^i - \\hat{\\beta} \\psi_n^{n_F + 1} \\sum_{i=0}^{n_F} \\beta_i.$$ \n",
    "    - Required parameters are `Ip` (total plasma current), `fvac` ($rB_{tor}$,  vacuum toroidal field strength), `alpha` (array of alpha coefficients), `beta` (array of beta coefficients), `alpha_logic`, and `beta_logic` (Booleans that correspond to $\\hat{\\alpha}$ and $\\hat{\\beta}$ above, sets boundary condition for plasma current at plasma boundary).\n",
    "    - The value of $\\lambda$ is found using the above parameters as constraints (the magnetic permeability $\\mu_0$ is defined in FreeGSNKE).\n",
    "\n",
    "Note: $\\psi_n$ denotes the normalised flux. \n",
    "\n",
    "We will use the `ConstrainPaxisIp` option here (the others are specfied as examples - may not work with the given parameters).\n",
    "\n",
    "Equilibrium (`eq`) and limiter (`tokamak.limiter`) objects are passed to the profile to inform calculations relating to the limiter."
   ]
  },
  {
   "cell_type": "code",
   "execution_count": null,
   "metadata": {},
   "outputs": [],
   "source": [
    "# initialise the profiles\n",
    "from freegsnke.jtor_update import ConstrainPaxisIp\n",
    "profiles = ConstrainPaxisIp(\n",
    "    eq=eq,        # equilibrium object\n",
    "    paxis=8e3,    # profile object\n",
    "    Ip=6e5,       # plasma current\n",
    "    fvac=0.5,     # fvac = rB_{tor}\n",
    "    alpha_m=1.8,  # profile function parameter\n",
    "    alpha_n=1.2   # profile function parameter\n",
    ")"
   ]
  },
  {
   "cell_type": "markdown",
   "metadata": {},
   "source": [
    "#### Other profiles\n",
    "As promised, here are some examples of the other profiles available.\n",
    "\n",
    "```python\n",
    "from freegsnke.jtor_update import ConstrainBetapIp\n",
    "profiles = ConstrainBetapIp(\n",
    "    eq=eq,\n",
    "    limiter=tokamak.limiter,\n",
    "    betap=0.05,\n",
    "    Ip=6.2e5,\n",
    "    fvac=0.5,\n",
    "    alpha_m=1.8,\n",
    "    alpha_n=1.2\n",
    ")\n",
    "```\n",
    "\n",
    "```python\n",
    "from freegsnke.jtor_update import Fiesta_Topeol\n",
    "profiles = Fiesta_Topeol(\n",
    "    eq=eq,\n",
    "    limiter=tokamak.limiter,\n",
    "    Beta0=0.3665,\n",
    "    Ip=6e5,\n",
    "    fvac=0.5,\n",
    "    alpha_m=2,\n",
    "    alpha_n=1\n",
    ")\n",
    "```\n",
    "\n",
    "```python\n",
    "from freegsnke.jtor_update import Lao85\n",
    "profiles = Lao85(\n",
    "    eq=eq,                                   # equilibrium object\n",
    "    limiter=tokamak.limiter,                 # plasma limiter\n",
    "    Ip= _,                                   # total plasma current\n",
    "    fvac= _,                                 # f vacuum parameter (R*Bt)\n",
    "    alpha= _,                                # p' profile coefficients (array)\n",
    "    beta= _,                                 # ff' profile coefficients (array)\n",
    "    alpha_logic= _,                          # logic parameters from above (True or False)\n",
    "    beta_logic= _,\n",
    ")\n",
    "```\n",
    "\n",
    "Note: If you had a Topeol profile with a chosen set of parameters you can use the following fitting function to identify which Lao85 are required to generate the same Topeol profile. \n",
    "\n",
    "For example, you can use (where n_alpha and n_beta are orders of the polynomials you wish to fit and alpha_logic/beta_logic are say whether to set the boundary profile values to zero or not):\n",
    "```python\n",
    "alpha, beta = profiles_Topeol.Lao_parameters(n_alpha=2, n_beta=2, alpha_logic=True, beta_logic=True)\n",
    "```"
   ]
  },
  {
   "cell_type": "markdown",
   "metadata": {},
   "source": [
    "## Load the static nonlinear solver\n",
    "\n",
    "We can now load FreeGSNKE's Grad-Shafranov static solver. The equilibrium is used to inform the solver of the computational domain and of the tokamak properties.\n",
    "The solver below can be used for both inverse and forward solve modes, as exemplified below.\n",
    "\n",
    "Note: It's not necessary to instantiate a new solver when aiming to use it on new or different equilibria, as long as the integration domain, mesh grid and tokamak are identical. "
   ]
  },
  {
   "cell_type": "code",
   "execution_count": null,
   "metadata": {},
   "outputs": [],
   "source": [
    "from freegsnke import GSstaticsolver\n",
    "GSStaticSolver = GSstaticsolver.NKGSsolver(eq)    "
   ]
  },
  {
   "cell_type": "markdown",
   "metadata": {},
   "source": [
    "## Example 1: the inverse solver\n",
    "\n",
    "We start with an _inverse_ solve in which we use a `constrain` object to set the user-specified magnetic constraints.\n",
    "\n",
    "FreeGSNKE uses FreeGS4E's `constrain` object, which accepts both constraints on the location of the X-points (`xpoints`) and constraints on the geometry of the last closed closed flux surface (`isoflux`).\n",
    "\n",
    "During an inverse solve, the desired magnetic configuration described by the constrain object is used to seek a suitable set of coil currents that satisfy the chosen configuration. Both the coil currents and the total flux $\\psi(R,Z)$ are _outputs_ (among other quantities of interest).\n",
    "\n",
    "Here, we specify a few constraints on the X-point position(s) and on some _isoflux_ points where $\\psi(R,Z)$ should be the same."
   ]
  },
  {
   "cell_type": "code",
   "execution_count": null,
   "metadata": {},
   "outputs": [],
   "source": [
    "import freegs4e\n",
    "\n",
    "# set X-point locations\n",
    "Rx = 0.6\n",
    "Zx = 1.1\n",
    "xpoints = [(Rx, -Zx),   \n",
    "           (Rx,  Zx)]\n",
    "\n",
    "# Set any desired isoflux constraints with format (R1, Z1, R2, Z2), where (R1, Z1) and (R2, Z2) are \n",
    "# desired to be on the same flux contour.\n",
    "Rmid = 1.4    # Outboard midplane radius\n",
    "Rin = 0.35    # Inboard midplane radius\n",
    "isoflux = [(Rx,Zx, Rx,-Zx),     # link X-points\n",
    "           (Rmid, 0, Rin, 0.0), # link inner and outer midplane points\n",
    "           (Rmid, 0, Rx, Zx),   # link outer midplane point and X-point\n",
    "\n",
    "        #   some additional constraints\n",
    "           (Rmid,0, 1.2,.7),\n",
    "           (Rmid,0, 1.2,-.7),\n",
    "           (Rx, Zx, .85, 1.7),\n",
    "           (Rx, Zx, .75, 1.6),\n",
    "           (Rx, Zx, Rin, 0.2),\n",
    "           (Rx, Zx, Rin, 0.1),\n",
    "           (Rx,-Zx, Rin, -0.1),\n",
    "           (Rx,-Zx, Rin, -0.2),\n",
    "           (Rx,-Zx, .85, -1.7),\n",
    "           (Rx,-Zx, .75, -1.6),\n",
    "           (Rx,-Zx, 0.45, -1.8),\n",
    "           (Rx, Zx, 0.45,  1.8),\n",
    "           ]\n",
    "           \n",
    "# instantiate the constrain object\n",
    "constrain = freegs4e.control.constrain(xpoints=xpoints,\n",
    "                                         isoflux=isoflux,\n",
    "                                         gamma=5e-7\n",
    "                                         )"
   ]
  },
  {
   "cell_type": "markdown",
   "metadata": {},
   "source": [
    "Since inverse problems are often underconstrained, we also specify the quadratic regularization parameter `gamma` (Tikhonov regularization in the quadratic least squares problem). Higher values of `gamma` encourage lower absolute coil current values. It is sometimes useful to experiment with different values of `gamma` to explore whether the converged solution departs from the desired constraints. "
   ]
  },
  {
   "cell_type": "markdown",
   "metadata": {},
   "source": [
    "It is also possible to fix specific coil current values for individual coils as part of the inverse solve and toggle them on or off. This means that the inverse solve procedure will not be allowed to vary those current values (if 'control' is set to 'False').\n",
    "\n",
    "Note: passive coils are automatically toggled off during an inverse solve."
   ]
  },
  {
   "cell_type": "markdown",
   "metadata": {},
   "source": [
    "Coil current values set as part of the equilibrium can be accessed using\n",
    "```python \n",
    "eq.tokamak['coil_name'].current\n",
    "```\n",
    "For example, \n",
    "```python \n",
    "eq.tokamak['P6'].current\n",
    "```\n",
    "should return the current in coil 'P6' (which is zero at the moment as no currents have been assigned to the 'eq.tokamak' object since it was initialised).\n",
    "\n",
    "As an example, we will fix the `Solenoid` current to 5000 Amps and seek a solution in which this value is fixed, rather than optimised by the inverse solve."
   ]
  },
  {
   "cell_type": "code",
   "execution_count": null,
   "metadata": {},
   "outputs": [],
   "source": [
    "eq.tokamak['Solenoid'].current = 5000\n",
    "eq.tokamak['Solenoid'].control = False  # ensures the current in the Solenoid is fixed"
   ]
  },
  {
   "cell_type": "markdown",
   "metadata": {},
   "source": [
    "The following is the 'solve' call itself. Since a constrain object is provided, this is interpreted as an _inverse_ call and executed as such. The 'target_relative_tolerance' is the maximum relative error on the plasma flux function allowed for convergence. "
   ]
  },
  {
   "cell_type": "code",
   "execution_count": null,
   "metadata": {},
   "outputs": [],
   "source": [
    "GSStaticSolver.solve(eq=eq, \n",
    "                     profiles=profiles, \n",
    "                     constrain=constrain, \n",
    "                     target_relative_tolerance=1e-3)"
   ]
  },
  {
   "cell_type": "markdown",
   "metadata": {},
   "source": [
    "The following plots show how to display:\n",
    "1. the tokamak with:\n",
    "   - active coil filaments (rectangles with blue interior)\n",
    "   - passive structures (blue circles if defined as filaments or thin black outline/grey interior if defined as parallelograms)\n",
    "   - limiter/wall (solid black)\n",
    "2. the tokamak + the equilibrium with:\n",
    "   - separatrix/last closed flux surface (solid red lines)\n",
    "   - poloidal flux (yellow/green/blue contours, colours indicates magnitude)\n",
    "   - X-points (red circles)\n",
    "   - O-points (green crosses)\n",
    "3. the tokamak + the equilibrum + the contraints with:\n",
    "   - X-point constraints (blue crosses)\n",
    "   - isoflux contour constraints (blue triangles, with dashed blue lines)\n",
    "\n",
    "Note: Setting 'show=True' can toggle the legend on/off."
   ]
  },
  {
   "cell_type": "code",
   "execution_count": null,
   "metadata": {},
   "outputs": [],
   "source": [
    "fig1, (ax1, ax2, ax3) = plt.subplots(1, 3, figsize=(12, 8), dpi=80)\n",
    "\n",
    "ax1.grid(zorder=0, alpha=0.75)\n",
    "ax1.set_aspect('equal')\n",
    "eq.tokamak.plot(axis=ax1,show=False)                                                          # plots the active coils and passive structures\n",
    "ax1.fill(tokamak.wall.R, tokamak.wall.Z, color='k', linewidth=1.2, facecolor='w', zorder=0)   # plots the limiter\n",
    "ax1.set_xlim(0.1, 2.15)\n",
    "ax1.set_ylim(-2.25, 2.25)\n",
    "\n",
    "ax2.grid(zorder=0, alpha=0.75)\n",
    "ax2.set_aspect('equal')\n",
    "eq.tokamak.plot(axis=ax2,show=False)                                                          # plots the active coils and passive structures\n",
    "ax2.fill(tokamak.wall.R, tokamak.wall.Z, color='k', linewidth=1.2, facecolor='w', zorder=0)   # plots the limiter\n",
    "eq.plot(axis=ax2,show=False)                                                                  # plots the equilibrium\n",
    "ax2.set_xlim(0.1, 2.15)\n",
    "ax2.set_ylim(-2.25, 2.25)\n",
    "\n",
    "\n",
    "ax3.grid(zorder=0, alpha=0.75)\n",
    "ax3.set_aspect('equal')\n",
    "eq.tokamak.plot(axis=ax3,show=False)                                                          # plots the active coils and passive structures\n",
    "ax3.fill(tokamak.wall.R, tokamak.wall.Z, color='k', linewidth=1.2, facecolor='w', zorder=0)   # plots the limiter\n",
    "eq.plot(axis=ax3,show=False)                                                                  # plots the equilibrium\n",
    "constrain.plot(axis=ax3, show=False)                                                          # plots the contraints\n",
    "ax3.set_xlim(0.1, 2.15)\n",
    "ax3.set_ylim(-2.25, 2.25)\n",
    "\n",
    "plt.tight_layout()"
   ]
  },
  {
   "cell_type": "markdown",
   "metadata": {},
   "source": [
    "A solve call will modify the equilibrium object in place. That means that certain quantities within the object will be updated as a result of the solve. \n",
    "\n",
    "Various different quantities and functions can be accessed via the 'eq' and 'profile' objects. For example:\n",
    "- the total flux can be accessed with `eq.psi()`.\n",
    "- the plasma flux with `eq.plasma_psi`.\n",
    "- the active coil + passive structure flux with `eq.tokamak.psi(eq.R, eq.Z)`.\n",
    "- (Total flux = plasma flux + coil flux)\n",
    "\n",
    "Explore `eq.` to see more (also `profiles.`, e.g. the plasma current distribution over the domain can be found with `profiles.jtor`).\n",
    "\n",
    "The set of optimised coil currents can be retrieved using `eq.tokamak.getCurrents()` having been assigned to the equilibrium object during the inverse solve.\n",
    "\n",
    "The following lines will save the calculated currents to a pickle file. "
   ]
  },
  {
   "cell_type": "code",
   "execution_count": null,
   "metadata": {},
   "outputs": [],
   "source": [
    "inverse_current_values = eq.tokamak.getCurrents()\n",
    "\n",
    "# save coil currents to file\n",
    "import pickle\n",
    "with open('simple_diverted_currents_PaxisIp.pk', 'wb') as f:\n",
    "    pickle.dump(obj=inverse_current_values, file=f)"
   ]
  },
  {
   "cell_type": "markdown",
   "metadata": {},
   "source": [
    "### Example 2: the forward solver\n",
    "\n",
    "As mentioned before, during a forward solve, we use fixed coil currents (as well as given profile functions/parameters) as inputs to solve for the equilibrium. \n",
    "\n",
    "To do this, we can use the set of currents we just identified during the inverse solve above. \n",
    "\n",
    "First, we instatiate a new equilibrium object and assign current values to the active coils in the tokamak (note that the passive structure currents are zero here)."
   ]
  },
  {
   "cell_type": "code",
   "execution_count": null,
   "metadata": {},
   "outputs": [],
   "source": [
    "# new equilibrium object\n",
    "eq_forward = equilibrium_update.Equilibrium(\n",
    "    tokamak=tokamak,\n",
    "    Rmin=0.1, Rmax=2.0,   # Radial range\n",
    "    Zmin=-2.2, Zmax=2.2,  # Vertical range\n",
    "    nx=65,                # Number of grid points in the radial direction (needs to be of the form (2**n + 1) with n being an integer)\n",
    "    ny=129,               # Number of grid points in the vertical direction (needs to be of the form (2**n + 1) with n being an integer)\n",
    "    # psi=plasma_psi\n",
    ")  \n",
    "\n",
    "# assign currents to the object\n",
    "for key in inverse_current_values.keys():\n",
    "    eq_forward.tokamak[key].current = inverse_current_values[key]"
   ]
  },
  {
   "cell_type": "markdown",
   "metadata": {},
   "source": [
    "The syntax of a _forward_ solve is identical to that of an inverse call (i.e. calling `GSStaticSolver.solve()`), however the nonlinear solver is **not** provided with a `constrain` object (i.e. we set `constrain=None`). \n",
    "\n",
    "Therefore, coil current values are not modified during the solve but instead the solver uses them as inputs to calculate the equilibrium. \n",
    "\n",
    "The forward nonlinear static solver in FreeGSNKE uses a Newton-Krylov implementation (the inverse solver use Picard iterations), which allows considerably more restrictive tolerance requests when compared to inverse solves. "
   ]
  },
  {
   "cell_type": "code",
   "execution_count": null,
   "metadata": {},
   "outputs": [],
   "source": [
    "# call the solver\n",
    "GSStaticSolver.solve(eq=eq_forward, \n",
    "                     profiles=profiles, \n",
    "                     constrain=None, \n",
    "                     target_relative_tolerance=1e-9)"
   ]
  },
  {
   "cell_type": "markdown",
   "metadata": {},
   "source": [
    "What we have done here is improve on the equilibrium found during the inverse solve by taking the coil currents (found during the inverse solve) and the same profile parameters and feeding them into the forward solver. \n",
    "\n",
    "We do this because it is often difficult to achieve low relative tolerances in _inverse_ solve calls (for example, the above was set at a loose target_relative_tolerance=1e-3) and so the strategy of using a forward solve after an inverse one is useful to obtain better (more converged) equilibria at stricter tolerances.\n",
    "\n",
    "As an additional example, below we manually vary some of the coil currents, perform new forward solves and compare the resulting equilibria.\n",
    "Note that the manual current changes cause one of the equilibria to transition from a diverted to a limiter configuration (this is handled through FreeGS4E)."
   ]
  },
  {
   "cell_type": "code",
   "execution_count": null,
   "metadata": {},
   "outputs": [],
   "source": [
    "from copy import deepcopy\n",
    "\n",
    "# copy the original eq object (for the new forward solves with modified currents)\n",
    "eq_forward_1 = deepcopy(eq)\n",
    "eq_forward_2 = deepcopy(eq)\n",
    "\n",
    "# modify the P4 current and solve\n",
    "eq_forward_1.tokamak['P4'].current *= 1.5\n",
    "GSStaticSolver.solve(eq=eq_forward_1, \n",
    "                     profiles=profiles, \n",
    "                     constrain=None, \n",
    "                     target_relative_tolerance=1e-9)\n",
    "\n",
    "# modify the P4 current (even more) and solve\n",
    "eq_forward_2.tokamak['P4'].current *= 1.5**2\n",
    "GSStaticSolver.solve(eq=eq_forward_2, \n",
    "                     profiles=profiles, \n",
    "                     constrain=None, \n",
    "                     target_relative_tolerance=1e-9)\n",
    "\n",
    "\n",
    "# plot the resulting equilbria \n",
    "fig1, (ax1, ax2, ax3) = plt.subplots(1, 3, figsize=(12, 8), dpi=80)\n",
    "\n",
    "# original \n",
    "ax1.grid(True, which='both')\n",
    "eq_forward.plot(axis=ax1,show=False)\n",
    "eq.tokamak.plot(axis=ax1,show=False)\n",
    "ax1.set_xlim(0.1, 2.15)\n",
    "ax1.set_ylim(-2.25, 2.25)\n",
    "\n",
    "# modified 1\n",
    "ax2.grid(True, which='both')\n",
    "eq_forward_1.plot(axis=ax2,show=False)\n",
    "eq.tokamak.plot(axis=ax2,show=False)\n",
    "ax2.set_xlim(0.1, 2.15)\n",
    "ax2.set_ylim(-2.25, 2.25)\n",
    "\n",
    "# modified 2 (now limited plasma)\n",
    "ax3.grid(True, which='both')\n",
    "eq_forward_2.plot(axis=ax3,show=False)\n",
    "eq.tokamak.plot(axis=ax3,show=False)\n",
    "ax3.set_xlim(0.1, 2.15)\n",
    "ax3.set_ylim(-2.25, 2.25)\n",
    "\n",
    "plt.tight_layout()"
   ]
  },
  {
   "cell_type": "markdown",
   "metadata": {},
   "source": [
    "Finally, we will illustrate how to use some of the other available profile objects. All previous examples have used the profile object: `ConstrainPaxisIp`.\n",
    "\n",
    "First, we instantiate the new `ConstrainBetapIp` object."
   ]
  },
  {
   "cell_type": "code",
   "execution_count": null,
   "metadata": {},
   "outputs": [],
   "source": [
    "from freegsnke.jtor_update import ConstrainBetapIp\n",
    "\n",
    "profiles_beta = ConstrainBetapIp(\n",
    "    eq=eq,\n",
    "    limiter=tokamak.limiter,\n",
    "    betap=0.05,\n",
    "    Ip=6e5,\n",
    "    fvac=0.5,\n",
    "    alpha_m=1.8,\n",
    "    alpha_n=1.2\n",
    ")"
   ]
  },
  {
   "cell_type": "markdown",
   "metadata": {},
   "source": [
    "We can then use it directly in a new solve (with the coil currents found by the inverse solve)."
   ]
  },
  {
   "cell_type": "code",
   "execution_count": null,
   "metadata": {},
   "outputs": [],
   "source": [
    "# instatiate new equilibrium object\n",
    "eq_beta = deepcopy(eq_forward)\n",
    "\n",
    "# call solver with new profile object\n",
    "GSStaticSolver.solve(eq=eq_beta, \n",
    "                     profiles=profiles_beta, \n",
    "                     constrain=None, \n",
    "                     target_relative_tolerance=1e-9)\n",
    "\n",
    "\n",
    "# plot the resulting equilbria \n",
    "fig1, ax1 = plt.subplots(1, 1, figsize=(4, 8), dpi=80)\n",
    "ax1.grid(True, which='both')\n",
    "eq_beta.plot(axis=ax1, show=False)\n",
    "eq.tokamak.plot(axis=ax1, show=False)\n",
    "ax1.set_xlim(0.1, 2.15)\n",
    "ax1.set_ylim(-2.25, 2.25)\n",
    "plt.tight_layout()"
   ]
  },
  {
   "cell_type": "markdown",
   "metadata": {},
   "source": [
    "We can also use the `Fiesta_Topeol` profile. \n",
    "\n",
    "For this, we require the `Beta0` parameter."
   ]
  },
  {
   "cell_type": "code",
   "execution_count": null,
   "metadata": {},
   "outputs": [],
   "source": [
    "from freegsnke.jtor_update import Fiesta_Topeol\n",
    "\n",
    "profiles_topeol = Fiesta_Topeol(\n",
    "    eq=eq_forward,# equilibrium object\n",
    "    Beta0=0.3665, # beta0 parameter\n",
    "    Ip=6e5,       # plasma current\n",
    "    fvac=0.5,     # fvac = rB_{tor}\n",
    "    alpha_m=2,  # profile function parameter\n",
    "    alpha_n=1   # profile function parameter\n",
    ")"
   ]
  },
  {
   "cell_type": "code",
   "execution_count": null,
   "metadata": {},
   "outputs": [],
   "source": [
    "# instatiate new equilibrium object\n",
    "eq_topeol = deepcopy(eq_forward)\n",
    "\n",
    "# call solver with new profile object\n",
    "GSStaticSolver.solve(eq=eq_topeol, \n",
    "                     profiles=profiles_topeol, \n",
    "                     constrain=None, \n",
    "                     target_relative_tolerance=1e-9)\n",
    "\n",
    "\n",
    "# plot the resulting equilbria \n",
    "fig1, ax1 = plt.subplots(1, 1, figsize=(4, 8), dpi=80)\n",
    "ax1.grid(True, which='both')\n",
    "eq_beta.plot(axis=ax1, show=False)\n",
    "eq.tokamak.plot(axis=ax1, show=False)\n",
    "ax1.set_xlim(0.1, 2.15)\n",
    "ax1.set_ylim(-2.25, 2.25)\n",
    "plt.tight_layout()"
   ]
  },
  {
   "cell_type": "markdown",
   "metadata": {},
   "source": [
    "We now test the 'Lao85' profile. \n",
    "\n",
    "We can use it to set up the same identical equilibrium as generated by the Topeol profile. \n",
    "\n",
    "In the Topeol profiles, we have $\\alpha_m = 2$ and $\\alpha_n = 1$ which means both $p'$ and $FF'$ are proportional to $1 - \\psi_n^2$ (with $\\hat{\\alpha} = \\hat{\\beta} = 1$. This corresponds to (the vectors) $\\alpha, \\beta \\propto (1, 0 , -1)$ - check this. \n",
    "\n",
    "We also need to take into account the scalings: alpha over beta is mu0."
   ]
  },
  {
   "cell_type": "code",
   "execution_count": null,
   "metadata": {},
   "outputs": [],
   "source": [
    "from freegsnke.jtor_update import Lao85\n",
    "from freegsfast.gradshafranov import mu0   # permeability\n",
    "\n",
    "alpha = np.array([1,0,-1])\n",
    "beta = (1 - profiles_topeol.Beta0)/profiles_topeol.Beta0 * alpha * mu0\n",
    "\n",
    "profiles_lao = Lao85(\n",
    "    eq=eq_forward,\n",
    "    limiter=tokamak.limiter,\n",
    "    Ip=6e5,\n",
    "    fvac=0.5,\n",
    "    alpha=alpha,\n",
    "    beta=beta,\n",
    "    alpha_logic=False,\n",
    "    beta_logic=False,\n",
    ")"
   ]
  },
  {
   "cell_type": "markdown",
   "metadata": {},
   "source": [
    "Note that above we're providing as input the full list of alpha and beta coefficients and therefore setting both logic inputs to False.\n",
    "The following is entirely equivalent to the above:\n",
    "\n",
    "```python\n",
    "alpha = np.array([1,0])\n",
    "beta = (1 - profiles_topeol.Beta0)/profiles_topeol.Beta0 * alpha * mu0\n",
    "\n",
    "profiles_lao = Lao85(\n",
    "    eq=eq_forward,\n",
    "    limiter=tokamak.limiter,\n",
    "    Ip=6e5,\n",
    "    fvac=0.5,\n",
    "    alpha=alpha,\n",
    "    beta=beta,\n",
    "    alpha_logic=True,\n",
    "    beta_logic=True,\n",
    ")\n",
    "```"
   ]
  },
  {
   "cell_type": "code",
   "execution_count": null,
   "metadata": {},
   "outputs": [],
   "source": [
    "# instatiate new equilibrium object\n",
    "eq_lao = deepcopy(eq_forward)\n",
    "\n",
    "# call solver with new profile object\n",
    "GSStaticSolver.solve(eq=eq_lao, \n",
    "                     profiles=profiles_lao, \n",
    "                     constrain=None, \n",
    "                     target_relative_tolerance=1e-9)\n",
    "\n",
    "\n",
    "# plot the resulting equilbria \n",
    "fig1, ax1 = plt.subplots(1, 1, figsize=(4, 8), dpi=80)\n",
    "ax1.grid(True, which='both')\n",
    "eq_beta.plot(axis=ax1, show=False)\n",
    "eq.tokamak.plot(axis=ax1, show=False)\n",
    "ax1.set_xlim(0.1, 2.15)\n",
    "ax1.set_ylim(-2.25, 2.25)\n",
    "plt.tight_layout()"
   ]
  },
  {
   "cell_type": "markdown",
   "metadata": {},
   "source": [
    "The following illustrates that the two profile functions indeed generate the same current distribution."
   ]
  },
  {
   "cell_type": "code",
   "execution_count": null,
   "metadata": {},
   "outputs": [],
   "source": [
    "laoj = profiles_lao.Jtor(R=eq.R, Z=eq.Z, psi=eq_forward.psi())\n",
    "topj = profiles_topeol.Jtor(R=eq.R, Z=eq.Z, psi=eq_forward.psi())\n",
    "\n",
    "\n",
    "fig1, ax1 = plt.subplots(1, 1, figsize=(5, 8), dpi=80)\n",
    "ax1.grid(True, which='both')\n",
    "plt.contourf(eq.R, eq.Z, (laoj-topj))\n",
    "eq.tokamak.plot(axis=ax1, show=False)\n",
    "plt.plot(eq.tokamak.wall.R, eq.tokamak.wall.Z, 'k', 1.2)\n",
    "ax1.set_xlim(0.1, 2.15)\n",
    "ax1.set_ylim(-2.25, 2.25)\n",
    "plt.tight_layout()\n",
    "plt.colorbar()"
   ]
  },
  {
   "cell_type": "markdown",
   "metadata": {},
   "source": [
    "FreeGSNKE also enables one to specify a set of Topeol profile parameters that best fit a set of Lao85 parameters (using the Lao_parameters method)."
   ]
  },
  {
   "cell_type": "code",
   "execution_count": null,
   "metadata": {},
   "outputs": [],
   "source": [
    "alpha, beta = profiles_topeol.Lao_parameters(n_alpha=2, n_beta=2, alpha_logic=True, beta_logic=True)\n",
    "print(f\"Original alpha's = {profiles_lao.alpha[0:2]} vs. Fitted from Topeol = {alpha}.\")\n",
    "print(f\"Original beta's = {profiles_lao.beta[0:2]} vs. Fitted from Topeol = {beta}.\")\n"
   ]
  },
  {
   "cell_type": "code",
   "execution_count": null,
   "metadata": {},
   "outputs": [],
   "source": [
    "profiles_lao_fit = Lao85(\n",
    "    eq=eq_forward,\n",
    "    limiter=tokamak.limiter,\n",
    "    Ip=6e5,\n",
    "    fvac=0.5,\n",
    "    alpha=alpha,\n",
    "    beta=beta,\n",
    "    alpha_logic=True,\n",
    "    beta_logic=True,\n",
    ")"
   ]
  },
  {
   "cell_type": "code",
   "execution_count": null,
   "metadata": {},
   "outputs": [],
   "source": [
    "laoj = profiles_lao_fit.Jtor(R=eq.R, Z=eq.Z, psi=eq_forward.psi())\n",
    "topj = profiles_topeol.Jtor(R=eq.R, Z=eq.Z, psi=eq_forward.psi())\n",
    "\n",
    "\n",
    "fig1, ax1 = plt.subplots(1, 1, figsize=(5, 8), dpi=80)\n",
    "ax1.grid(True, which='both')\n",
    "plt.contourf(eq.R, eq.Z, (laoj-topj))\n",
    "eq.tokamak.plot(axis=ax1, show=False)\n",
    "plt.plot(eq.tokamak.wall.R, eq.tokamak.wall.Z, 'k', 1.2)\n",
    "ax1.set_xlim(0.1, 2.15)\n",
    "ax1.set_ylim(-2.25, 2.25)\n",
    "plt.tight_layout()\n",
    "plt.colorbar()"
   ]
  },
  {
   "cell_type": "markdown",
   "metadata": {},
   "source": [
    "The reverse is also possible, using the the Topeol_parameters method in the Lao85 profile object."
   ]
  },
  {
   "cell_type": "code",
   "execution_count": null,
   "metadata": {},
   "outputs": [],
   "source": [
    "alpha_m, alpha_n, beta_0 = profiles_lao_fit.Topeol_parameters()\n",
    "\n",
    "print(f\"Original alpha_m = {profiles_topeol.alpha_m} vs. Fitted from Lao85 = {alpha_m}.\")\n",
    "print(f\"Original alpha_n = {profiles_topeol.alpha_n} vs. Fitted from Lao85 = {alpha_n}.\")\n",
    "print(f\"Original beta_0 = {profiles_topeol.Beta0} vs. Fitted from Lao85 = {beta_0}.\")"
   ]
  },
  {
   "cell_type": "markdown",
   "metadata": {},
   "source": [
    "## Example 3: the forward solver (this time for a limited plasma)\n",
    "We repeat parts of the example above for a plasma in a limited configuration. This requires use of FreeGS4E, please make sure that is correctly installed (it should be automatically installed with FreeGSNKE).\n",
    "\n",
    "In a limiter configuration the plasma \"touches\" the limiter of the tokamak and is confined by the solid structures of the vessel. The last closed flux surface (LCFS) is the closed contour that is furthest from the magnetic axis that just barely touches (and is tangent to) the limiter.\n",
    "\n",
    "Below we illustrate an inverse solve seeking coil current values for a limiter configuration. This is followed by a forward solve to improve the tolerance.\n",
    "\n",
    "Rather than instantiating a new equilibrium we use one of the above. We also use the same profile object, but illustrate how to vary the total plasma current and pressure on axis."
   ]
  },
  {
   "cell_type": "code",
   "execution_count": null,
   "metadata": {},
   "outputs": [],
   "source": [
    "# set some magnetic constraints\n",
    "Rmid = 1.4   # Outboard midplane radius\n",
    "Rin = 0.24   # Inboard midplane radius\n",
    "\n",
    "# locations of X-points\n",
    "Rx = 0.45\n",
    "Zx = 1.18\n",
    "xpoints = [(Rx, -Zx),   \n",
    "           (Rx,  Zx)]\n",
    "\n",
    "# isoflux constraints\n",
    "isoflux = [\n",
    "           (Rx,Zx, Rx,-Zx),\n",
    "           (Rmid, 0, Rin, 0.0),\n",
    "           (Rmid,0, Rx,Zx),\n",
    "           (Rmid,0, 1.2,.7),\n",
    "           (Rmid,0, 1.2,-.7),\n",
    "           (Rx, Zx, .85, 1.7),\n",
    "           (Rx, Zx, .75, 1.6),\n",
    "           (Rx, Zx, Rin, 0.2),\n",
    "           (Rx, Zx, Rin, 0.1),\n",
    "           (Rx,-Zx, Rin, -0.1),\n",
    "           (Rx,-Zx, Rin, -0.2),\n",
    "           (Rx,-Zx, .85, -1.7),\n",
    "           (Rx,-Zx, .75, -1.6),\n",
    "           (Rx,-Zx, 0.45, -1.8),\n",
    "           (Rx, Zx, 0.45,  1.8),\n",
    "           ]\n",
    "\n",
    "# let's seek an up-down symmetric equilibrium by imposing the current in P6 is zero\n",
    "#eq.tokamak['P6'].current = 0\n",
    "#eq.tokamak['P6'].control = False # fixes the current\n",
    "\n",
    "# let's assume we're also seeking an equilibrium with no solenoid current\n",
    "eq.tokamak['Solenoid'].current = 0\n",
    "eq.tokamak['Solenoid'].control = False # fixes the current\n",
    "\n",
    "# pass the magnetic constraints to a new constrain object\n",
    "constrain = freegs4e.control.constrain(xpoints=xpoints,\n",
    "                                         isoflux=isoflux,\n",
    "                                         gamma=5e-6,\n",
    "                                        )\n",
    "\n",
    "# modify the total plasma current\n",
    "profiles.Ip = 4e5\n",
    "\n",
    "# modify the pressure on the magnetic axis\n",
    "profiles.paxis = 6e3\n",
    "\n",
    "# carry out the inverse solve (which finds the coil currents)\n",
    "GSStaticSolver.solve(eq=eq, \n",
    "                     profiles=profiles, \n",
    "                     constrain=constrain, \n",
    "                     target_relative_tolerance=1e-3)\n",
    "\n",
    "# carry out the forward solve (which uses the currents found to obtain better converged equilibrium)\n",
    "GSStaticSolver.solve(eq=eq, \n",
    "                     profiles=profiles, \n",
    "                     constrain=None, \n",
    "                     target_relative_tolerance=1e-9)"
   ]
  },
  {
   "cell_type": "code",
   "execution_count": null,
   "metadata": {},
   "outputs": [],
   "source": [
    "# plot the resulting equilbria \n",
    "fig1, ax1 = plt.subplots(1, 1, figsize=(4, 8), dpi=80)\n",
    "ax1.grid(True, which='both')\n",
    "eq.plot(axis=ax1, show=False)\n",
    "eq.tokamak.plot(axis=ax1, show=False)\n",
    "constrain.plot(axis=ax1,show=False)\n",
    "ax1.set_xlim(0.1, 2.15)\n",
    "ax1.set_ylim(-2.25, 2.25)\n",
    "plt.tight_layout()"
   ]
  },
  {
   "cell_type": "markdown",
   "metadata": {},
   "source": [
    "Now, let's assume we wish to set the solenoid current to 40000 Amperes. It is advisable to do so in stages as this is easier for the inverse solver to handle while avoiding non-recoverable configurations. "
   ]
  },
  {
   "cell_type": "code",
   "execution_count": null,
   "metadata": {},
   "outputs": [],
   "source": [
    "# we first raise the solenoid current to some intermediate value\n",
    "# Note that `eq.tokamak['Solenoid'].control = False` is still set from above so we don't need it again\n",
    "eq.tokamak['Solenoid'].current = 10000\n",
    "\n",
    "# carry out a first inverse solve\n",
    "GSStaticSolver.solve(eq=eq, \n",
    "                     profiles=profiles, \n",
    "                     constrain=constrain, \n",
    "                     target_relative_tolerance=1e-3)\n",
    "\n",
    "# raise the solenoid current further\n",
    "eq.tokamak['Solenoid'].current = 40000\n",
    "\n",
    "# carry out another inverse solve\n",
    "GSStaticSolver.solve(eq=eq, \n",
    "                     profiles=profiles, \n",
    "                     constrain=constrain, \n",
    "                     target_relative_tolerance=1e-3)\n",
    "\n",
    "# now we're ready for a forward solve\n",
    "GSStaticSolver.solve(eq=eq, \n",
    "                     profiles=profiles, \n",
    "                     constrain=None, \n",
    "                     target_relative_tolerance=1e-9)\n",
    "\n",
    "# plot the resulting equilbria \n",
    "fig1, ax1 = plt.subplots(1, 1, figsize=(4, 8), dpi=80)\n",
    "ax1.grid(True, which='both')\n",
    "eq.plot(axis=ax1, show=False)\n",
    "eq.tokamak.plot(axis=ax1, show=False)\n",
    "constrain.plot(axis=ax1,show=False)\n",
    "ax1.set_xlim(0.1, 2.15)\n",
    "ax1.set_ylim(-2.25, 2.25)\n",
    "plt.tight_layout()"
   ]
  },
  {
   "cell_type": "markdown",
   "metadata": {},
   "source": [
    "### Example 4: Forward-solve from scratch, using saved currents (no inverse solve)\n",
    "The example below does not assume the above has been executed, and can be run standalone in a new kernel.\n",
    "\n",
    "Make sure, however, that the dictionary of currents has been correctly created using the example above itself."
   ]
  },
  {
   "cell_type": "code",
   "execution_count": null,
   "metadata": {},
   "outputs": [],
   "source": [
    "import matplotlib.pyplot as plt\n",
    "import os\n",
    "\n",
    "# set paths\n",
    "os.environ[\"ACTIVE_COILS_PATH\"] = f\"../machine_configs/MAST-U/MAST-U-like_active_coils.pickle\"\n",
    "os.environ[\"PASSIVE_COILS_PATH\"] = f\"../machine_configs/MAST-U/MAST-U-like_passive_coils.pickle\"\n",
    "os.environ[\"WALL_PATH\"] = f\"../machine_configs/MAST-U/MAST-U-like_wall.pickle\"\n",
    "os.environ[\"LIMITER_PATH\"] = f\"../machine_configs/MAST-U/MAST-U-like_limiter.pickle\"\n",
    "\n",
    "\n",
    "# build machine\n",
    "from freegsnke import build_machine\n",
    "tokamak = build_machine.tokamak()\n",
    "\n",
    "# initialise equilibrium object\n",
    "from freegsnke import equilibrium_update\n",
    "eq = equilibrium_update.Equilibrium(\n",
    "    tokamak=tokamak,\n",
    "    Rmin=0.1, Rmax=2.0,   # Radial range\n",
    "    Zmin=-2.2, Zmax=2.2,  # Vertical range\n",
    "    nx=65,                # Number of grid points in the radial direction (needs to be of the form (2**n + 1) with n being an integer)\n",
    "    ny=129,               # Number of grid points in the vertical direction (needs to be of the form (2**n + 1) with n being an integer)\n",
    "    # psi=plasma_psi\n",
    ")  \n",
    "\n",
    "# initialise profile object\n",
    "from freegsnke.jtor_update import ConstrainPaxisIp\n",
    "profiles = ConstrainPaxisIp(\n",
    "    eq=eq,\n",
    "    limiter=tokamak.limiter,\n",
    "    paxis=8.1e3,\n",
    "    Ip=6.2e5,\n",
    "    fvac=0.5,\n",
    "    alpha_m=1.8,\n",
    "    alpha_n=1.2\n",
    ")\n",
    "\n",
    "# initialise solver\n",
    "from freegsnke import GSstaticsolver\n",
    "GSStaticSolver = GSstaticsolver.NKGSsolver(eq)    \n",
    "\n",
    "# set coil currents\n",
    "import pickle\n",
    "with open('simple_diverted_currents_PaxisIp.pk', 'rb') as f:\n",
    "    current_values = pickle.load(f)\n",
    "for key in current_values.keys():\n",
    "    eq.tokamak[key].current = current_values[key]\n",
    "\n",
    "# carry out forward solve\n",
    "GSStaticSolver.solve(eq=eq, \n",
    "                     profiles=profiles, \n",
    "                     constrain=None, \n",
    "                     target_relative_tolerance=1e-9)\n",
    "\n",
    "# plot the resulting equilbria \n",
    "fig1, ax1 = plt.subplots(1, 1, figsize=(4, 8), dpi=80)\n",
    "ax1.grid(True, which='both')\n",
    "eq.plot(axis=ax1, show=False)\n",
    "eq.tokamak.plot(axis=ax1, show=False)\n",
    "ax1.set_xlim(0.1, 2.15)\n",
    "ax1.set_ylim(-2.25, 2.25)\n",
    "plt.tight_layout()"
   ]
  },
  {
   "cell_type": "code",
   "execution_count": null,
   "metadata": {},
   "outputs": [],
   "source": []
  },
  {
   "cell_type": "code",
   "execution_count": null,
   "metadata": {},
   "outputs": [],
   "source": []
  },
  {
   "cell_type": "code",
   "execution_count": null,
   "metadata": {},
   "outputs": [],
   "source": []
  },
  {
   "cell_type": "code",
   "execution_count": null,
   "metadata": {},
   "outputs": [],
   "source": []
  }
 ],
 "metadata": {
  "kernelspec": {
   "display_name": "Python 3 (ipykernel)",
   "language": "python",
   "name": "python3"
  },
  "language_info": {
   "codemirror_mode": {
    "name": "ipython",
    "version": 3
   },
   "file_extension": ".py",
   "mimetype": "text/x-python",
   "name": "python",
   "nbconvert_exporter": "python",
   "pygments_lexer": "ipython3",
   "version": "3.11.5"
  }
 },
 "nbformat": 4,
 "nbformat_minor": 4
}
