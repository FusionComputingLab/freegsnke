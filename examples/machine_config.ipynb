{
 "cells": [
  {
   "cell_type": "markdown",
   "metadata": {},
   "source": [
    "# Machine configuration example\n",
    "This notebook describes the process of creating a machine configuration file for\n",
    "use by FreeGSNKE.\n",
    "\n",
    "A machine description in FreeGSNE is comprised of active coils\n",
    "that can have their voltage modulated and act as controls for the plasma shape,\n",
    "passive structures such as the tokamak wall and coil cans, and non-conducting\n",
    "surfaces used to define the limit of the plasma.\n",
    "\n",
    "In the following, we build up each of these elements into the structure required\n",
    "by FreeGSNKE and save them for later use."
   ]
  },
  {
   "cell_type": "code",
   "execution_count": 1,
   "metadata": {},
   "outputs": [],
   "source": [
    "import numpy as np\n",
    "import pickle"
   ]
  },
  {
   "cell_type": "markdown",
   "metadata": {},
   "source": [
    "## Active coils\n",
    "Here we define the characteristics and locations of the active coils of our\n",
    "tokamak."
   ]
  },
  {
   "cell_type": "markdown",
   "metadata": {},
   "source": [
    "First, define the resistivity of the active coils."
   ]
  },
  {
   "cell_type": "code",
   "execution_count": 2,
   "metadata": {},
   "outputs": [],
   "source": [
    "eta_copper = 1.55e-8  # Resistivity in Ohm*m"
   ]
  },
  {
   "cell_type": "markdown",
   "metadata": {},
   "source": [
    "Now write down the geometry of the coils. The below variables define the\n",
    "locations of 5 coils: `P1_lower`, `P1_upper`, `P2_lower`, `P2_upper` and `Pz`.\n",
    "Each coil has 2 windings.\n",
    "\n",
    "We've also made a shortcut and assumed that `P1_lower` and `P1_upper` have the\n",
    "same radial position and are equally distanced from the midplane in the vertical\n",
    "direction. The same applies to `P2_lower` and `P2_upper`."
   ]
  },
  {
   "cell_type": "code",
   "execution_count": 9,
   "metadata": {},
   "outputs": [],
   "source": [
    "# P1_lower and P1_upper windings radial positions\n",
    "P1_r = [1.0, 1.02]\n",
    "\n",
    "# P1_upper windings vertical positions\n",
    "P1_upper_z = [1.1, 1.12]\n",
    "\n",
    "# P1_lower and P1_upper width and height\n",
    "P1_dr = 0.02\n",
    "P1_dz = 0.02\n",
    "\n",
    "# As above, but for the P2_lower and P2_upper coils\n",
    "P2_r = [1.75, 1.77]\n",
    "P2_upper_z = [0.6, 0.62]\n",
    "P2_dr = 0.02\n",
    "P2_dz = 0.02\n",
    "\n",
    "# Finally, the Pz coil\n",
    "Pz_r = [1.0, 1.02]\n",
    "Pz_z = [0.0, 0.0]\n",
    "Pz_dr = 0.02\n",
    "Pz_dz = 0.02"
   ]
  },
  {
   "cell_type": "markdown",
   "metadata": {},
   "source": [
    "Next, we populate a dictionary with these values. The dictionary (here called\n",
    "`active_coils_dict`) has a very particular format. Each entry to the dictionary\n",
    "should be another dictionary describing a coil. This dictionary can take one of\n",
    "two forms:  \n",
    "1. One with the keys described below, or\n",
    "2. One with labels corresponding to multiple coils.\n",
    "\n",
    "This format allows for standalone coils or groups of coils to be defined. We\n",
    "first demonstrate the standalone coil `Pz`, then show how `P1_upper` and\n",
    "`P1_lower` can be grouped, and again for `P2_upper` and `P2_lower`.\n",
    "\n",
    "The keys for the coil dictionaries are:\n",
    "- `R`: list of radial positions of windings\n",
    "- `Z`: list of vertical positions of windings\n",
    "- `dR`: width\n",
    "- `dZ`: height\n",
    "- `resistivity`: resistivity in Ohm*m\n",
    "- `polarity`: circuit wiring\n",
    "- `multiplier`: current multiplier (only used for solenoid, see later)"
   ]
  },
  {
   "cell_type": "markdown",
   "metadata": {},
   "source": [
    "First instantiate the dictionary so we can populate it incrementally"
   ]
  },
  {
   "cell_type": "code",
   "execution_count": 10,
   "metadata": {},
   "outputs": [],
   "source": [
    "active_coils_dict = {}"
   ]
  },
  {
   "cell_type": "markdown",
   "metadata": {},
   "source": [
    "Let's  define the standalone Pz coil first."
   ]
  },
  {
   "cell_type": "code",
   "execution_count": null,
   "metadata": {},
   "outputs": [],
   "source": [
    "active_coils_dict[\"Pz\"] = {\n",
    "    \"R\": Pz_r,\n",
    "    \"Z\": Pz_z,\n",
    "    \"dR\": Pz_dr,\n",
    "    \"dZ\": Pz_dz,\n",
    "    \"resistivity\": eta_copper,\n",
    "    \"polarity\": 1,\n",
    "}"
   ]
  },
  {
   "cell_type": "markdown",
   "metadata": {},
   "source": [
    "Now let's define the `P1_upper` and `P1_lower` coils."
   ]
  },
  {
   "cell_type": "code",
   "execution_count": 7,
   "metadata": {},
   "outputs": [],
   "source": [
    "# The P1 coil group is instantiated as a dictionary\n",
    "active_coils_dict[\"P1\"] = {}\n",
    "\n",
    "# Populate with the P1_upper coil information\n",
    "active_coils_dict[\"P1\"][\"upper\"] = {\n",
    "    \"R\": P1_r,\n",
    "    \"Z\": P1_upper_z,\n",
    "    \"dR\": P1_dr,\n",
    "    \"dZ\": P1_dz,\n",
    "    \"resistivity\": eta_copper,\n",
    "    \"polarity\": 1,\n",
    "}\n",
    "\n",
    "# Populate with the P1_lower coil information\n",
    "active_coils_dict[\"P1\"][\"lower\"] = {\n",
    "    \"R\": P1_r,\n",
    "    \"Z\": [-1*z for z in P1_upper_z],\n",
    "    \"dR\": P1_dr,\n",
    "    \"dZ\": P1_dz,\n",
    "    \"resistivity\": eta_copper,\n",
    "    \"polarity\": 1,\n",
    "}"
   ]
  },
  {
   "cell_type": "markdown",
   "metadata": {},
   "source": [
    "We follow the same procedure for `P2_upper` and `P2_lower`."
   ]
  },
  {
   "cell_type": "code",
   "execution_count": null,
   "metadata": {},
   "outputs": [],
   "source": [
    "active_coils_dict[\"P2\"] = {}\n",
    "active_coils_dict[\"P2\"][\"upper\"] = {\n",
    "    \"R\": P2_r,\n",
    "    \"Z\": P2_upper_z,\n",
    "    \"dR\": P2_dr,\n",
    "    \"dZ\": P2_dz,\n",
    "    \"resistivity\": eta_copper,\n",
    "    \"polarity\": 1,\n",
    "    \"multiplier\": 1\n",
    "}\n",
    "active_coils_dict[\"P2\"][\"lower\"] = {\n",
    "    \"R\": P2_r,\n",
    "    \"Z\": [-1*z for z in P2_upper_z],\n",
    "    \"dR\": P2_dr,\n",
    "    \"dZ\": P2_dz,\n",
    "    \"resistivity\": eta_copper,\n",
    "    \"polarity\": 1,\n",
    "    \"multiplier\": 1\n",
    "}"
   ]
  },
  {
   "cell_type": "markdown",
   "metadata": {},
   "source": [
    "Lastly for the active coils, we need to define a solenoid."
   ]
  },
  {
   "cell_type": "code",
   "execution_count": null,
   "metadata": {},
   "outputs": [],
   "source": [
    "active_coils_dict[\"Solenoid\"] = {\n",
    "    \"R\": [0.19475]*324,\n",
    "    \"Z\": list(np.linspace(-1.5, 1.5, 324)),\n",
    "    \"dR\": 0.012,\n",
    "    \"dZ\": 0.018,\n",
    "    \"polarity\": 1,\n",
    "    \"resistivity\": eta_copper,\n",
    "    \"multiplier\": 1\n",
    "}"
   ]
  },
  {
   "cell_type": "markdown",
   "metadata": {},
   "source": [
    "Now we can save the active coils dictionary for later use by FreeGSNKE."
   ]
  },
  {
   "cell_type": "code",
   "execution_count": 11,
   "metadata": {},
   "outputs": [],
   "source": [
    "with open(\"active_coils.pickle\", \"wb\") as f:\n",
    "    pickle.dump(active_coils_dict, f)"
   ]
  }
 ],
 "metadata": {
  "kernelspec": {
   "display_name": "freegsnke",
   "language": "python",
   "name": "python3"
  },
  "language_info": {
   "codemirror_mode": {
    "name": "ipython",
    "version": 3
   },
   "file_extension": ".py",
   "mimetype": "text/x-python",
   "name": "python",
   "nbconvert_exporter": "python",
   "pygments_lexer": "ipython3",
   "version": "3.9.18"
  }
 },
 "nbformat": 4,
 "nbformat_minor": 2
}
