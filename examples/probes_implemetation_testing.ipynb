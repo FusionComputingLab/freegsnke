{
 "cells": [
  {
   "cell_type": "code",
   "execution_count": 4,
   "metadata": {},
   "outputs": [
    {
     "name": "stdout",
     "output_type": "stream",
     "text": [
      "Equilibrium initialised using file provided as part of the machine description.\n"
     ]
    },
    {
     "ename": "AttributeError",
     "evalue": "'super' object has no attribute 'Jtor_part1'",
     "output_type": "error",
     "traceback": [
      "\u001b[0;31m---------------------------------------------------------------------------\u001b[0m",
      "\u001b[0;31mAttributeError\u001b[0m                            Traceback (most recent call last)",
      "Cell \u001b[0;32mIn[4], line 90\u001b[0m\n\u001b[1;32m     84\u001b[0m constrain \u001b[38;5;241m=\u001b[39m freegs\u001b[38;5;241m.\u001b[39mcontrol\u001b[38;5;241m.\u001b[39mconstrain(xpoints\u001b[38;5;241m=\u001b[39mxpoints, \n\u001b[1;32m     85\u001b[0m                                      isoflux\u001b[38;5;241m=\u001b[39misoflux,\n\u001b[1;32m     86\u001b[0m                                      gamma\u001b[38;5;241m=\u001b[39m\u001b[38;5;241m5e-7\u001b[39m\n\u001b[1;32m     87\u001b[0m                                     )\n\u001b[1;32m     89\u001b[0m \u001b[38;5;66;03m# apply solver\u001b[39;00m\n\u001b[0;32m---> 90\u001b[0m \u001b[43mGSStaticSolver\u001b[49m\u001b[38;5;241;43m.\u001b[39;49m\u001b[43msolve\u001b[49m\u001b[43m(\u001b[49m\u001b[43meq\u001b[49m\u001b[38;5;241;43m=\u001b[39;49m\u001b[43meq\u001b[49m\u001b[43m,\u001b[49m\u001b[43m \u001b[49m\n\u001b[1;32m     91\u001b[0m \u001b[43m                     \u001b[49m\u001b[43mprofiles\u001b[49m\u001b[38;5;241;43m=\u001b[39;49m\u001b[43mprofiles\u001b[49m\u001b[43m,\u001b[49m\u001b[43m \u001b[49m\n\u001b[1;32m     92\u001b[0m \u001b[43m                     \u001b[49m\u001b[43mconstrain\u001b[49m\u001b[38;5;241;43m=\u001b[39;49m\u001b[43mconstrain\u001b[49m\u001b[43m,\u001b[49m\u001b[43m \u001b[49m\n\u001b[1;32m     93\u001b[0m \u001b[43m                     \u001b[49m\u001b[43mtarget_relative_tolerance\u001b[49m\u001b[38;5;241;43m=\u001b[39;49m\u001b[38;5;241;43m1e-3\u001b[39;49m\u001b[43m)\u001b[49m\n",
      "File \u001b[0;32m~/Documents/HARTREE/freegsnke/freegsnke/GSstaticsolver.py:582\u001b[0m, in \u001b[0;36mNKGSsolver.solve\u001b[0;34m(self, eq, profiles, target_relative_tolerance, constrain, max_solving_iterations, Picard_handover, blend, step_size, scaling_with_n, target_relative_unexplained_residual, max_n_directions, max_Arnoldi_iterations, max_collinearity, clip, threshold, clip_hard, verbose)\u001b[0m\n\u001b[1;32m    563\u001b[0m     \u001b[38;5;28mself\u001b[39m\u001b[38;5;241m.\u001b[39mforward_solve(\n\u001b[1;32m    564\u001b[0m         eq,\n\u001b[1;32m    565\u001b[0m         profiles,\n\u001b[0;32m   (...)\u001b[0m\n\u001b[1;32m    578\u001b[0m         verbose,\n\u001b[1;32m    579\u001b[0m     )\n\u001b[1;32m    581\u001b[0m \u001b[38;5;28;01melse\u001b[39;00m:\n\u001b[0;32m--> 582\u001b[0m     \u001b[43mfreegs\u001b[49m\u001b[38;5;241;43m.\u001b[39;49m\u001b[43msolve\u001b[49m\u001b[43m(\u001b[49m\n\u001b[1;32m    583\u001b[0m \u001b[43m        \u001b[49m\u001b[43meq\u001b[49m\u001b[43m,\u001b[49m\n\u001b[1;32m    584\u001b[0m \u001b[43m        \u001b[49m\u001b[43mprofiles\u001b[49m\u001b[43m,\u001b[49m\n\u001b[1;32m    585\u001b[0m \u001b[43m        \u001b[49m\u001b[43mconstrain\u001b[49m\u001b[43m,\u001b[49m\n\u001b[1;32m    586\u001b[0m \u001b[43m        \u001b[49m\u001b[43mrtol\u001b[49m\u001b[38;5;241;43m=\u001b[39;49m\u001b[43mtarget_relative_tolerance\u001b[49m\u001b[43m,\u001b[49m\n\u001b[1;32m    587\u001b[0m \u001b[43m        \u001b[49m\u001b[43mshow\u001b[49m\u001b[38;5;241;43m=\u001b[39;49m\u001b[38;5;28;43;01mFalse\u001b[39;49;00m\u001b[43m,\u001b[49m\n\u001b[1;32m    588\u001b[0m \u001b[43m        \u001b[49m\u001b[43mblend\u001b[49m\u001b[38;5;241;43m=\u001b[39;49m\u001b[43mblend\u001b[49m\u001b[43m,\u001b[49m\n\u001b[1;32m    589\u001b[0m \u001b[43m    \u001b[49m\u001b[43m)\u001b[49m\n",
      "File \u001b[0;32m~/Documents/HARTREE/freegsfast/freegs/picard.py:101\u001b[0m, in \u001b[0;36msolve\u001b[0;34m(eq, profiles, constrain, rtol, atol, blend, show, axis, pause, psi_bndry, maxits, convergenceInfo)\u001b[0m\n\u001b[1;32m     98\u001b[0m psi_last \u001b[38;5;241m=\u001b[39m psi\u001b[38;5;241m.\u001b[39mcopy()\n\u001b[1;32m    100\u001b[0m \u001b[38;5;66;03m# Solve equilbrium, using the given psi to calculate Jtor\u001b[39;00m\n\u001b[0;32m--> 101\u001b[0m \u001b[43meq\u001b[49m\u001b[38;5;241;43m.\u001b[39;49m\u001b[43msolve\u001b[49m\u001b[43m(\u001b[49m\u001b[43mprofiles\u001b[49m\u001b[43m,\u001b[49m\u001b[43m \u001b[49m\u001b[43mpsi\u001b[49m\u001b[38;5;241;43m=\u001b[39;49m\u001b[43mpsi\u001b[49m\u001b[43m,\u001b[49m\u001b[43m \u001b[49m\u001b[43mpsi_bndry\u001b[49m\u001b[38;5;241;43m=\u001b[39;49m\u001b[43mpsi_bndry\u001b[49m\u001b[43m)\u001b[49m\n\u001b[1;32m    103\u001b[0m \u001b[38;5;66;03m# Get the new psi, including coils\u001b[39;00m\n\u001b[1;32m    104\u001b[0m psi \u001b[38;5;241m=\u001b[39m eq\u001b[38;5;241m.\u001b[39mpsi()\n",
      "File \u001b[0;32m~/Documents/HARTREE/freegsfast/freegs/equilibrium.py:390\u001b[0m, in \u001b[0;36mEquilibrium.solve\u001b[0;34m(self, profiles, Jtor, psi, psi_bndry)\u001b[0m\n\u001b[1;32m    388\u001b[0m     \u001b[38;5;28;01mif\u001b[39;00m psi \u001b[38;5;129;01mis\u001b[39;00m \u001b[38;5;28;01mNone\u001b[39;00m:\n\u001b[1;32m    389\u001b[0m         psi \u001b[38;5;241m=\u001b[39m \u001b[38;5;28mself\u001b[39m\u001b[38;5;241m.\u001b[39mpsi()\n\u001b[0;32m--> 390\u001b[0m     Jtor \u001b[38;5;241m=\u001b[39m \u001b[43mprofiles\u001b[49m\u001b[38;5;241;43m.\u001b[39;49m\u001b[43mJtor\u001b[49m\u001b[43m(\u001b[49m\u001b[38;5;28;43mself\u001b[39;49m\u001b[38;5;241;43m.\u001b[39;49m\u001b[43mR\u001b[49m\u001b[43m,\u001b[49m\u001b[43m \u001b[49m\u001b[38;5;28;43mself\u001b[39;49m\u001b[38;5;241;43m.\u001b[39;49m\u001b[43mZ\u001b[49m\u001b[43m,\u001b[49m\u001b[43m \u001b[49m\u001b[43mpsi\u001b[49m\u001b[43m,\u001b[49m\u001b[43m \u001b[49m\u001b[43mpsi_bndry\u001b[49m\u001b[38;5;241;43m=\u001b[39;49m\u001b[43mpsi_bndry\u001b[49m\u001b[43m)\u001b[49m\n\u001b[1;32m    392\u001b[0m \u001b[38;5;66;03m# Set plasma boundary\u001b[39;00m\n\u001b[1;32m    393\u001b[0m \u001b[38;5;66;03m# Note that the Equilibrium is passed to the boundary function\u001b[39;00m\n\u001b[1;32m    394\u001b[0m \u001b[38;5;66;03m# since the boundary may need to run the G-S solver (von Hagenow's method)\u001b[39;00m\n\u001b[1;32m    395\u001b[0m \u001b[38;5;28mself\u001b[39m\u001b[38;5;241m.\u001b[39m_applyBoundary(\u001b[38;5;28mself\u001b[39m, Jtor, \u001b[38;5;28mself\u001b[39m\u001b[38;5;241m.\u001b[39mplasma_psi)\n",
      "File \u001b[0;32m~/Documents/HARTREE/freegsnke/freegsnke/jtor_update.py:157\u001b[0m, in \u001b[0;36mConstrainPaxisIp.Jtor_fast\u001b[0;34m(self, R, Z, psi, psi_bndry, rel_psi_error)\u001b[0m\n\u001b[1;32m    155\u001b[0m \u001b[38;5;28;01mdef\u001b[39;00m \u001b[38;5;21mJtor_fast\u001b[39m(\u001b[38;5;28mself\u001b[39m, R, Z, psi, psi_bndry\u001b[38;5;241m=\u001b[39m\u001b[38;5;28;01mNone\u001b[39;00m, rel_psi_error\u001b[38;5;241m=\u001b[39m\u001b[38;5;241m0\u001b[39m):\n\u001b[1;32m    156\u001b[0m \u001b[38;5;250m    \u001b[39m\u001b[38;5;124;03m\"\"\"Used when FreeGSfast is available.\"\"\"\u001b[39;00m\n\u001b[0;32m--> 157\u001b[0m     \u001b[38;5;28mself\u001b[39m\u001b[38;5;241m.\u001b[39mdiverted_core_mask \u001b[38;5;241m=\u001b[39m \u001b[38;5;28;43msuper\u001b[39;49m\u001b[43m(\u001b[49m\u001b[43m)\u001b[49m\u001b[38;5;241;43m.\u001b[39;49m\u001b[43mJtor_part1\u001b[49m(R, Z, psi, psi_bndry)\n\u001b[1;32m    158\u001b[0m     \u001b[38;5;28;01mif\u001b[39;00m \u001b[38;5;28mself\u001b[39m\u001b[38;5;241m.\u001b[39mdiverted_core_mask \u001b[38;5;129;01mis\u001b[39;00m \u001b[38;5;28;01mNone\u001b[39;00m:\n\u001b[1;32m    159\u001b[0m         \u001b[38;5;66;03m# print('no xpt')\u001b[39;00m\n\u001b[1;32m    160\u001b[0m         \u001b[38;5;28mself\u001b[39m\u001b[38;5;241m.\u001b[39mpsi_bndry, \u001b[38;5;28mself\u001b[39m\u001b[38;5;241m.\u001b[39mlimiter_core_mask, \u001b[38;5;28mself\u001b[39m\u001b[38;5;241m.\u001b[39mflag_limiter \u001b[38;5;241m=\u001b[39m (\n\u001b[1;32m    161\u001b[0m             psi_bndry,\n\u001b[1;32m    162\u001b[0m             \u001b[38;5;28;01mNone\u001b[39;00m,\n\u001b[1;32m    163\u001b[0m             \u001b[38;5;28;01mFalse\u001b[39;00m,\n\u001b[1;32m    164\u001b[0m         )\n",
      "\u001b[0;31mAttributeError\u001b[0m: 'super' object has no attribute 'Jtor_part1'"
     ]
    }
   ],
   "source": [
    "# create and solve basic equilibrium.\n",
    "# taking Example_1 and putting it all here to use as eq for testing probes\n",
    "\n",
    "\n",
    "import os\n",
    "os.environ[\"ACTIVE_COILS_PATH\"] = \"../machine_configs/MAST-U/active_coils_from_UDA.pickle\"\n",
    "os.environ[\"PASSIVE_COILS_PATH\"] = \"../machine_configs/MAST-U/passive_coils.pickle\"\n",
    "os.environ[\"WALL_PATH\"] = \"../machine_configs/MAST-U/wall.pickle\"\n",
    "os.environ[\"LIMITER_PATH\"] = \"../machine_configs/MAST-U/limiter.pickle\"\n",
    "# the following environment variable is optional, \n",
    "# it contains data on an equilibrium that is representative for the tokamak \n",
    "# for more info please refer to Example_0\n",
    "os.environ[\"EQUILIBRIUM_PATH\"] = \"../machine_configs/MAST-U/simple_initilization_equilibrium.pickle\"\n",
    "\n",
    "# Now the machine can actually be built:\n",
    "from freegsnke import build_machine\n",
    "tokamak = build_machine.tokamak()\n",
    "\n",
    "from freegsnke import equilibrium_update\n",
    "from freegsnke.jtor_update import ConstrainPaxisIp\n",
    "from freegsnke import GSstaticsolver\n",
    "\n",
    "\n",
    "\n",
    "# create equilibirum object\n",
    "eq = equilibrium_update.Equilibrium(\n",
    "    tokamak=tokamak,\n",
    "    Rmin=0.1, Rmax=2.0,   # Radial range\n",
    "    Zmin=-2.2, Zmax=2.2,  # Vertical range\n",
    "    nx=65,   # Number of grid points in the radial direction\n",
    "    ny=129,  # Number of grid points in the vertical direction\n",
    "    # note that both nx and ny have to be of the form 2**i + 1 with i being an integer\n",
    "    # psi=plasma_psi\n",
    ")  \n",
    "\n",
    "\n",
    "# create profile object\n",
    "profiles = ConstrainPaxisIp(\n",
    "    eq=eq,\n",
    "    limiter=tokamak.limiter,\n",
    "    paxis=8e3,\n",
    "    Ip=6e5,\n",
    "    fvac=0.5,\n",
    "    alpha_m=1.8,\n",
    "    alpha_n=1.2\n",
    ")\n",
    "\n",
    "# load nonlinear solver\n",
    "GSStaticSolver = GSstaticsolver.NKGSsolver(eq)\n",
    "\n",
    "# setup initial conditions....\n",
    "# Set X-point coordinates\n",
    "Rx = 0.6\n",
    "Zx = 1.1\n",
    "xpoints = [(Rx, -Zx),   \n",
    "           (Rx,  Zx)]\n",
    "\n",
    "# Set any desired isoflux constraints,\n",
    "# these have structure (R1, Z1, R2, Z2)\n",
    "# where (R1, Z1) and (R2, Z2) are \n",
    "# desired to be on the same flux contour.\n",
    "Rmid = 1.4   # Outboard midplane\n",
    "Rin = 0.35    # Inboard midplane\n",
    "isoflux = [(Rx,Zx, Rx,-Zx), # link X-points\n",
    "           (Rmid, 0, Rin, 0.0), # link inner and outer midplane points\n",
    "           (Rmid, 0, Rx, Zx), # link outer midplane point and X-point\n",
    "\n",
    "        #   some additional constraints\n",
    "           (Rmid,0, 1.2,.7),\n",
    "           (Rmid,0, 1.2,-.7),\n",
    "           (Rx, Zx, .85, 1.7),\n",
    "           (Rx, Zx, .75, 1.6),\n",
    "           (Rx, Zx, Rin, 0.2),\n",
    "           (Rx, Zx, Rin, 0.1),\n",
    "           (Rx,-Zx, Rin, -0.1),\n",
    "           (Rx,-Zx, Rin, -0.2),\n",
    "           (Rx,-Zx, .85, -1.7),\n",
    "           (Rx,-Zx, .75, -1.6),\n",
    "           (Rx,-Zx, 0.45, -1.8),\n",
    "           (Rx, Zx, 0.45,  1.8),\n",
    "           ]\n",
    "           \n",
    "# Instantiate the constrain object\n",
    "constrain = freegs.control.constrain(xpoints=xpoints, \n",
    "                                     isoflux=isoflux,\n",
    "                                     gamma=5e-7\n",
    "                                    )\n",
    "\n",
    "# apply solver\n",
    "GSStaticSolver.solve(eq=eq, \n",
    "                     profiles=profiles, \n",
    "                     constrain=constrain, \n",
    "                     target_relative_tolerance=1e-3)"
   ]
  },
  {
   "cell_type": "markdown",
   "metadata": {},
   "source": [
    "This is only the inverse solve, but will have coil and plasma currents that can be used by the probes.\n",
    "\n",
    "Let's set this up now."
   ]
  },
  {
   "cell_type": "code",
   "execution_count": 2,
   "metadata": {},
   "outputs": [
    {
     "ename": "ValueError",
     "evalue": "PASSIVE_COILS_PATH environment variable not set.",
     "output_type": "error",
     "traceback": [
      "\u001b[0;31m---------------------------------------------------------------------------\u001b[0m",
      "\u001b[0;31mValueError\u001b[0m                                Traceback (most recent call last)",
      "Cell \u001b[0;32mIn[2], line 1\u001b[0m\n\u001b[0;32m----> 1\u001b[0m \u001b[38;5;28;01mfrom\u001b[39;00m \u001b[38;5;21;01mfreegsnke\u001b[39;00m \u001b[38;5;28;01mimport\u001b[39;00m magnetic_probes\n\u001b[1;32m      3\u001b[0m flux_probe \u001b[38;5;241m=\u001b[39m magnetic_probes\u001b[38;5;241m.\u001b[39mprobe(eq)\n",
      "File \u001b[0;32m~/Documents/HARTREE/freegsnke/freegsnke/magnetic_probes.py:11\u001b[0m\n\u001b[1;32m      8\u001b[0m \u001b[38;5;28;01mimport\u001b[39;00m \u001b[38;5;21;01mpickle\u001b[39;00m\n\u001b[1;32m     10\u001b[0m \u001b[38;5;28;01mfrom\u001b[39;00m \u001b[38;5;21;01mfreegs\u001b[39;00m\u001b[38;5;21;01m.\u001b[39;00m\u001b[38;5;21;01mgradshafranov\u001b[39;00m \u001b[38;5;28;01mimport\u001b[39;00m Greens, GreensBr, GreensBz\n\u001b[0;32m---> 11\u001b[0m \u001b[38;5;28;01mfrom\u001b[39;00m \u001b[38;5;21;01m.\u001b[39;00m \u001b[38;5;28;01mimport\u001b[39;00m machine_config \n\u001b[1;32m     15\u001b[0m \u001b[38;5;28;01mclass\u001b[39;00m \u001b[38;5;21;01mprobe\u001b[39;00m():\n\u001b[1;32m     16\u001b[0m \u001b[38;5;250m    \u001b[39m\u001b[38;5;124;03m\"\"\" \u001b[39;00m\n\u001b[1;32m     17\u001b[0m \u001b[38;5;124;03m    Class to implement magnetic probes\u001b[39;00m\n\u001b[1;32m     18\u001b[0m \u001b[38;5;124;03m    - flux loops: compute psi(R,Z) \u001b[39;00m\n\u001b[0;32m   (...)\u001b[0m\n\u001b[1;32m     32\u001b[0m \u001b[38;5;124;03m        \u001b[39;00m\n\u001b[1;32m     33\u001b[0m \u001b[38;5;124;03m    \"\"\"\u001b[39;00m\n",
      "File \u001b[0;32m~/Documents/HARTREE/freegsnke/freegsnke/machine_config.py:25\u001b[0m\n\u001b[1;32m     23\u001b[0m passive_coils_path \u001b[38;5;241m=\u001b[39m os\u001b[38;5;241m.\u001b[39menviron\u001b[38;5;241m.\u001b[39mget(\u001b[38;5;124m\"\u001b[39m\u001b[38;5;124mPASSIVE_COILS_PATH\u001b[39m\u001b[38;5;124m\"\u001b[39m, \u001b[38;5;28;01mNone\u001b[39;00m)\n\u001b[1;32m     24\u001b[0m \u001b[38;5;28;01mif\u001b[39;00m passive_coils_path \u001b[38;5;129;01mis\u001b[39;00m \u001b[38;5;28;01mNone\u001b[39;00m:\n\u001b[0;32m---> 25\u001b[0m     \u001b[38;5;28;01mraise\u001b[39;00m \u001b[38;5;167;01mValueError\u001b[39;00m(\u001b[38;5;124m\"\u001b[39m\u001b[38;5;124mPASSIVE_COILS_PATH environment variable not set.\u001b[39m\u001b[38;5;124m\"\u001b[39m)\n\u001b[1;32m     27\u001b[0m active_coils_path \u001b[38;5;241m=\u001b[39m os\u001b[38;5;241m.\u001b[39menviron\u001b[38;5;241m.\u001b[39mget(\u001b[38;5;124m\"\u001b[39m\u001b[38;5;124mACTIVE_COILS_PATH\u001b[39m\u001b[38;5;124m\"\u001b[39m, \u001b[38;5;28;01mNone\u001b[39;00m)\n\u001b[1;32m     28\u001b[0m \u001b[38;5;28;01mif\u001b[39;00m active_coils_path \u001b[38;5;129;01mis\u001b[39;00m \u001b[38;5;28;01mNone\u001b[39;00m:\n",
      "\u001b[0;31mValueError\u001b[0m: PASSIVE_COILS_PATH environment variable not set."
     ]
    }
   ],
   "source": [
    "from freegsnke import magnetic_probes\n",
    "\n",
    "flux_probe = magnetic_probes.probe(eq)"
   ]
  },
  {
   "cell_type": "code",
   "execution_count": null,
   "metadata": {},
   "outputs": [],
   "source": []
  }
 ],
 "metadata": {
  "kernelspec": {
   "display_name": "freegsnke",
   "language": "python",
   "name": "python3"
  },
  "language_info": {
   "codemirror_mode": {
    "name": "ipython",
    "version": 3
   },
   "file_extension": ".py",
   "mimetype": "text/x-python",
   "name": "python",
   "nbconvert_exporter": "python",
   "pygments_lexer": "ipython3",
   "version": "3.9.18"
  }
 },
 "nbformat": 4,
 "nbformat_minor": 2
}
