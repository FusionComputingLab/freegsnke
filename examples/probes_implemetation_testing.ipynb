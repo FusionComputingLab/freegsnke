{
 "cells": [
  {
   "cell_type": "markdown",
   "metadata": {},
   "source": [
    "## Setup Equilibrium object \n",
    "setting up eq object to use in testing the functionality of the Probe class.\n",
    "\n",
    "This just copies example_1 from the examples to generate a simple equilibrium."
   ]
  },
  {
   "cell_type": "code",
   "execution_count": 1,
   "metadata": {},
   "outputs": [],
   "source": [
    "# create and solve basic equilibrium.\n",
    "# taking Example_1 and putting it all here to use as eq for testing probes\n",
    "\n",
    "%load_ext autoreload\n",
    "%autoreload 2 \n",
    "\n",
    "\n",
    "import os\n",
    "import numpy as np \n",
    "\n",
    "os.environ[\"ACTIVE_COILS_PATH\"] = \"../machine_configs/MAST-U/active_coils_from_UDA.pickle\"\n",
    "os.environ[\"PASSIVE_COILS_PATH\"] = \"../machine_configs/MAST-U/passive_coils.pickle\"\n",
    "os.environ[\"WALL_PATH\"] = \"../machine_configs/MAST-U/wall.pickle\"\n",
    "os.environ[\"LIMITER_PATH\"] = \"../machine_configs/MAST-U/limiter.pickle\"\n",
    "# the following environment variable is optional, \n",
    "# it contains data on an equilibrium that is representative for the tokamak \n",
    "# for more info please refer to Example_0\n",
    "os.environ[\"EQUILIBRIUM_PATH\"] = \"../machine_configs/MAST-U/simple_initilization_equilibrium.pickle\"\n",
    "os.environ[\"PROBE_PATH\"] = \"../machine_configs/MAST-U/magnetic_probes.pickle\"\n",
    "# Now the machine can actually be built:\n",
    "from freegsnke import build_machine\n",
    "tokamak = build_machine.tokamak()\n",
    "\n",
    "from freegsnke import equilibrium_update\n",
    "from freegsnke.jtor_update import ConstrainPaxisIp\n",
    "from freegsnke import GSstaticsolver\n",
    "\n",
    "\n",
    "# seems to need to add in import freegs?\n",
    "import freegs"
   ]
  },
  {
   "cell_type": "code",
   "execution_count": 2,
   "metadata": {},
   "outputs": [
    {
     "name": "stdout",
     "output_type": "stream",
     "text": [
      "Equilibrium initialised using file provided as part of the machine description.\n"
     ]
    }
   ],
   "source": [
    "# create equilibirum object\n",
    "eq = equilibrium_update.Equilibrium(\n",
    "    tokamak=tokamak,\n",
    "    Rmin=0.1, Rmax=2.0,   # Radial range\n",
    "    Zmin=-2.2, Zmax=2.2,  # Vertical range\n",
    "    nx=65,   # Number of grid points in the radial direction\n",
    "    ny=129,  # Number of grid points in the vertical direction\n",
    "    # note that both nx and ny have to be of the form 2**i + 1 with i being an integer\n",
    "    # psi=plasma_psi\n",
    ")  \n",
    "\n",
    "\n",
    "# create profile object\n",
    "profiles = ConstrainPaxisIp(\n",
    "    eq=eq,\n",
    "    limiter=tokamak.limiter,\n",
    "    paxis=8e3,\n",
    "    Ip=6e5,\n",
    "    fvac=0.5,\n",
    "    alpha_m=1.8,\n",
    "    alpha_n=1.2\n",
    ")\n",
    "\n",
    "\n",
    "# load nonlinear solver\n",
    "GSStaticSolver = GSstaticsolver.NKGSsolver(eq)\n",
    "\n",
    "# setup initial conditions....\n",
    "# Set X-point coordinates\n",
    "Rx = 0.6\n",
    "Zx = 1.1\n",
    "xpoints = [(Rx, -Zx),   \n",
    "           (Rx,  Zx)]\n",
    "\n",
    "# Set any desired isoflux constraints,\n",
    "# these have structure (R1, Z1, R2, Z2)\n",
    "# where (R1, Z1) and (R2, Z2) are \n",
    "# desired to be on the same flux contour.\n",
    "Rmid = 1.4   # Outboard midplane\n",
    "Rin = 0.35    # Inboard midplane\n",
    "isoflux = [(Rx,Zx, Rx,-Zx), # link X-points\n",
    "           (Rmid, 0, Rin, 0.0), # link inner and outer midplane points\n",
    "           (Rmid, 0, Rx, Zx), # link outer midplane point and X-point\n",
    "\n",
    "        #   some additional constraints\n",
    "           (Rmid,0, 1.2,.7),\n",
    "           (Rmid,0, 1.2,-.7),\n",
    "           (Rx, Zx, .85, 1.7),\n",
    "           (Rx, Zx, .75, 1.6),\n",
    "           (Rx, Zx, Rin, 0.2),\n",
    "           (Rx, Zx, Rin, 0.1),\n",
    "           (Rx,-Zx, Rin, -0.1),\n",
    "           (Rx,-Zx, Rin, -0.2),\n",
    "           (Rx,-Zx, .85, -1.7),\n",
    "           (Rx,-Zx, .75, -1.6),\n",
    "           (Rx,-Zx, 0.45, -1.8),\n",
    "           (Rx, Zx, 0.45,  1.8),\n",
    "           ]\n",
    "           \n",
    "# Instantiate the constrain object\n",
    "constrain = freegs.control.constrain(xpoints=xpoints, \n",
    "                                     isoflux=isoflux,\n",
    "                                     gamma=5e-7\n",
    "                                    )\n",
    "\n",
    "# apply solver\n",
    "# GSStaticSolver.solve(eq=eq, \n",
    "#                      profiles=profiles, \n",
    "#                      constrain=constrain, \n",
    "#                      target_relative_tolerance=1e-3)\n",
    "\n"
   ]
  },
  {
   "cell_type": "code",
   "execution_count": 3,
   "metadata": {},
   "outputs": [],
   "source": [
    "#\n",
    "# inverse_current_values = eq.tokamak.getCurrents()\n",
    "\n",
    "# save coil currents to file\n",
    "import pickle\n",
    "with open('simple_diverted_currents_PaxisIp.pk', 'rb') as f:\n",
    "    currents = pickle.load(file=f)"
   ]
  },
  {
   "cell_type": "markdown",
   "metadata": {},
   "source": [
    "This is only the inverse solve, but will have coil and plasma currents that can be used by the probes.\n",
    "\n",
    "Let's set this up now."
   ]
  },
  {
   "cell_type": "markdown",
   "metadata": {},
   "source": [
    "FORWARD SOLVING INSTEAD"
   ]
  },
  {
   "cell_type": "code",
   "execution_count": 4,
   "metadata": {},
   "outputs": [],
   "source": [
    "\n",
    "for key in currents.keys():\n",
    "    eq.tokamak[key].current = currents[key]"
   ]
  },
  {
   "cell_type": "code",
   "execution_count": 5,
   "metadata": {},
   "outputs": [],
   "source": [
    "GSStaticSolver.solve(eq, \n",
    "                     profiles=profiles, \n",
    "                     constrain=None, \n",
    "                     target_relative_tolerance=1e-9)"
   ]
  },
  {
   "cell_type": "markdown",
   "metadata": {},
   "source": [
    "## Testing probe"
   ]
  },
  {
   "cell_type": "code",
   "execution_count": 20,
   "metadata": {},
   "outputs": [
    {
     "name": "stdout",
     "output_type": "stream",
     "text": [
      "number of flux loops 102\n",
      "number of pickups 398\n"
     ]
    }
   ],
   "source": [
    "\n",
    "from freegsnke import magnetic_probes\n",
    "\n",
    "# initialise a probe object.\n",
    "# testing flux loops\n",
    "test_probe = magnetic_probes.Probe(eq)\n",
    "print(\"number of flux loops\",len(test_probe.floops))\n",
    "print(\"number of pickups\",len(test_probe.pickups))\n",
    "\n"
   ]
  },
  {
   "cell_type": "markdown",
   "metadata": {},
   "source": [
    "Testing flux loop functions\n",
    "- check init works apropriateluy \n",
    "- check output of functions gives correct objects (i.e. dimension of arrays is right)\n",
    "\n"
   ]
  },
  {
   "cell_type": "code",
   "execution_count": 27,
   "metadata": {},
   "outputs": [
    {
     "name": "stdout",
     "output_type": "stream",
     "text": [
      "(699,)\n",
      "(65, 129)\n",
      "(102,)\n",
      "(102,)\n",
      "(65, 129, 102)\n",
      "(102,)\n",
      "-----\n",
      "[288.70987167 277.82199175 260.17917749 245.74684958 241.16261371\n",
      " 240.31592486 231.56960942 288.70889577 277.82100645 260.17824827\n",
      " 245.74603513 241.16172348 240.31503384 231.56925921 220.25552376\n",
      " 220.25560825 259.75256109 234.45466599 207.80610333 185.45863124\n",
      " 259.75145304 234.45326485 207.80454229 185.4579572  185.97568454\n",
      " 185.92279189 185.91430357 185.95025312 185.95024989 185.91429924\n",
      " 185.92278631 185.97567712 301.18114612 306.66228585 293.59361974\n",
      " 278.92018275 260.00903932 253.58879618 205.95568402 301.39942281\n",
      " 306.59830264 293.18794958 278.44882507 259.50462561 253.53669471\n",
      " 205.91782994 294.86357459 294.84740449 272.60825034 272.58860103\n",
      " 272.58776    294.84662614 272.60745073 294.8629124  307.43922716\n",
      " 296.83773231 307.43295631 296.82308409 307.43376723 296.82398478\n",
      " 307.43998718 296.83857103 280.82886431 226.36690315 280.82710238\n",
      " 226.3908038  280.82866467 226.3926849  280.83053924 226.36859387\n",
      " 176.36724021 124.56992014 176.39033164 124.58947036 176.39053089\n",
      " 124.58961821 176.36747482 124.5701358   79.88255956  79.88228256\n",
      "  79.84492298  79.84453721  79.79478024  79.7945722   63.15614862\n",
      "  63.15611157  63.15357073  63.15355069  63.15210693  63.15209673\n",
      "  63.15209828  63.15210848  63.15355319  63.15357325  63.15611537\n",
      "  63.15615247  79.79458654  79.79479461  79.84456865  79.8449546\n",
      "  79.88234088  79.88261806]\n",
      "(102,)\n"
     ]
    }
   ],
   "source": [
    "# test initialisation of attributes\n",
    "# print(test_probe.coil_names)\n",
    "# print(test_probe.floop_pos)\n",
    "# print(test_probe.floop_order)\n",
    "# print(test_probe.number_floops)\n",
    "# print(np.shape(test_probe.greens_psi_coils_floops))\n",
    "# print(np.shape(test_probe.greens_psi_plasma_floops))\n",
    "\n",
    "# testing methods\n",
    "print(test_probe.get_coil_currents(eq).shape)\n",
    "print(test_probe.get_plasma_current(eq).shape)\n",
    "print(np.shape(test_probe.greens_psi_single_coil('Solenoid')))\n",
    "print(np.shape(test_probe.psi_floop_all_coils(eq)))\n",
    "print(np.shape(test_probe.green_psi_plasma(eq)))\n",
    "print(np.shape(test_probe.psi_from_plasma(eq)))\n",
    "print(\"-----\")\n",
    "print(test_probe.calculate_fluxloop_value(eq))\n",
    "print(np.shape(test_probe.calculate_fluxloop_value(eq)))"
   ]
  },
  {
   "cell_type": "markdown",
   "metadata": {},
   "source": []
  },
  {
   "cell_type": "code",
   "execution_count": null,
   "metadata": {},
   "outputs": [],
   "source": [
    "from freegsnke import machine_config\n",
    "\n",
    "machine_config.coils_dict['Solenoid']['coords'][0]\n",
    "Rpos = test_probe.floop_pos_R\n",
    "Zpos = test_probe.floop_pos_Z"
   ]
  },
  {
   "cell_type": "code",
   "execution_count": null,
   "metadata": {},
   "outputs": [],
   "source": []
  },
  {
   "cell_type": "code",
   "execution_count": null,
   "metadata": {},
   "outputs": [],
   "source": []
  },
  {
   "cell_type": "code",
   "execution_count": null,
   "metadata": {},
   "outputs": [],
   "source": []
  },
  {
   "cell_type": "code",
   "execution_count": null,
   "metadata": {},
   "outputs": [],
   "source": [
    "\n",
    "# print(flux_probe.floop_pos)\n",
    "# print(test_probe.floop_pos_R)\n",
    "# print(test_probe.floop_pos_R.shape)\n",
    "print(test_probe.pickup_pos)\n",
    "print(\"---------\")\n",
    "sol_greens = test_probe.greens_psi_single_coil('Solenoid',test_probe.floop_pos_R,test_probe.floop_pos_Z)\n",
    "print(sol_greens)\n",
    "print(len(sol_greens))\n",
    "# print(flux_probe.greens_psi_all_coils(flux_probe.floop_pos_R,flux_probe.floop_pos_Z))\n",
    "# print(len(flux_probe.get_coil_currents(eq)))\n",
    "# print(len(flux_probe.psi_floop_all_coils(eq)))\n",
    "# print(len(flux_probe.psi_from_plasma(eq)))"
   ]
  },
  {
   "cell_type": "code",
   "execution_count": null,
   "metadata": {},
   "outputs": [],
   "source": [
    "sol_greens[6]\n",
    "sol_greens[7]"
   ]
  },
  {
   "cell_type": "code",
   "execution_count": null,
   "metadata": {},
   "outputs": [],
   "source": [
    "from freegs.gradshafranov import Greens, GreensBr, GreensBz\n",
    "\n",
    "pos_R = test_probe.pickup_pos_R\n",
    "pos_Z = test_probe.pickup_pos_Z\n",
    "greens_filaments = GreensBz(test_probe.coil_dict['Solenoid']['coords'][0],\n",
    "                            test_probe.coil_dict['Solenoid']['coords'][1],\n",
    "                            pos_R[:,np.newaxis],\n",
    "                            pos_Z[:,np.newaxis])\n",
    "print(greens_filaments)\n"
   ]
  },
  {
   "cell_type": "code",
   "execution_count": null,
   "metadata": {},
   "outputs": [],
   "source": [
    "[name  for name in eq.tokamak.getCurrents()]\n"
   ]
  },
  {
   "cell_type": "code",
   "execution_count": null,
   "metadata": {},
   "outputs": [],
   "source": []
  }
 ],
 "metadata": {
  "kernelspec": {
   "display_name": "freegsnke",
   "language": "python",
   "name": "python3"
  },
  "language_info": {
   "codemirror_mode": {
    "name": "ipython",
    "version": 3
   },
   "file_extension": ".py",
   "mimetype": "text/x-python",
   "name": "python",
   "nbconvert_exporter": "python",
   "pygments_lexer": "ipython3",
   "version": "3.9.18"
  }
 },
 "nbformat": 4,
 "nbformat_minor": 2
}
