{
 "cells": [
  {
   "cell_type": "markdown",
   "metadata": {},
   "source": [
    "## Pre-testing the implimenation of the magnetic probes.\n",
    "\n",
    "Figuring out things before putting into the probe class."
   ]
  },
  {
   "cell_type": "code",
   "execution_count": 3,
   "metadata": {},
   "outputs": [
    {
     "name": "stdout",
     "output_type": "stream",
     "text": [
      "The autoreload extension is already loaded. To reload it, use:\n",
      "  %reload_ext autoreload\n"
     ]
    }
   ],
   "source": [
    "# Create the machine, which specifies coil locations\n",
    "# and equilibrium, specifying the domain to solve over\n",
    "# this has to be either\n",
    "# freegs.machine.MASTU(), in which case:\n",
    "#tokamak = freegs.machine.MASTU()\n",
    "# or\n",
    "# MASTU_coils.MASTU_wpass()\n",
    "\n",
    "%load_ext autoreload\n",
    "%autoreload 2 \n",
    "\n",
    "\n",
    "import os\n",
    "import numpy as np\n",
    "os.environ[\"ACTIVE_COILS_PATH\"] = \"../machine_configs/MAST-U/active_coils.pickle\"\n",
    "os.environ[\"PASSIVE_COILS_PATH\"] = \"../machine_configs/MAST-U/passive_coils.pickle\"\n",
    "os.environ[\"WALL_PATH\"] = \"../machine_configs/MAST-U/wall.pickle\"\n",
    "os.environ[\"LIMITER_PATH\"] = \"../machine_configs/MAST-U/limiter.pickle\"\n",
    "os.environ[\"PROBE_PATH\"] = \"../machine_configs/MAST-U/magnetic_probes.pickle\"\n",
    "\n",
    "from freegsnke import machine_config\n",
    "from freegsnke import build_machine\n",
    "from freegsnke import faster_shape\n",
    "from freegsnke import magnetic_probes \n",
    "import freegs\n",
    "import pickle \n",
    "\n",
    "tokamak = build_machine.tokamak()\n",
    "\n",
    "\n",
    "# Creates equilibrium object \n",
    "eq = freegs.Equilibrium(tokamak=tokamak,\n",
    "                        #domains can be changed \n",
    "                        Rmin=0.1, Rmax=2.0,    # Radial domain\n",
    "                        Zmin=-2.2, Zmax=2.2,   # Height range\n",
    "                        #grid resolution can be changed\n",
    "                        nx=65, ny=129, # Number of grid points\n",
    "                        # psi=plasma_psi[::2,:])   \n",
    "                        )  \n",
    "\n"
   ]
  },
  {
   "cell_type": "code",
   "execution_count": null,
   "metadata": {},
   "outputs": [],
   "source": [
    "\n",
    "current_list = eq.tokamak.getCurrents()\n",
    "print(current_list)\n",
    "\n",
    "coil_names = [name for name in current_list]\n",
    "print(coil_names)"
   ]
  },
  {
   "cell_type": "code",
   "execution_count": null,
   "metadata": {},
   "outputs": [],
   "source": [
    "coil_names = [el for i, el in  enumerate(eq.tokamak.getCurrents())]\n",
    "print(coil_names)"
   ]
  },
  {
   "cell_type": "code",
   "execution_count": null,
   "metadata": {},
   "outputs": [],
   "source": [
    "probe_path = os.environ.get(\"PROBE_PATH\",None)\n",
    "\n",
    "with open(probe_path, 'rb') as file:\n",
    "    probe_dict = pickle.load(file) \n",
    "\n",
    "floops = probe_dict['flux_loops']\n",
    "pickups = probe_dict['pickups']\n",
    "\n",
    "floops_small = floops[:]\n",
    "floops_pos = np.array([item['position'] for item in floops_small])\n",
    "floops_pos_R = np.array([item['position'][0] for item in floops_small])\n",
    "floops_pos_Z = np.array([item['position'][1] for item in floops_small])\n",
    "\n",
    "print(floops_pos)\n",
    "print(floops_pos_R)\n",
    "print(floops_pos_Z)\n",
    "print(floops_pos_R.shape)\n",
    "# probes = magnetic_probes.probe(eq)"
   ]
  },
  {
   "cell_type": "code",
   "execution_count": null,
   "metadata": {},
   "outputs": [],
   "source": [
    "print(floops)"
   ]
  },
  {
   "cell_type": "code",
   "execution_count": null,
   "metadata": {},
   "outputs": [],
   "source": [
    "eq.tokamak.coils\n"
   ]
  },
  {
   "cell_type": "code",
   "execution_count": null,
   "metadata": {},
   "outputs": [],
   "source": [
    "eq.tokamak.createPsiGreens(floops_pos_R[0],floops_pos_Z[0])\n",
    "current_list = eq.tokamak.getCurrents()\n",
    "\n",
    "greens_2darray_floops = []\n",
    "for item in floops_small:\n",
    "    greens_2darray_floops.append(eq.tokamak.createPsiGreens(item['position'][0],item['position'][0]))"
   ]
  },
  {
   "cell_type": "code",
   "execution_count": null,
   "metadata": {},
   "outputs": [],
   "source": [
    "# print(len(current_list))\n",
    "# print(len(greens_2darray_floops[0]))\n",
    "# greens_list = []\n",
    "# psi_list = []\n",
    "# for item in current_list:\n",
    "#     greens_list.append(greens_2darray_floops[0][item])\n",
    "\n",
    "# for item in greens_list:\n",
    "#     psi_list.append()\n",
    "\n",
    "# print(len(current_list))\n",
    "# print(len(greens_list))\n",
    "\n"
   ]
  },
  {
   "cell_type": "code",
   "execution_count": null,
   "metadata": {},
   "outputs": [],
   "source": [
    "greens_2darray_floops\n",
    "print(len(greens_2darray_floops))\n",
    "arr =  np.array([1,2,3,4,5])\n",
    "newarr = arr[:,np.newaxis]\n",
    "\n",
    "mult = []\n",
    "for el in greens_2darray_floops:\n",
    "    # mult.append(greens_2darray_floops[el]*5)\n",
    "    print(el)\n",
    "\n"
   ]
  },
  {
   "cell_type": "code",
   "execution_count": null,
   "metadata": {},
   "outputs": [],
   "source": [
    "print(pickups)\n",
    "pickup_orientation = [el['orientation_vector'] for el in pickups]\n",
    "pickup_position = [el['position'] for el in pickups]\n",
    "print(pickup_orientation)\n",
    "\n",
    "pickup_orientation[1][0]"
   ]
  },
  {
   "cell_type": "code",
   "execution_count": null,
   "metadata": {},
   "outputs": [],
   "source": [
    "\n",
    "def pickup_value(eq):\n",
    "        \"\"\" \n",
    "        Computes value of B.n at each pickup probe postition.\n",
    "        Uses Br,Btor,Bz methods defined already for equilibrium object. \n",
    "        # i'm asumming that these already do the appropriate sums over the coils/grid/plasma etc.\n",
    "        \"\"\"\n",
    "        BdotN = []\n",
    "        for i, el in enumerate(pickups):\n",
    "            # only need r, z positions as B = B(r,z)\n",
    "            R,Z = pickup_position[i][0], pickup_position[i][2]\n",
    "            orientation_vec = pickup_orientation[i]\n",
    "            Bvec = [eq.Br(R,Z),eq.Btor(R,Z),eq.Bz(R,Z)]\n",
    "\n",
    "            BdotN.append(np.dot(Bvec,orientation_vec))\n",
    "        \n",
    "        return BdotN\n",
    "\n"
   ]
  },
  {
   "cell_type": "code",
   "execution_count": null,
   "metadata": {},
   "outputs": [],
   "source": [
    "from freegsnke import machine_config\n",
    "coildict = machine_config.coils_dict\n",
    "\n",
    "from freegs.gradshafranov import Greens ,GreensBr, GreensBz\n",
    "\n",
    " "
   ]
  },
  {
   "cell_type": "code",
   "execution_count": null,
   "metadata": {},
   "outputs": [],
   "source": [
    "print(coildict.keys())\n",
    "coildict['D1']['coords'][0]\n",
    "# coildict['D1']['coords'][0][:,np.newaxis]\n",
    "\n"
   ]
  },
  {
   "cell_type": "code",
   "execution_count": null,
   "metadata": {},
   "outputs": [],
   "source": [
    "greens_array = greens_coils()\n",
    "greens_array\n"
   ]
  },
  {
   "cell_type": "code",
   "execution_count": null,
   "metadata": {},
   "outputs": [],
   "source": [
    "# Numpy things... multiplyting arrays - matrix mult, \n",
    "list_1 = np.array([1,2,3,4,5,6,7,8,9])\n",
    "list_2 = np.array([5,4,3])\n",
    "list_3 = np.array([6,7,3])\n",
    "# multiplication is element wise\n",
    "print(list_2*list_3)\n",
    "print(list_2[:,np.newaxis])\n",
    "print(list_2[np.newaxis,:])\n",
    "\n",
    "print('list 1 = {}, \\nlist 2 = {}'.format(list_1,list_2))\n",
    "print('scalar multiplication \\n',list_1 *3 )\n",
    "print('outerproduct v1 \\n',list_1 *list_2[:,np.newaxis])\n",
    "print('outerproduct v2 \\n',list_1[:,np.newaxis]* list_2)\n",
    "print('outerproduct v3 \\n',list_1[np.newaxis,:]*list_2[:,np.newaxis])\n",
    "print('sum v1 axis 0 \\n', np.sum(list_1 *list_2[:,np.newaxis],axis = 0))\n",
    "print('sum v1 axis 1\\n ', np.sum(list_1 *list_2[:,np.newaxis],axis = 1))\n",
    "print('sum v2 axis = 0\\n', np.sum(list_1[:,np.newaxis]* list_2,axis = 0))\n",
    "print('sum v2 axis = 1\\n', np.sum(list_1[:,np.newaxis]* list_2,axis = 1))"
   ]
  },
  {
   "cell_type": "code",
   "execution_count": null,
   "metadata": {},
   "outputs": [],
   "source": [
    "# joining numpy arrays - np version of append...\n",
    "vstack = np.vstack((list_2,list_2))\n",
    "hstack = np.hstack((list_2,list_3))\n",
    "hstack2 = np.hstack((list_1,list_2))\n",
    "concat = np.concatenate((list_1,list_2),axis= 0)\n",
    "print(vstack)\n",
    "print(hstack)\n",
    "print(hstack2)\n",
    "print(concat)"
   ]
  },
  {
   "cell_type": "code",
   "execution_count": null,
   "metadata": {},
   "outputs": [],
   "source": [
    "print(Greens(1,1,list_3,list_3))\n",
    "list_4 = []\n",
    "for i , el in enumerate(list_1):\n",
    "    list_4.append(Greens(el,el,list_2[:,np.newaxis],list_2[:,np.newaxis]))\n",
    "print(list_4)\n",
    "print(np.sum(list_4, axis = 0))\n"
   ]
  },
  {
   "cell_type": "code",
   "execution_count": null,
   "metadata": {},
   "outputs": [],
   "source": [
    "def fun(x,y):\n",
    "    return x + y"
   ]
  },
  {
   "cell_type": "code",
   "execution_count": null,
   "metadata": {},
   "outputs": [],
   "source": [
    "y1 = fun(list_1,4)\n",
    "y2 = fun(list_1,list_2[:,np.newaxis])\n",
    "print(y2)\n",
    "y2.shape\n",
    "y3 = Greens(list_1,list_1,list_2[:,np.newaxis],list_3[:,np.newaxis])\n",
    "print(y3)\n",
    "print(y3.shape)\n",
    "\n"
   ]
  },
  {
   "cell_type": "code",
   "execution_count": null,
   "metadata": {},
   "outputs": [],
   "source": [
    "div = 1 / list_1\n",
    "div "
   ]
  },
  {
   "cell_type": "code",
   "execution_count": null,
   "metadata": {},
   "outputs": [],
   "source": [
    "# print(coildict[key]['coords'])\n",
    "# print(floops_pos_R[:,np.newaxis])\n",
    "\n",
    "def greens_coils():\n",
    "    greens_array = []\n",
    "    for key in coildict.keys():\n",
    "            pol = coildict[key]['polarity'][:,np.newaxis]\n",
    "            mul = coildict[key]['multiplier'][:,np.newaxis]\n",
    "            greens_array.append(np.sum(Greens(coildict[key]['coords'][0],\n",
    "                                   coildict[key]['coords'][1],\n",
    "                                   floops_pos_R[:,np.newaxis],\n",
    "                                   floops_pos_Z[:,np.newaxis]),axis= 1))\n",
    "            # greens_array.append(Greens(coildict[key]['coords'][0][:,np.newaxis],\n",
    "            #                        coildict[key]['coords'][1][:,np.newaxis],\n",
    "            #                        floops_pos_R,\n",
    "            #                        floops_pos_Z))\n",
    "    return greens_array\n",
    "def greens_coils2():\n",
    "    greens_array = []\n",
    "    for key in coildict.keys():\n",
    "            greens_array.append(Greens(coildict[key]['coords'][0],\n",
    "                                   coildict[key]['coords'][1],\n",
    "                                   floops_pos_R[:,np.newaxis],\n",
    "                                   floops_pos_Z[:,np.newaxis]))\n",
    "            \n",
    "    return greens_array\n",
    "\n",
    "def greens_coils3(key):\n",
    "    pol = coildict[key]['polarity'][np.newaxis,:]\n",
    "    mul = coildict[key]['multiplier'][np.newaxis,:]\n",
    "    greens = Greens(coildict[key]['coords'][0],\n",
    "                                   coildict[key]['coords'][1],\n",
    "                                   floops_pos_R[:,np.newaxis],\n",
    "                                   floops_pos_Z[:,np.newaxis])\n",
    "    greens *= pol\n",
    "    greens *= mul\n",
    "    return greens\n",
    "def greens_4():\n",
    "    arr = []\n",
    "    for key in coildict.keys():\n",
    "            a = np.sum(greens_coils3(key),axis =1)\n",
    "            arr.append(a)\n",
    "    return np.array(arr) "
   ]
  },
  {
   "cell_type": "code",
   "execution_count": null,
   "metadata": {},
   "outputs": [],
   "source": [
    "a = greens_coils3('Solenoid')\n",
    "print(a)\n",
    "print(a.shape)\n",
    "print(np.sum(a,axis=1))\n",
    "b = greens_4()\n",
    "print(b)\n",
    "print(b.shape)\n",
    "c = np.sum(b,axis=0)\n",
    "print(c)\n"
   ]
  },
  {
   "cell_type": "code",
   "execution_count": null,
   "metadata": {},
   "outputs": [],
   "source": [
    "pol = coildict['Solenoid']['polarity'][np.newaxis,:]\n",
    "mul = coildict['Solenoid']['multiplier'][:,np.newaxis]\n",
    "\n",
    "coiltest = greens_coils3('Solenoid')\n",
    "print(coiltest.shape)\n",
    "print(len(pol))\n",
    "print(pol.shape)\n",
    "coiltestnew = coiltest*pol\n",
    "print(coiltest)\n",
    "print(coiltestnew.shape)\n"
   ]
  },
  {
   "cell_type": "code",
   "execution_count": null,
   "metadata": {},
   "outputs": [],
   "source": [
    "print(len(coildict['D1']['coords'][0]))\n",
    "print(len(coildict['D1']['multiplier']))\n",
    "\n"
   ]
  },
  {
   "cell_type": "code",
   "execution_count": null,
   "metadata": {},
   "outputs": [],
   "source": [
    "array = np.array([[1,2,3],[4,5,6]])\n",
    "array2  =np.array([1,-1,0])\n",
    "array*array2"
   ]
  },
  {
   "cell_type": "code",
   "execution_count": null,
   "metadata": {},
   "outputs": [],
   "source": [
    "coil_names\n",
    "\n",
    "array_of_coil_currents = np.array([eq.tokamak[label].current for label in current_list])\n",
    "greens_all_coils = greens_4()\n",
    "print(len(array_of_coil_currents))\n",
    "print(len(greens_all_coils))\n",
    "\n",
    "psi_all_coils = greens_all_coils * array_of_coil_currents[:,np.newaxis]\n",
    "\n",
    "psi_sum_all_coils = np.sum(psi_all_coils,axis = 0)\n",
    "print(psi_sum_all_coils)"
   ]
  },
  {
   "cell_type": "code",
   "execution_count": null,
   "metadata": {},
   "outputs": [],
   "source": [
    "nx ,ny = 11,6\n",
    "Rmin, Rmax = 0,10\n",
    "Zmin, Zmax = 5 ,10\n",
    "\n",
    "R_1D = np.linspace(Rmin, Rmax, nx)\n",
    "Z_1D = np.linspace(Zmin, Zmax, ny)\n",
    "R, Z = np.meshgrid(R_1D, Z_1D, indexing=\"ij\")"
   ]
  },
  {
   "cell_type": "code",
   "execution_count": null,
   "metadata": {},
   "outputs": [],
   "source": [
    "R[np.newaxis , :,:]"
   ]
  },
  {
   "cell_type": "code",
   "execution_count": null,
   "metadata": {},
   "outputs": [],
   "source": [
    "X = Greens(R[:,:,np.newaxis],Z[:,:,np.newaxis],floops_pos_R[np.newaxis,np.newaxis,:],floops_pos_Z[np.newaxis,np.newaxis,:])\n",
    "Y = np.sum(X,axis = (1,2))\n",
    "print(X.shape)\n",
    "print(Y.shape)"
   ]
  },
  {
   "cell_type": "code",
   "execution_count": null,
   "metadata": {},
   "outputs": [],
   "source": [
    "eq._profiles.jtor"
   ]
  },
  {
   "cell_type": "code",
   "execution_count": null,
   "metadata": {},
   "outputs": [],
   "source": [
    "abc = [[1,2],[3,4],[5,6],[7,8]]\n",
    "abc[0][0]"
   ]
  },
  {
   "cell_type": "markdown",
   "metadata": {},
   "source": [
    "## Interfacing work "
   ]
  },
  {
   "cell_type": "code",
   "execution_count": null,
   "metadata": {},
   "outputs": [],
   "source": []
  }
 ],
 "metadata": {
  "kernelspec": {
   "display_name": "freegsnke",
   "language": "python",
   "name": "python3"
  },
  "language_info": {
   "codemirror_mode": {
    "name": "ipython",
    "version": 3
   },
   "file_extension": ".py",
   "mimetype": "text/x-python",
   "name": "python",
   "nbconvert_exporter": "python",
   "pygments_lexer": "ipython3",
   "version": "3.9.18"
  }
 },
 "nbformat": 4,
 "nbformat_minor": 2
}
